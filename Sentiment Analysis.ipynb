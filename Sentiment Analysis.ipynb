{
 "cells": [
  {
   "cell_type": "code",
   "execution_count": 1,
   "metadata": {
    "colab": {
     "base_uri": "https://localhost:8080/",
     "height": 80
    },
    "colab_type": "code",
    "executionInfo": {
     "elapsed": 4244,
     "status": "ok",
     "timestamp": 1575166046251,
     "user": {
      "displayName": "Neha Maiya",
      "photoUrl": "https://lh3.googleusercontent.com/a-/AAuE7mChCCAgcVpwB-Cvi8W4L_tipHMuZAOOHXbJk39y=s64",
      "userId": "15510439402968232809"
     },
     "user_tz": 480
    },
    "id": "F1QKK6-ONaPN",
    "outputId": "3368ed70-4534-46ea-ccaf-01001bb2dc54"
   },
   "outputs": [],
   "source": [
    "from glob import glob\n",
    "import pandas as pd\n",
    "import numpy as np\n",
    "from nltk.tokenize import word_tokenize\n",
    "from nltk.stem import PorterStemmer\n",
    "from nltk.stem import WordNetLemmatizer\n",
    "from sklearn.feature_extraction.text import CountVectorizer\n",
    "from sklearn.naive_bayes import MultinomialNB\n",
    "from sklearn.linear_model import LogisticRegression \n",
    "from sklearn.pipeline import make_pipeline, Pipeline\n",
    "from sklearn.metrics import classification_report\n",
    "from sklearn.model_selection import cross_val_score\n",
    "from sklearn.linear_model import SGDClassifier\n",
    "from sklearn.svm import LinearSVC\n",
    "from sklearn.ensemble import GradientBoostingClassifier\n",
    "from sklearn import svm\n",
    "from sklearn.feature_extraction.text import TfidfTransformer\n",
    "from sklearn.ensemble import RandomForestClassifier\n",
    "import itertools\n",
    "import re\n",
    "import os\n",
    "import string\n",
    "from sklearn.model_selection import train_test_split, RandomizedSearchCV\n",
    "from IPython.display import Image\n",
    "from math import ceil\n",
    "import seaborn as sns\n",
    "from tqdm import tqdm_notebook\n",
    "import warnings\n",
    "warnings.filterwarnings(action=\"ignore\")"
   ]
  },
  {
   "cell_type": "code",
   "execution_count": 2,
   "metadata": {
    "colab": {},
    "colab_type": "code",
    "id": "mKTYeN9GNaPU"
   },
   "outputs": [],
   "source": [
    "import os\n",
    "import random\n",
    "import re\n",
    "import nltk\n",
    "import time\n",
    "import matplotlib.pyplot as plt\n",
    "from sklearn.manifold import TSNE\n",
    "from sklearn.feature_selection import SelectKBest , f_classif\n",
    "from tqdm import tqdm as t\n",
    "from sklearn.feature_extraction.text import CountVectorizer, TfidfVectorizer\n",
    "\n",
    "from nltk.corpus import stopwords"
   ]
  },
  {
   "cell_type": "code",
   "execution_count": 3,
   "metadata": {
    "colab": {
     "base_uri": "https://localhost:8080/",
     "height": 17
    },
    "colab_type": "code",
    "executionInfo": {
     "elapsed": 1900,
     "status": "ok",
     "timestamp": 1575166118098,
     "user": {
      "displayName": "Neha Maiya",
      "photoUrl": "https://lh3.googleusercontent.com/a-/AAuE7mChCCAgcVpwB-Cvi8W4L_tipHMuZAOOHXbJk39y=s64",
      "userId": "15510439402968232809"
     },
     "user_tz": 480
    },
    "id": "zK-NUkcGNaPa",
    "outputId": "eb14bcc5-ef31-48e5-aba6-954d50c87dc8"
   },
   "outputs": [
    {
     "data": {
      "text/html": [
       "        <script type=\"text/javascript\">\n",
       "        window.PlotlyConfig = {MathJaxConfig: 'local'};\n",
       "        if (window.MathJax) {MathJax.Hub.Config({SVG: {font: \"STIX-Web\"}});}\n",
       "        if (typeof require !== 'undefined') {\n",
       "        require.undef(\"plotly\");\n",
       "        requirejs.config({\n",
       "            paths: {\n",
       "                'plotly': ['https://cdn.plot.ly/plotly-latest.min']\n",
       "            }\n",
       "        });\n",
       "        require(['plotly'], function(Plotly) {\n",
       "            window._Plotly = Plotly;\n",
       "        });\n",
       "        }\n",
       "        </script>\n",
       "        "
      ]
     },
     "metadata": {},
     "output_type": "display_data"
    }
   ],
   "source": [
    "import seaborn as sns\n",
    "from tqdm import tqdm_notebook\n",
    "\n",
    "from sklearn.metrics import confusion_matrix\n",
    "from sklearn.metrics import accuracy_score, precision_score, recall_score, f1_score\n",
    "from sklearn.model_selection import train_test_split, GridSearchCV\n",
    "from sklearn.feature_extraction.text import TfidfVectorizer, CountVectorizer\n",
    "from sklearn.naive_bayes import BernoulliNB\n",
    "from scipy.sparse import hstack, vstack\n",
    "\n",
    "from wordcloud import WordCloud, STOPWORDS\n",
    "from collections import defaultdict\n",
    "import plotly.graph_objs as go\n",
    "from plotly import tools\n",
    "import plotly.offline as py\n",
    "py.init_notebook_mode(connected=True)\n",
    "import textblob\n",
    "import string"
   ]
  },
  {
   "cell_type": "code",
   "execution_count": 4,
   "metadata": {},
   "outputs": [],
   "source": [
    "from gensim.parsing.preprocessing import remove_stopwords\n",
    "from gensim.parsing.preprocessing import strip_punctuation\n",
    "from gensim.parsing.preprocessing import strip_tags\n",
    "from gensim.parsing.preprocessing import strip_multiple_whitespaces\n",
    "import spacy\n",
    "import en_core_web_sm\n",
    "from spacy.lang.en import English\n",
    "en_core_web_sm.load()\n",
    "from  spacy.lang.en.stop_words import STOP_WORDS\n",
    "from nltk.corpus import stopwords\n"
   ]
  },
  {
   "cell_type": "code",
   "execution_count": 5,
   "metadata": {
    "colab": {},
    "colab_type": "code",
    "id": "CuIC4SMeNaPi",
    "outputId": "cdd71d65-938c-4597-eecc-28ca456d0982"
   },
   "outputs": [
    {
     "name": "stdout",
     "output_type": "stream",
     "text": [
      "['aclImdb', 'imdb.vocab', 'imdbEr.txt', 'README', 'test', 'train']\n"
     ]
    }
   ],
   "source": [
    "# printing the list directory to see what is avalable in aclImdb\n",
    "print(os.listdir('C:/Users/Neha Maiya/reviews/aclImdb'))"
   ]
  },
  {
   "cell_type": "code",
   "execution_count": 6,
   "metadata": {
    "colab": {},
    "colab_type": "code",
    "id": "I-IcZTYcNaPn"
   },
   "outputs": [],
   "source": [
    "PATH = 'C:/Users/Neha Maiya/reviews/aclImdb' "
   ]
  },
  {
   "cell_type": "code",
   "execution_count": 7,
   "metadata": {
    "colab": {},
    "colab_type": "code",
    "id": "3YBq39TwNaPu",
    "outputId": "32ca972d-f3a2-442b-ae74-c01eadc6e71e"
   },
   "outputs": [
    {
     "data": {
      "text/plain": [
       "'utf-8'"
      ]
     },
     "execution_count": 7,
     "metadata": {},
     "output_type": "execute_result"
    }
   ],
   "source": [
    "import sys\n",
    "sys.getdefaultencoding()"
   ]
  },
  {
   "cell_type": "code",
   "execution_count": 8,
   "metadata": {
    "colab": {},
    "colab_type": "code",
    "id": "hE9IkZY_NaP2"
   },
   "outputs": [],
   "source": [
    "#Separating train files to positive and negative\n",
    "posFiles = [x for x in os.listdir(PATH+\"/train/pos/\") if x.endswith(\".txt\")]\n",
    "negFiles = [x for x in os.listdir(PATH+\"/train/neg/\") if x.endswith(\".txt\")]"
   ]
  },
  {
   "cell_type": "code",
   "execution_count": 9,
   "metadata": {
    "colab": {},
    "colab_type": "code",
    "id": "TnGPg6XINaP9"
   },
   "outputs": [],
   "source": [
    "#Separating test files to positive and negative\n",
    "test_pos_Files= [x for x in os.listdir(PATH+\"/test/pos/\") if x.endswith(\".txt\")]\n",
    "test_neg_Files=[x for x in os.listdir(PATH+\"/test/neg/\") if x.endswith(\".txt\")]  "
   ]
  },
  {
   "cell_type": "code",
   "execution_count": 10,
   "metadata": {
    "colab": {},
    "colab_type": "code",
    "id": "n3wxPk19NaQC"
   },
   "outputs": [],
   "source": [
    "P_train=[]\n",
    "N_train=[]\n",
    "\n",
    "for nfile in negFiles:\n",
    "    with open(PATH+\"/train/neg/\"+nfile, encoding=\"utf-8\") as f:\n",
    "        N_train.append(f.read())\n",
    "for pfile in posFiles:\n",
    "    with open(PATH+\"/train/pos/\"+pfile, encoding=\"utf-8\") as f:\n",
    "        P_train.append(f.read())\n"
   ]
  },
  {
   "cell_type": "code",
   "execution_count": 11,
   "metadata": {
    "colab": {},
    "colab_type": "code",
    "id": "-24Dw-75NaQK"
   },
   "outputs": [],
   "source": [
    "P_test=[]\n",
    "N_test=[]\n",
    "for ptestfile in test_pos_Files:\n",
    "    with open(PATH+\"/test/pos/\"+ptestfile, encoding=\"utf-8\") as f:\n",
    "        P_test.append(f.read())\n",
    "for ntestfile in test_neg_Files:\n",
    "    with open(PATH+\"/test/neg/\"+ntestfile, encoding=\"utf-8\") as f:\n",
    "        N_test.append(f.read())"
   ]
  },
  {
   "cell_type": "code",
   "execution_count": 12,
   "metadata": {
    "colab": {},
    "colab_type": "code",
    "id": "4jU-Va_wNaQV",
    "outputId": "e385e1d7-f8b1-4cb4-8ee5-26c30db23e5d"
   },
   "outputs": [
    {
     "data": {
      "text/html": [
       "<div>\n",
       "<style scoped>\n",
       "    .dataframe tbody tr th:only-of-type {\n",
       "        vertical-align: middle;\n",
       "    }\n",
       "\n",
       "    .dataframe tbody tr th {\n",
       "        vertical-align: top;\n",
       "    }\n",
       "\n",
       "    .dataframe thead th {\n",
       "        text-align: right;\n",
       "    }\n",
       "</style>\n",
       "<table border=\"1\" class=\"dataframe\">\n",
       "  <thead>\n",
       "    <tr style=\"text-align: right;\">\n",
       "      <th></th>\n",
       "      <th>review</th>\n",
       "      <th>Label</th>\n",
       "      <th>file</th>\n",
       "    </tr>\n",
       "  </thead>\n",
       "  <tbody>\n",
       "    <tr>\n",
       "      <td>21492</td>\n",
       "      <td>I have copy of this on VHS, I think they (The ...</td>\n",
       "      <td>-1</td>\n",
       "      <td>6844_1.txt</td>\n",
       "    </tr>\n",
       "    <tr>\n",
       "      <td>9488</td>\n",
       "      <td>After several extremely well ratings to the po...</td>\n",
       "      <td>1</td>\n",
       "      <td>7290_10.txt</td>\n",
       "    </tr>\n",
       "    <tr>\n",
       "      <td>16933</td>\n",
       "      <td>I still don't know why I forced myself to sit ...</td>\n",
       "      <td>-1</td>\n",
       "      <td>2740_1.txt</td>\n",
       "    </tr>\n",
       "    <tr>\n",
       "      <td>12604</td>\n",
       "      <td>Mt little sister and I are self-proclaimed hor...</td>\n",
       "      <td>-1</td>\n",
       "      <td>10094_1.txt</td>\n",
       "    </tr>\n",
       "    <tr>\n",
       "      <td>8222</td>\n",
       "      <td>I have personally seen many Disney movies in m...</td>\n",
       "      <td>1</td>\n",
       "      <td>6150_7.txt</td>\n",
       "    </tr>\n",
       "  </tbody>\n",
       "</table>\n",
       "</div>"
      ],
      "text/plain": [
       "                                                  review  Label         file\n",
       "21492  I have copy of this on VHS, I think they (The ...     -1   6844_1.txt\n",
       "9488   After several extremely well ratings to the po...      1  7290_10.txt\n",
       "16933  I still don't know why I forced myself to sit ...     -1   2740_1.txt\n",
       "12604  Mt little sister and I are self-proclaimed hor...     -1  10094_1.txt\n",
       "8222   I have personally seen many Disney movies in m...      1   6150_7.txt"
      ]
     },
     "execution_count": 12,
     "metadata": {},
     "output_type": "execute_result"
    }
   ],
   "source": [
    "#  concatenating positive and negative files together in reviews_train\n",
    "reviews_train = pd.concat([\n",
    "    pd.DataFrame({\"review\":P_train, \"Label\":1, \"file\":posFiles}),\n",
    "    pd.DataFrame({\"review\":N_train, \"Label\":-1, \"file\":negFiles})\n",
    "], ignore_index=True).sample(frac=1, random_state=1)\n",
    "reviews_train.head()\n"
   ]
  },
  {
   "cell_type": "code",
   "execution_count": 13,
   "metadata": {
    "colab": {},
    "colab_type": "code",
    "id": "mEa9yTh6NaQa"
   },
   "outputs": [],
   "source": [
    "# change_names_test = reviews_test.columns.tolist()\n",
    "# change_names_test[change_names_test.index('Sentiment')] = 'Sentiment_Test'\n",
    "# reviews_test.columns = change_names_test"
   ]
  },
  {
   "cell_type": "code",
   "execution_count": 14,
   "metadata": {
    "colab": {},
    "colab_type": "code",
    "id": "2W4KTh2uNaQf",
    "outputId": "ca6704e8-21d6-463f-b10e-0e08f4bea5ef"
   },
   "outputs": [
    {
     "data": {
      "text/html": [
       "<div>\n",
       "<style scoped>\n",
       "    .dataframe tbody tr th:only-of-type {\n",
       "        vertical-align: middle;\n",
       "    }\n",
       "\n",
       "    .dataframe tbody tr th {\n",
       "        vertical-align: top;\n",
       "    }\n",
       "\n",
       "    .dataframe thead th {\n",
       "        text-align: right;\n",
       "    }\n",
       "</style>\n",
       "<table border=\"1\" class=\"dataframe\">\n",
       "  <thead>\n",
       "    <tr style=\"text-align: right;\">\n",
       "      <th></th>\n",
       "      <th>review</th>\n",
       "      <th>Label</th>\n",
       "      <th>file</th>\n",
       "    </tr>\n",
       "  </thead>\n",
       "  <tbody>\n",
       "    <tr>\n",
       "      <td>21492</td>\n",
       "      <td>A movie theater with a bad history of past gru...</td>\n",
       "      <td>-1</td>\n",
       "      <td>6844_2.txt</td>\n",
       "    </tr>\n",
       "    <tr>\n",
       "      <td>9488</td>\n",
       "      <td>\"Here On Earth\" is a surprising beautiful roma...</td>\n",
       "      <td>1</td>\n",
       "      <td>7290_10.txt</td>\n",
       "    </tr>\n",
       "    <tr>\n",
       "      <td>16933</td>\n",
       "      <td>I just watched Descent. Gawds what an awful mo...</td>\n",
       "      <td>-1</td>\n",
       "      <td>2740_3.txt</td>\n",
       "    </tr>\n",
       "    <tr>\n",
       "      <td>12604</td>\n",
       "      <td>In a nutshell the movie is about a gang war in...</td>\n",
       "      <td>-1</td>\n",
       "      <td>10094_4.txt</td>\n",
       "    </tr>\n",
       "    <tr>\n",
       "      <td>8222</td>\n",
       "      <td>Instead of watching the recycled history of \"P...</td>\n",
       "      <td>1</td>\n",
       "      <td>6150_7.txt</td>\n",
       "    </tr>\n",
       "  </tbody>\n",
       "</table>\n",
       "</div>"
      ],
      "text/plain": [
       "                                                  review  Label         file\n",
       "21492  A movie theater with a bad history of past gru...     -1   6844_2.txt\n",
       "9488   \"Here On Earth\" is a surprising beautiful roma...      1  7290_10.txt\n",
       "16933  I just watched Descent. Gawds what an awful mo...     -1   2740_3.txt\n",
       "12604  In a nutshell the movie is about a gang war in...     -1  10094_4.txt\n",
       "8222   Instead of watching the recycled history of \"P...      1   6150_7.txt"
      ]
     },
     "execution_count": 14,
     "metadata": {},
     "output_type": "execute_result"
    }
   ],
   "source": [
    "#concatenating positive and negative files together in reviews_test\n",
    "reviews_test = pd.concat([\n",
    "    pd.DataFrame({\"review\":P_test, \"Label\":1, \"file\":test_pos_Files}),\n",
    "    pd.DataFrame({\"review\":N_test, \"Label\":-1,\"file\":test_neg_Files})\n",
    "], ignore_index=True).sample(frac=1, random_state=1)\n",
    "reviews_test.head()"
   ]
  },
  {
   "cell_type": "code",
   "execution_count": 15,
   "metadata": {
    "colab": {},
    "colab_type": "code",
    "id": "k2Hd3qdaNaQj",
    "outputId": "fbb1de81-e64b-431d-ee0b-f394fdbc6d06"
   },
   "outputs": [
    {
     "data": {
      "text/html": [
       "<div>\n",
       "<style scoped>\n",
       "    .dataframe tbody tr th:only-of-type {\n",
       "        vertical-align: middle;\n",
       "    }\n",
       "\n",
       "    .dataframe tbody tr th {\n",
       "        vertical-align: top;\n",
       "    }\n",
       "\n",
       "    .dataframe thead th {\n",
       "        text-align: right;\n",
       "    }\n",
       "</style>\n",
       "<table border=\"1\" class=\"dataframe\">\n",
       "  <thead>\n",
       "    <tr style=\"text-align: right;\">\n",
       "      <th></th>\n",
       "      <th>review</th>\n",
       "      <th>Label</th>\n",
       "      <th>file</th>\n",
       "    </tr>\n",
       "  </thead>\n",
       "  <tbody>\n",
       "    <tr>\n",
       "      <td>21492</td>\n",
       "      <td>A movie theater with a bad history of past gru...</td>\n",
       "      <td>-1</td>\n",
       "      <td>6844_2.txt</td>\n",
       "    </tr>\n",
       "    <tr>\n",
       "      <td>9488</td>\n",
       "      <td>\"Here On Earth\" is a surprising beautiful roma...</td>\n",
       "      <td>1</td>\n",
       "      <td>7290_10.txt</td>\n",
       "    </tr>\n",
       "    <tr>\n",
       "      <td>16933</td>\n",
       "      <td>I just watched Descent. Gawds what an awful mo...</td>\n",
       "      <td>-1</td>\n",
       "      <td>2740_3.txt</td>\n",
       "    </tr>\n",
       "    <tr>\n",
       "      <td>12604</td>\n",
       "      <td>In a nutshell the movie is about a gang war in...</td>\n",
       "      <td>-1</td>\n",
       "      <td>10094_4.txt</td>\n",
       "    </tr>\n",
       "    <tr>\n",
       "      <td>8222</td>\n",
       "      <td>Instead of watching the recycled history of \"P...</td>\n",
       "      <td>1</td>\n",
       "      <td>6150_7.txt</td>\n",
       "    </tr>\n",
       "    <tr>\n",
       "      <td>9110</td>\n",
       "      <td>This is an incredibly compelling story, told w...</td>\n",
       "      <td>1</td>\n",
       "      <td>6950_10.txt</td>\n",
       "    </tr>\n",
       "    <tr>\n",
       "      <td>21196</td>\n",
       "      <td>I like underdogs. So, 12 years after having fi...</td>\n",
       "      <td>-1</td>\n",
       "      <td>6578_4.txt</td>\n",
       "    </tr>\n",
       "    <tr>\n",
       "      <td>17193</td>\n",
       "      <td>Okay, so I'm Singaporean and I would like to s...</td>\n",
       "      <td>-1</td>\n",
       "      <td>2975_2.txt</td>\n",
       "    </tr>\n",
       "    <tr>\n",
       "      <td>23846</td>\n",
       "      <td>**** MILD SPOILERS _ BUT YOU PROBABLY KNOW THE...</td>\n",
       "      <td>-1</td>\n",
       "      <td>8963_4.txt</td>\n",
       "    </tr>\n",
       "    <tr>\n",
       "      <td>10415</td>\n",
       "      <td>Bedrooms and Hallways gives its audience a loo...</td>\n",
       "      <td>1</td>\n",
       "      <td>8124_8.txt</td>\n",
       "    </tr>\n",
       "  </tbody>\n",
       "</table>\n",
       "</div>"
      ],
      "text/plain": [
       "                                                  review  Label         file\n",
       "21492  A movie theater with a bad history of past gru...     -1   6844_2.txt\n",
       "9488   \"Here On Earth\" is a surprising beautiful roma...      1  7290_10.txt\n",
       "16933  I just watched Descent. Gawds what an awful mo...     -1   2740_3.txt\n",
       "12604  In a nutshell the movie is about a gang war in...     -1  10094_4.txt\n",
       "8222   Instead of watching the recycled history of \"P...      1   6150_7.txt\n",
       "9110   This is an incredibly compelling story, told w...      1  6950_10.txt\n",
       "21196  I like underdogs. So, 12 years after having fi...     -1   6578_4.txt\n",
       "17193  Okay, so I'm Singaporean and I would like to s...     -1   2975_2.txt\n",
       "23846  **** MILD SPOILERS _ BUT YOU PROBABLY KNOW THE...     -1   8963_4.txt\n",
       "10415  Bedrooms and Hallways gives its audience a loo...      1   8124_8.txt"
      ]
     },
     "execution_count": 15,
     "metadata": {},
     "output_type": "execute_result"
    }
   ],
   "source": [
    "reviews_test.head(10)"
   ]
  },
  {
   "cell_type": "code",
   "execution_count": 16,
   "metadata": {
    "colab": {},
    "colab_type": "code",
    "id": "aeTyYjmlNaQo",
    "outputId": "e1a274e2-e1e2-473f-9038-0d066f2e478a"
   },
   "outputs": [
    {
     "name": "stdout",
     "output_type": "stream",
     "text": [
      "<class 'pandas.core.frame.DataFrame'>\n",
      "Int64Index: 25000 entries, 21492 to 235\n",
      "Data columns (total 3 columns):\n",
      "review    25000 non-null object\n",
      "Label     25000 non-null int64\n",
      "file      25000 non-null object\n",
      "dtypes: int64(1), object(2)\n",
      "memory usage: 781.2+ KB\n"
     ]
    }
   ],
   "source": [
    "reviews_train.info()"
   ]
  },
  {
   "cell_type": "code",
   "execution_count": 17,
   "metadata": {
    "colab": {},
    "colab_type": "code",
    "id": "gO7uOPA7NaQt",
    "outputId": "5cf84fbe-52df-4ca5-ef01-5d024006cce7"
   },
   "outputs": [
    {
     "data": {
      "text/html": [
       "<div>\n",
       "<style scoped>\n",
       "    .dataframe tbody tr th:only-of-type {\n",
       "        vertical-align: middle;\n",
       "    }\n",
       "\n",
       "    .dataframe tbody tr th {\n",
       "        vertical-align: top;\n",
       "    }\n",
       "\n",
       "    .dataframe thead th {\n",
       "        text-align: right;\n",
       "    }\n",
       "</style>\n",
       "<table border=\"1\" class=\"dataframe\">\n",
       "  <thead>\n",
       "    <tr style=\"text-align: right;\">\n",
       "      <th></th>\n",
       "      <th>Label</th>\n",
       "    </tr>\n",
       "  </thead>\n",
       "  <tbody>\n",
       "    <tr>\n",
       "      <td>count</td>\n",
       "      <td>25000.00000</td>\n",
       "    </tr>\n",
       "    <tr>\n",
       "      <td>mean</td>\n",
       "      <td>0.00000</td>\n",
       "    </tr>\n",
       "    <tr>\n",
       "      <td>std</td>\n",
       "      <td>1.00002</td>\n",
       "    </tr>\n",
       "    <tr>\n",
       "      <td>min</td>\n",
       "      <td>-1.00000</td>\n",
       "    </tr>\n",
       "    <tr>\n",
       "      <td>25%</td>\n",
       "      <td>-1.00000</td>\n",
       "    </tr>\n",
       "    <tr>\n",
       "      <td>50%</td>\n",
       "      <td>0.00000</td>\n",
       "    </tr>\n",
       "    <tr>\n",
       "      <td>75%</td>\n",
       "      <td>1.00000</td>\n",
       "    </tr>\n",
       "    <tr>\n",
       "      <td>max</td>\n",
       "      <td>1.00000</td>\n",
       "    </tr>\n",
       "  </tbody>\n",
       "</table>\n",
       "</div>"
      ],
      "text/plain": [
       "             Label\n",
       "count  25000.00000\n",
       "mean       0.00000\n",
       "std        1.00002\n",
       "min       -1.00000\n",
       "25%       -1.00000\n",
       "50%        0.00000\n",
       "75%        1.00000\n",
       "max        1.00000"
      ]
     },
     "execution_count": 17,
     "metadata": {},
     "output_type": "execute_result"
    }
   ],
   "source": [
    "reviews_train.describe()"
   ]
  },
  {
   "cell_type": "code",
   "execution_count": 18,
   "metadata": {
    "colab": {},
    "colab_type": "code",
    "id": "hgFS-psMNaQy",
    "outputId": "4cfb9ad6-0515-4fd7-835c-7b3eb88709d9"
   },
   "outputs": [
    {
     "data": {
      "text/plain": [
       "(25000, 3)"
      ]
     },
     "execution_count": 18,
     "metadata": {},
     "output_type": "execute_result"
    }
   ],
   "source": [
    "reviews_train.shape"
   ]
  },
  {
   "cell_type": "code",
   "execution_count": 19,
   "metadata": {
    "colab": {},
    "colab_type": "code",
    "id": "0U0xlcVENaQ8",
    "outputId": "79d2ef31-ccdd-4178-f0ae-af697284e8d5"
   },
   "outputs": [
    {
     "data": {
      "text/plain": [
       "-1    12500\n",
       " 1    12500\n",
       "Name: Label, dtype: int64"
      ]
     },
     "execution_count": 19,
     "metadata": {},
     "output_type": "execute_result"
    }
   ],
   "source": [
    "reviews_train['Label'].value_counts()"
   ]
  },
  {
   "cell_type": "code",
   "execution_count": 20,
   "metadata": {
    "colab": {},
    "colab_type": "code",
    "id": "0ZOTa3h6NaRC",
    "outputId": "1dc28226-3ac9-4839-9ce6-9f0e41ee5fa0"
   },
   "outputs": [
    {
     "data": {
      "text/plain": [
       "<matplotlib.axes._subplots.AxesSubplot at 0x1dfc06cabc8>"
      ]
     },
     "execution_count": 20,
     "metadata": {},
     "output_type": "execute_result"
    },
    {
     "data": {
      "image/png": "[encoded data removed]",
      "text/plain": [
       "<Figure size 432x360 with 1 Axes>"
      ]
     },
     "metadata": {},
     "output_type": "display_data"
    }
   ],
   "source": [
    "sns.set(rc={'figure.figsize':(6,5)})\n",
    "sns.countplot(reviews_train['Label'])"
   ]
  },
  {
   "cell_type": "code",
   "execution_count": 21,
   "metadata": {
    "colab": {},
    "colab_type": "code",
    "id": "5JRxa57pNaRI",
    "outputId": "f786a184-c6b6-49ff-deb8-79b4c8adbd9b"
   },
   "outputs": [
    {
     "data": {
      "image/png": "[encoded data removed]",
      "text/plain": [
       "<Figure size 432x360 with 1 Axes>"
      ]
     },
     "metadata": {},
     "output_type": "display_data"
    }
   ],
   "source": [
    "#character count\n",
    "reviews_train[reviews_train['Label']==1]['review'].apply(lambda y: np.log1p(len(y))).hist(alpha=0.5, color='blue', label='Positive')\n",
    "reviews_train[reviews_train['Label']==-1]['review'].apply(lambda y: np.log1p(len(y))).hist(alpha=0.5, color='yellow', label='Negative')\n",
    "plt.title('Character count for reviews')\n",
    "plt.legend();\n",
    "# alpha is for the darkness of color"
   ]
  },
  {
   "cell_type": "code",
   "execution_count": 22,
   "metadata": {},
   "outputs": [
    {
     "name": "stdout",
     "output_type": "stream",
     "text": [
      "<class 'pandas.core.frame.DataFrame'>\n",
      "Int64Index: 25000 entries, 21492 to 235\n",
      "Data columns (total 3 columns):\n",
      "review    25000 non-null object\n",
      "Label     25000 non-null int64\n",
      "file      25000 non-null object\n",
      "dtypes: int64(1), object(2)\n",
      "memory usage: 781.2+ KB\n"
     ]
    }
   ],
   "source": [
    "# here we can find if there are any missing data and no missing data\n",
    "reviews_test.info() "
   ]
  },
  {
   "cell_type": "code",
   "execution_count": 23,
   "metadata": {
    "colab": {},
    "colab_type": "code",
    "id": "aOqKTDsrNaRM",
    "outputId": "0a8cdf14-cf8b-4846-941c-33d38c998439"
   },
   "outputs": [
    {
     "data": {
      "text/plain": [
       "(25000, 3)"
      ]
     },
     "execution_count": 23,
     "metadata": {},
     "output_type": "execute_result"
    }
   ],
   "source": [
    "reviews_test.shape"
   ]
  },
  {
   "cell_type": "code",
   "execution_count": 24,
   "metadata": {
    "colab": {},
    "colab_type": "code",
    "id": "7tBk7_qsNaRP",
    "outputId": "3a5d27b2-59fb-400a-ca1e-6fd96b386b76"
   },
   "outputs": [
    {
     "data": {
      "text/plain": [
       "array([-1,  1], dtype=int64)"
      ]
     },
     "execution_count": 24,
     "metadata": {},
     "output_type": "execute_result"
    }
   ],
   "source": [
    "reviews_test['Label'].unique()"
   ]
  },
  {
   "cell_type": "code",
   "execution_count": 25,
   "metadata": {
    "colab": {},
    "colab_type": "code",
    "id": "wdtgR0a1NaRg"
   },
   "outputs": [],
   "source": [
    "stopWords = stopwords.words('english')"
   ]
  },
  {
   "cell_type": "code",
   "execution_count": 26,
   "metadata": {
    "colab": {},
    "colab_type": "code",
    "id": "TjfPNL4hNaRl"
   },
   "outputs": [],
   "source": [
    "#snowballstemmer = SnowballStemmer('english')"
   ]
  },
  {
   "cell_type": "code",
   "execution_count": 27,
   "metadata": {
    "colab": {},
    "colab_type": "code",
    "id": "EUCGjep4NaRn"
   },
   "outputs": [],
   "source": [
    "lemmatizer = WordNetLemmatizer()\n"
   ]
  },
  {
   "cell_type": "code",
   "execution_count": 28,
   "metadata": {
    "colab": {},
    "colab_type": "code",
    "id": "aVEt89NvNaRw"
   },
   "outputs": [],
   "source": [
    "#Data preprocessing\n",
    "#Here we remove html tags, urls, special characters,Lemmanatize- \n",
    "#which is better than stemmng as it gives a proper word after cutting\n",
    "def rmvhtmltags(text):\n",
    "    remreg = re.compile('<.*?>')\n",
    "    cleartext = re.sub(remreg, '', text)\n",
    "    return text\n",
    "\n",
    "def remove_urls (vTEXT):\n",
    "    vTEXT = re.sub(r'(https|http)?:\\/\\/(\\w|\\.|\\/|\\?|\\=|\\&|\\%)*\\b', '', vTEXT, flags=re.MULTILINE)\n",
    "    return(vTEXT)\n",
    "\n",
    "def rmvspclcharacter(text):\n",
    "    clearspcl = re.sub(r'[^A-Za-z0-9\\s.]', r'', str(text).lower())\n",
    "    clearspcl = re.sub(r'\\n', r' ', text)    \n",
    "    clearspcl = \" \".join([word for word in text.split() if word not in stopWords])\n",
    "    return text\n",
    "\n",
    "def stemming_text(text):\n",
    "    stemmed_words = [snowballstemmer.stem(word) for word in text.split()]\n",
    "    return('  '.join(stemmed_words))\n",
    "    \n",
    "def lemmatize_words(text):\n",
    "    lemmatized_words = [lemmatizer.lemmatize(word, 'v') for word in text.split()]\n",
    "    return('  '.join(lemmatized_words))"
   ]
  },
  {
   "cell_type": "code",
   "execution_count": 29,
   "metadata": {
    "colab": {},
    "colab_type": "code",
    "id": "zdGz33HbNaR2"
   },
   "outputs": [],
   "source": [
    "# A function dataprocessing is defined where all other functions are included\n",
    "def dataprocessing(x):\n",
    "    x = rmvhtmltags(x)\n",
    "    x = remove_urls(x)\n",
    "    x = x.lower()\n",
    "    x = rmvspclcharacter(x)\n",
    "    x = remove_stopwords(x)\n",
    "    x = strip_punctuation(x)\n",
    "    x = strip_multiple_whitespaces(x)\n",
    "    x = lemmatize_words(x)\n",
    "    #x = stemming_text(x)\n",
    "    \n",
    "    x=' '.join([re.sub(r'\\d+', '',i) for i in word_tokenize(x)])\n",
    "    return x"
   ]
  },
  {
   "cell_type": "code",
   "execution_count": 30,
   "metadata": {},
   "outputs": [
    {
     "data": {
      "text/plain": [
       "'In this \"critically acclaimed psychological thriller based on true events, Gabriel (Robin Williams), a celebrated writer and late-night talk show host, becomes captivated by the harrowing story of a young listener and his adoptive mother (Toni Collette). When troubling questions arise about this boy\\'s (story), however, Gabriel finds himself drawn into a widening mystery that hides a deadly secret\\x85\" according to film\\'s official synopsis.<br /><br />You really should STOP reading these comments, and watch the film NOW...<br /><br />The \"How did he lose his leg?\" ending, with Ms. Collette planning her new life, should be chopped off, and sent to \"deleted scenes\" land. It\\'s overkill. The true nature of her physical and mental ailments should be obvious, by the time Mr. Williams returns to New York. Possibly, her blindness could be in question - but a revelation could have be made certain in either the \"highway\" or \"video tape\" scenes. The film would benefit from a re-editing - how about a \"director\\'s cut\"? <br /><br />Williams and Bobby Cannavale (as Jess) don\\'t seem, initially, believable as a couple. A scene or two establishing their relationship might have helped set the stage. Otherwise, the cast is exemplary. Williams offers an exceptionally strong characterization, and not a \"gay impersonation\". Sandra Oh (as Anna), Joe Morton (as Ashe), and Rory Culkin (Pete Logand) are all perfect.<br /><br />Best of all, Collette\\'s \"Donna\" belongs in the creepy hall of fame. Ms. Oh is correct in saying Collette might be, \"you know, like that guy from \\'Psycho\\'.\" There have been several years when organizations giving acting awards seemed to reach for women, due to a slighter dispersion of roles; certainly, they could have noticed Collette with some award consideration. She is that good. And, director Patrick Stettner definitely evokes Hitchcock - he even makes getting a sandwich from a vending machine suspenseful.<br /><br />Finally, writers Stettner, Armistead Maupin, and Terry Anderson deserve gratitude from flight attendants everywhere.<br /><br />******* The Night Listener (1/21/06) Patrick Stettner ~ Robin Williams, Toni Collette, Sandra Oh, Rory Culkin'"
      ]
     },
     "execution_count": 30,
     "metadata": {},
     "output_type": "execute_result"
    }
   ],
   "source": [
    "#before data preprocessing for training datasets\n",
    "reviews_train['review'][7]"
   ]
  },
  {
   "cell_type": "code",
   "execution_count": 31,
   "metadata": {
    "colab": {},
    "colab_type": "code",
    "id": "M3gbLW3aNaR5"
   },
   "outputs": [],
   "source": [
    "reviews_train['review'] = reviews_train['review'].map(lambda x: dataprocessing(x))"
   ]
  },
  {
   "cell_type": "code",
   "execution_count": 32,
   "metadata": {
    "colab": {},
    "colab_type": "code",
    "id": "VDHHVkMMNaR9",
    "outputId": "fb95a43d-e774-4d33-ae6f-ecb4960a5e49"
   },
   "outputs": [
    {
     "data": {
      "text/plain": [
       "'critically acclaim psychological thriller base true events gabriel robin williams celebrate writer late night talk host captivate harrow story young listener adoptive mother toni collette trouble question arise boy s story however gabriel find draw widen mystery hide deadly secret accord film s official synopsis br br you stop read comment watch film now br br the how lose leg end ms collette plan new life chop off send delete scenes land it s overkill true nature physical mental ailments obvious time mr williams return new york possibly blindness question revelation certain highway video tape scenes film benefit re edit director s cut br br williams bobby cannavale as jess don t seem initially believable couple scene establish relationship help set stage otherwise cast exemplary williams offer exceptionally strong characterization gay impersonation sandra oh as anna joe morton as ashe rory culkin pete logand perfect br br best all collette s donna belong creepy hall fame ms oh correct say collette be you know like guy psycho years organizations give act award reach women slighter dispersion roles certainly notice collette award consideration good and director patrick stettner definitely evoke hitchcock make get sandwich vend machine suspenseful br br finally writers stettner armistead maupin terry anderson deserve gratitude flight attendants everywhere br br night listener    patrick stettner robin williams toni collette sandra oh rory culkin'"
      ]
     },
     "execution_count": 32,
     "metadata": {},
     "output_type": "execute_result"
    }
   ],
   "source": [
    "#after data preprocessing for training datasets\n",
    "reviews_train['review'][7]"
   ]
  },
  {
   "cell_type": "code",
   "execution_count": 33,
   "metadata": {},
   "outputs": [
    {
     "data": {
      "text/plain": [
       "'I saw this film on September 1st, 2005 in Indianapolis. I am one of the judges for the Heartland Film Festival that screens films for their Truly Moving Picture Award. A Truly Moving Picture \"...explores the human journey by artistically expressing hope and respect for the positive values of life.\" Heartland gave that award to this film.<br /><br />This is a story of golf in the early part of the 20th century. At that time, it was the game of upper class and rich \"gentlemen\", and working people could only participate by being caddies at country clubs. With this backdrop, this based-on-a-true-story unfolds with a young, working class boy who takes on the golf establishment and the greatest golfer in the world, Harry Vardon.<br /><br />And the story is inspirational. Against all odds, Francis Ouimet (played by Shia LaBeouf of \"Holes\") gets to compete against the greatest golfers of the U.S. and Great Britain at the 1913 U.S. Open. Francis is ill-prepared, and has a child for a caddy. (The caddy is hilarious and motivational and steals every scene he appears in.) But despite these handicaps, Francis displays courage, spirit, heroism, and humility at this world class event.<br /><br />And, we learn a lot about the early years of golf; for example, the use of small wooden clubs, the layout of the short holes, the manual scoreboard, the golfers swinging with pipes in their mouths, the terrible conditions of the greens and fairways, and the play not being canceled even in torrential rain.<br /><br />This film has stunning cinematography and art direction and editing. And with no big movie stars, the story is somehow more believable.<br /><br />This adds to the inventory of great sports movies in the vein of \"Miracle\" and \"Remember the Titans.\"<br /><br />FYI - There is a Truly Moving Pictures web site where there is a listing of past winners going back 70 years.'"
      ]
     },
     "execution_count": 33,
     "metadata": {},
     "output_type": "execute_result"
    }
   ],
   "source": [
    "#before data preprocessing for testing data\n",
    "reviews_test['review'][5]"
   ]
  },
  {
   "cell_type": "code",
   "execution_count": 34,
   "metadata": {
    "colab": {},
    "colab_type": "code",
    "id": "k1unSKsJNaSa",
    "outputId": "805a5880-5c56-4be0-ae38-c50de574a85e"
   },
   "outputs": [],
   "source": [
    "reviews_test['review'] = reviews_test['review'].map(lambda x: dataprocessing(x))"
   ]
  },
  {
   "cell_type": "code",
   "execution_count": 35,
   "metadata": {},
   "outputs": [
    {
     "data": {
      "text/plain": [
       "'saw film september st  indianapolis judge heartland film festival screen film truly move picture award truly move picture explore human journey artistically express hope respect positive value life heartland give award film br br this story golf early th century time game upper class rich gentlemen work people participate caddy country club backdrop base on a true story unfold young work class boy take golf establishment greatest golfer world harry vardon br br and story inspirational odds francis ouimet play shia labeouf hole get compete greatest golfers u s great britain  u s open francis ill prepare child caddy the caddy hilarious motivational steal scene appear in despite handicap francis display courage spirit heroism humility world class event br br and learn lot early years golf example use small wooden club layout short hole manual scoreboard golfers swing pip mouth terrible condition green fairways play cancel torrential rain br br this film stun cinematography art direction edit big movie star story believable br br this add inventory great sport movies vein miracle remember titans br br fyi truly move picture web site list past winners go  years'"
      ]
     },
     "execution_count": 35,
     "metadata": {},
     "output_type": "execute_result"
    }
   ],
   "source": [
    "#after data preprocessing for testing datasets\n",
    "reviews_test['review'][5]"
   ]
  },
  {
   "cell_type": "code",
   "execution_count": 36,
   "metadata": {
    "colab": {},
    "colab_type": "code",
    "id": "IaZ6SP5tNaSd"
   },
   "outputs": [],
   "source": [
    "# separating them into lists\n",
    "y_train_label = reviews_train['Label'].tolist()\n",
    "x_train_review = reviews_train['review'].tolist()\n",
    "\n",
    "y_test_label = reviews_test['Label'].tolist()\n",
    "x_test_review = reviews_test['review'].tolist()"
   ]
  },
  {
   "cell_type": "code",
   "execution_count": 37,
   "metadata": {},
   "outputs": [],
   "source": [
    "# word cloud after dataprocessing to see positive and negative words\n",
    "def wc_plot(label, title):\n",
    "    wordcloud = WordCloud(background_color='black',\n",
    "                          stopwords=set(STOPWORDS),\n",
    "                          max_words=300,\n",
    "                          max_font_size=70,\n",
    "                          random_state=42,\n",
    "                          width=750,\n",
    "                          height=500,\n",
    "                          mask=None)\n",
    "    wordcloud.generate(str(label))\n",
    "    plt.figure(figsize=(15.0,10.0))\n",
    "    plt.axis('off')\n",
    "    plt.title(title)\n",
    "    plt.imshow(wordcloud);\n"
   ]
  },
  {
   "cell_type": "code",
   "execution_count": 38,
   "metadata": {},
   "outputs": [
    {
     "data": {
      "image/png": "[encoded data removed]",
      "text/plain": [
       "<Figure size 1080x720 with 1 Axes>"
      ]
     },
     "metadata": {},
     "output_type": "display_data"
    }
   ],
   "source": [
    "wc_plot(reviews_train[reviews_train['Label']==1]['review'], 'Positive reviews')"
   ]
  },
  {
   "cell_type": "code",
   "execution_count": 39,
   "metadata": {},
   "outputs": [
    {
     "data": {
      "image/png": "[encoded data removed]",
      "text/plain": [
       "<Figure size 1080x720 with 1 Axes>"
      ]
     },
     "metadata": {},
     "output_type": "display_data"
    }
   ],
   "source": [
    "wc_plot(reviews_train[reviews_train['Label']==-1]['review'], 'Negative reviews')"
   ]
  },
  {
   "cell_type": "code",
   "execution_count": 40,
   "metadata": {
    "colab": {},
    "colab_type": "code",
    "id": "ELvs8gNzNaS6"
   },
   "outputs": [],
   "source": [
    "X_train, X_test, y_train, y_test = train_test_split(x_train_review, y_train_label, test_size=0.3, random_state = 42)"
   ]
  },
  {
   "cell_type": "markdown",
   "metadata": {},
   "source": [
    "### Logistic regression using cross validation for tfidftransformer + count vectorizer"
   ]
  },
  {
   "cell_type": "code",
   "execution_count": 41,
   "metadata": {},
   "outputs": [
    {
     "name": "stdout",
     "output_type": "stream",
     "text": [
      "Cross Validation for Logistic regression on Count Vectorizer and TFID Transformer\n"
     ]
    },
    {
     "data": {
      "text/plain": [
       "array([0.87624272, 0.88136465, 0.87862164])"
      ]
     },
     "execution_count": 41,
     "metadata": {},
     "output_type": "execute_result"
    }
   ],
   "source": [
    "model = Pipeline([('vect', CountVectorizer()),\n",
    "                     ('tfidf', TfidfTransformer()),\n",
    "                     ('clf', LogisticRegression()),])\n",
    "model =model.fit(X_train, y_train)\n",
    "print(\"Cross Validation for Logistic regression on Count Vectorizer and TFID Transformer\")\n",
    "cross_val_score(model, X_train, y_train, cv=3)"
   ]
  },
  {
   "cell_type": "markdown",
   "metadata": {},
   "source": [
    "### Linear SVC(SVM) using cross validation for tfidftransformer + count vectorizer"
   ]
  },
  {
   "cell_type": "code",
   "execution_count": 42,
   "metadata": {},
   "outputs": [
    {
     "name": "stdout",
     "output_type": "stream",
     "text": [
      "Cross Validation for SVM on Count Vectorizer and TFID Transformer\n"
     ]
    },
    {
     "data": {
      "text/plain": [
       "array([0.87829962, 0.88033602, 0.88102177])"
      ]
     },
     "execution_count": 42,
     "metadata": {},
     "output_type": "execute_result"
    }
   ],
   "source": [
    "modelsvm = Pipeline([('vect', CountVectorizer()),\n",
    "                     ('tfidf', TfidfTransformer()),\n",
    "                     ('clf', LinearSVC()),])\n",
    "modelsvm =modelsvm.fit(X_train, y_train)\n",
    "print(\"Cross Validation for SVM on Count Vectorizer and TFID Transformer\")\n",
    "cross_val_score(modelsvm, X_train, y_train, cv=3)"
   ]
  },
  {
   "cell_type": "markdown",
   "metadata": {},
   "source": [
    "### Naive Bayes using cross validation for tfidftransformer + count vectorizer"
   ]
  },
  {
   "cell_type": "code",
   "execution_count": 43,
   "metadata": {},
   "outputs": [
    {
     "name": "stdout",
     "output_type": "stream",
     "text": [
      "Cross Validation for Naive Bayes on Count Vectorizer and TFID Transformer\n"
     ]
    },
    {
     "data": {
      "text/plain": [
       "array([0.85241687, 0.86027773, 0.85547746])"
      ]
     },
     "execution_count": 43,
     "metadata": {},
     "output_type": "execute_result"
    }
   ],
   "source": [
    "modelnb = Pipeline([('vect', CountVectorizer()),\n",
    "                     ('tfidf', TfidfTransformer()),\n",
    "                     ('clf', MultinomialNB()),])\n",
    "modelnb =modelnb.fit(X_train, y_train)\n",
    "print(\"Cross Validation for Naive Bayes on Count Vectorizer and TFID Transformer\")\n",
    "cross_val_score(modelnb, X_train, y_train, cv=3)"
   ]
  },
  {
   "cell_type": "markdown",
   "metadata": {},
   "source": [
    "### Random Forest using cross validation for tfidftransformer + count vectorizer"
   ]
  },
  {
   "cell_type": "code",
   "execution_count": 44,
   "metadata": {},
   "outputs": [
    {
     "name": "stdout",
     "output_type": "stream",
     "text": [
      "Cross Validation for Random Forest on Count Vectorizer and TFID Transformer\n"
     ]
    },
    {
     "data": {
      "text/plain": [
       "array([0.74974289, 0.73718498, 0.74987142])"
      ]
     },
     "execution_count": 44,
     "metadata": {},
     "output_type": "execute_result"
    }
   ],
   "source": [
    "modelrf = Pipeline([('vect', CountVectorizer()),\n",
    "                     ('tfidf', TfidfTransformer()),\n",
    "                     ('clf', RandomForestClassifier()),])\n",
    "modelrf =modelrf.fit(X_train, y_train)\n",
    "print(\"Cross Validation for Random Forest on Count Vectorizer and TFID Transformer\")\n",
    "cross_val_score(modelrf, X_train, y_train, cv=3)"
   ]
  },
  {
   "cell_type": "markdown",
   "metadata": {},
   "source": [
    "## Logstic, SVM(LinearSVC) and Naive Bayes without hyperparameters tuning"
   ]
  },
  {
   "cell_type": "code",
   "execution_count": 45,
   "metadata": {},
   "outputs": [],
   "source": [
    "def model_training(training_model,vect_tfidf):\n",
    "    if training_model == 'LR':\n",
    "        \n",
    "        if vect_tfidf == 'BOW':\n",
    "            print (\"Training Logistic regression model using bag of words\")\n",
    "            lrbow = Pipeline([('vect', CountVectorizer()), ('clf', LogisticRegression()),])\n",
    "            return lrbow\n",
    "           \n",
    "        elif vect_tfidf == 'TFIDF':\n",
    "            print (\"Training Logistic regression model using TFIDF\")\n",
    "            lrtfidf = Pipeline([ ('tfidf', TfidfVectorizer()),('clf', LogisticRegression()),])\n",
    "            return lrtfidf\n",
    "    \n",
    "    elif training_model == 'SVM':\n",
    "        \n",
    "        if vect_tfidf == 'BOW':\n",
    "            print (\"Training SVM model using bag of words\")\n",
    "            svmbow = Pipeline([('vect', CountVectorizer()), ('clf', LinearSVC()),])\n",
    "            return svmbow\n",
    "                        \n",
    "        elif vect_tfidf == 'TFIDF':\n",
    "            print (\"Training SVM model using TFIDF\")\n",
    "            svmtfidf = Pipeline([('tfidf', TfidfVectorizer()),('clf', LinearSVC()),])\n",
    "            return svmtfidf\n",
    "        \n",
    "    elif training_model == 'NB':        \n",
    "        if vect_tfidf == 'BOW':\n",
    "            print (\"Training NB model using bag of words\")\n",
    "            nbbow = Pipeline([('vect', CountVectorizer()), ('clf', MultinomialNB()),])\n",
    "            return nbbow\n",
    "                        \n",
    "        elif vect_tfidf == 'TFIDF':\n",
    "            print (\"Training NB model using TFIDF\")\n",
    "            nbtfidf = Pipeline([('tfidf', TfidfVectorizer()), ('clf', MultinomialNB()),])\n",
    "            return nbtfidf"
   ]
  },
  {
   "cell_type": "code",
   "execution_count": 46,
   "metadata": {},
   "outputs": [],
   "source": [
    "def model_fitting_mix():\n",
    "    training_model = ['LR','SVM','NB']\n",
    "    vect_tfidf = ['BOW','TFIDF']\n",
    "    for i in training_model:\n",
    "        for j in vect_tfidf:\n",
    "            model_mix = model_training(i,j).fit(X_train, y_train)\n",
    "            predicted_mix = model_mix.predict(X_test)\n",
    "            accuracy_mix = np.mean(predicted_mix == y_test)\n",
    "            scores_mix = cross_val_score(model_mix, X_train, y_train, cv=3)\n",
    "            print (\"Accuracy on testing dataset is\",accuracy_mix)\n",
    "            print(\"Accuracy on training dataset is : %0.3f\" % (scores_mix.mean()))\n",
    "            \n"
   ]
  },
  {
   "cell_type": "code",
   "execution_count": 47,
   "metadata": {},
   "outputs": [
    {
     "name": "stdout",
     "output_type": "stream",
     "text": [
      "Training Logistic regression model using bag of words\n",
      "Accuracy on testing dataset is 0.8696\n",
      "Accuracy on training dataset is : 0.868\n",
      "Training Logistic regression model using TFIDF\n",
      "Accuracy on testing dataset is 0.886\n",
      "Accuracy on training dataset is : 0.879\n",
      "Training SVM model using bag of words\n",
      "Accuracy on testing dataset is 0.8529333333333333\n",
      "Accuracy on training dataset is : 0.847\n",
      "Training SVM model using TFIDF\n",
      "Accuracy on testing dataset is 0.8808\n",
      "Accuracy on training dataset is : 0.880\n",
      "Training NB model using bag of words\n",
      "Accuracy on testing dataset is 0.8548\n",
      "Accuracy on training dataset is : 0.847\n",
      "Training NB model using TFIDF\n",
      "Accuracy on testing dataset is 0.8586666666666667\n",
      "Accuracy on training dataset is : 0.856\n"
     ]
    }
   ],
   "source": [
    "model_fitting_mix()"
   ]
  },
  {
   "cell_type": "markdown",
   "metadata": {},
   "source": [
    "# HyperParameter Tuning"
   ]
  },
  {
   "cell_type": "markdown",
   "metadata": {},
   "source": [
    "## Logistic Regression with TFIDF"
   ]
  },
  {
   "cell_type": "code",
   "execution_count": 48,
   "metadata": {},
   "outputs": [
    {
     "name": "stdout",
     "output_type": "stream",
     "text": [
      "Fitting 3 folds for each of 12 candidates, totalling 36 fits\n"
     ]
    },
    {
     "name": "stderr",
     "output_type": "stream",
     "text": [
      "[Parallel(n_jobs=1)]: Using backend SequentialBackend with 1 concurrent workers.\n"
     ]
    },
    {
     "name": "stdout",
     "output_type": "stream",
     "text": [
      "[CV] clf__C=0.1, tfidf__max_df=0.25, tfidf__min_df=2, tfidf__ngram_range=(1, 2) \n",
      "[CV]  clf__C=0.1, tfidf__max_df=0.25, tfidf__min_df=2, tfidf__ngram_range=(1, 2), score=0.852, total=   8.5s\n"
     ]
    },
    {
     "name": "stderr",
     "output_type": "stream",
     "text": [
      "[Parallel(n_jobs=1)]: Done   1 out of   1 | elapsed:    8.4s remaining:    0.0s\n"
     ]
    },
    {
     "name": "stdout",
     "output_type": "stream",
     "text": [
      "[CV] clf__C=0.1, tfidf__max_df=0.25, tfidf__min_df=2, tfidf__ngram_range=(1, 2) \n",
      "[CV]  clf__C=0.1, tfidf__max_df=0.25, tfidf__min_df=2, tfidf__ngram_range=(1, 2), score=0.855, total=   9.0s\n"
     ]
    },
    {
     "name": "stderr",
     "output_type": "stream",
     "text": [
      "[Parallel(n_jobs=1)]: Done   2 out of   2 | elapsed:   17.5s remaining:    0.0s\n"
     ]
    },
    {
     "name": "stdout",
     "output_type": "stream",
     "text": [
      "[CV] clf__C=0.1, tfidf__max_df=0.25, tfidf__min_df=2, tfidf__ngram_range=(1, 2) \n",
      "[CV]  clf__C=0.1, tfidf__max_df=0.25, tfidf__min_df=2, tfidf__ngram_range=(1, 2), score=0.848, total=   8.2s\n"
     ]
    },
    {
     "name": "stderr",
     "output_type": "stream",
     "text": [
      "[Parallel(n_jobs=1)]: Done   3 out of   3 | elapsed:   25.8s remaining:    0.0s\n"
     ]
    },
    {
     "name": "stdout",
     "output_type": "stream",
     "text": [
      "[CV] clf__C=0.1, tfidf__max_df=0.25, tfidf__min_df=5, tfidf__ngram_range=(1, 2) \n",
      "[CV]  clf__C=0.1, tfidf__max_df=0.25, tfidf__min_df=5, tfidf__ngram_range=(1, 2), score=0.855, total=   7.2s\n"
     ]
    },
    {
     "name": "stderr",
     "output_type": "stream",
     "text": [
      "[Parallel(n_jobs=1)]: Done   4 out of   4 | elapsed:   33.1s remaining:    0.0s\n"
     ]
    },
    {
     "name": "stdout",
     "output_type": "stream",
     "text": [
      "[CV] clf__C=0.1, tfidf__max_df=0.25, tfidf__min_df=5, tfidf__ngram_range=(1, 2) \n",
      "[CV]  clf__C=0.1, tfidf__max_df=0.25, tfidf__min_df=5, tfidf__ngram_range=(1, 2), score=0.856, total=   7.1s\n",
      "[CV] clf__C=0.1, tfidf__max_df=0.25, tfidf__min_df=5, tfidf__ngram_range=(1, 2) \n",
      "[CV]  clf__C=0.1, tfidf__max_df=0.25, tfidf__min_df=5, tfidf__ngram_range=(1, 2), score=0.852, total=   7.1s\n",
      "[CV] clf__C=0.1, tfidf__max_df=0.5, tfidf__min_df=2, tfidf__ngram_range=(1, 2) \n",
      "[CV]  clf__C=0.1, tfidf__max_df=0.5, tfidf__min_df=2, tfidf__ngram_range=(1, 2), score=0.845, total=   7.3s\n",
      "[CV] clf__C=0.1, tfidf__max_df=0.5, tfidf__min_df=2, tfidf__ngram_range=(1, 2) \n",
      "[CV]  clf__C=0.1, tfidf__max_df=0.5, tfidf__min_df=2, tfidf__ngram_range=(1, 2), score=0.858, total=   7.4s\n",
      "[CV] clf__C=0.1, tfidf__max_df=0.5, tfidf__min_df=2, tfidf__ngram_range=(1, 2) \n",
      "[CV]  clf__C=0.1, tfidf__max_df=0.5, tfidf__min_df=2, tfidf__ngram_range=(1, 2), score=0.853, total=   7.4s\n",
      "[CV] clf__C=0.1, tfidf__max_df=0.5, tfidf__min_df=5, tfidf__ngram_range=(1, 2) \n",
      "[CV]  clf__C=0.1, tfidf__max_df=0.5, tfidf__min_df=5, tfidf__ngram_range=(1, 2), score=0.848, total=   7.8s\n",
      "[CV] clf__C=0.1, tfidf__max_df=0.5, tfidf__min_df=5, tfidf__ngram_range=(1, 2) \n",
      "[CV]  clf__C=0.1, tfidf__max_df=0.5, tfidf__min_df=5, tfidf__ngram_range=(1, 2), score=0.860, total=   8.0s\n",
      "[CV] clf__C=0.1, tfidf__max_df=0.5, tfidf__min_df=5, tfidf__ngram_range=(1, 2) \n",
      "[CV]  clf__C=0.1, tfidf__max_df=0.5, tfidf__min_df=5, tfidf__ngram_range=(1, 2), score=0.855, total=   7.2s\n",
      "[CV] clf__C=1, tfidf__max_df=0.25, tfidf__min_df=2, tfidf__ngram_range=(1, 2) \n",
      "[CV]  clf__C=1, tfidf__max_df=0.25, tfidf__min_df=2, tfidf__ngram_range=(1, 2), score=0.878, total=   7.5s\n",
      "[CV] clf__C=1, tfidf__max_df=0.25, tfidf__min_df=2, tfidf__ngram_range=(1, 2) \n",
      "[CV]  clf__C=1, tfidf__max_df=0.25, tfidf__min_df=2, tfidf__ngram_range=(1, 2), score=0.881, total=   7.9s\n",
      "[CV] clf__C=1, tfidf__max_df=0.25, tfidf__min_df=2, tfidf__ngram_range=(1, 2) \n",
      "[CV]  clf__C=1, tfidf__max_df=0.25, tfidf__min_df=2, tfidf__ngram_range=(1, 2), score=0.875, total=   7.8s\n",
      "[CV] clf__C=1, tfidf__max_df=0.25, tfidf__min_df=5, tfidf__ngram_range=(1, 2) \n",
      "[CV]  clf__C=1, tfidf__max_df=0.25, tfidf__min_df=5, tfidf__ngram_range=(1, 2), score=0.881, total=   7.5s\n",
      "[CV] clf__C=1, tfidf__max_df=0.25, tfidf__min_df=5, tfidf__ngram_range=(1, 2) \n",
      "[CV]  clf__C=1, tfidf__max_df=0.25, tfidf__min_df=5, tfidf__ngram_range=(1, 2), score=0.884, total=   7.7s\n",
      "[CV] clf__C=1, tfidf__max_df=0.25, tfidf__min_df=5, tfidf__ngram_range=(1, 2) \n",
      "[CV]  clf__C=1, tfidf__max_df=0.25, tfidf__min_df=5, tfidf__ngram_range=(1, 2), score=0.876, total=   8.5s\n",
      "[CV] clf__C=1, tfidf__max_df=0.5, tfidf__min_df=2, tfidf__ngram_range=(1, 2) \n",
      "[CV]  clf__C=1, tfidf__max_df=0.5, tfidf__min_df=2, tfidf__ngram_range=(1, 2), score=0.878, total=   8.5s\n",
      "[CV] clf__C=1, tfidf__max_df=0.5, tfidf__min_df=2, tfidf__ngram_range=(1, 2) \n",
      "[CV]  clf__C=1, tfidf__max_df=0.5, tfidf__min_df=2, tfidf__ngram_range=(1, 2), score=0.883, total=   9.1s\n",
      "[CV] clf__C=1, tfidf__max_df=0.5, tfidf__min_df=2, tfidf__ngram_range=(1, 2) \n",
      "[CV]  clf__C=1, tfidf__max_df=0.5, tfidf__min_df=2, tfidf__ngram_range=(1, 2), score=0.876, total=   8.3s\n",
      "[CV] clf__C=1, tfidf__max_df=0.5, tfidf__min_df=5, tfidf__ngram_range=(1, 2) \n",
      "[CV]  clf__C=1, tfidf__max_df=0.5, tfidf__min_df=5, tfidf__ngram_range=(1, 2), score=0.881, total=   7.4s\n",
      "[CV] clf__C=1, tfidf__max_df=0.5, tfidf__min_df=5, tfidf__ngram_range=(1, 2) \n",
      "[CV]  clf__C=1, tfidf__max_df=0.5, tfidf__min_df=5, tfidf__ngram_range=(1, 2), score=0.884, total=   8.5s\n",
      "[CV] clf__C=1, tfidf__max_df=0.5, tfidf__min_df=5, tfidf__ngram_range=(1, 2) \n",
      "[CV]  clf__C=1, tfidf__max_df=0.5, tfidf__min_df=5, tfidf__ngram_range=(1, 2), score=0.879, total=   8.0s\n",
      "[CV] clf__C=10, tfidf__max_df=0.25, tfidf__min_df=2, tfidf__ngram_range=(1, 2) \n",
      "[CV]  clf__C=10, tfidf__max_df=0.25, tfidf__min_df=2, tfidf__ngram_range=(1, 2), score=0.888, total=   7.9s\n",
      "[CV] clf__C=10, tfidf__max_df=0.25, tfidf__min_df=2, tfidf__ngram_range=(1, 2) \n",
      "[CV]  clf__C=10, tfidf__max_df=0.25, tfidf__min_df=2, tfidf__ngram_range=(1, 2), score=0.891, total=   9.6s\n",
      "[CV] clf__C=10, tfidf__max_df=0.25, tfidf__min_df=2, tfidf__ngram_range=(1, 2) \n",
      "[CV]  clf__C=10, tfidf__max_df=0.25, tfidf__min_df=2, tfidf__ngram_range=(1, 2), score=0.887, total=   8.4s\n",
      "[CV] clf__C=10, tfidf__max_df=0.25, tfidf__min_df=5, tfidf__ngram_range=(1, 2) \n",
      "[CV]  clf__C=10, tfidf__max_df=0.25, tfidf__min_df=5, tfidf__ngram_range=(1, 2), score=0.885, total=   8.1s\n",
      "[CV] clf__C=10, tfidf__max_df=0.25, tfidf__min_df=5, tfidf__ngram_range=(1, 2) \n",
      "[CV]  clf__C=10, tfidf__max_df=0.25, tfidf__min_df=5, tfidf__ngram_range=(1, 2), score=0.888, total=   8.5s\n",
      "[CV] clf__C=10, tfidf__max_df=0.25, tfidf__min_df=5, tfidf__ngram_range=(1, 2) \n",
      "[CV]  clf__C=10, tfidf__max_df=0.25, tfidf__min_df=5, tfidf__ngram_range=(1, 2), score=0.884, total=   8.0s\n",
      "[CV] clf__C=10, tfidf__max_df=0.5, tfidf__min_df=2, tfidf__ngram_range=(1, 2) \n",
      "[CV]  clf__C=10, tfidf__max_df=0.5, tfidf__min_df=2, tfidf__ngram_range=(1, 2), score=0.889, total=   8.4s\n",
      "[CV] clf__C=10, tfidf__max_df=0.5, tfidf__min_df=2, tfidf__ngram_range=(1, 2) \n",
      "[CV]  clf__C=10, tfidf__max_df=0.5, tfidf__min_df=2, tfidf__ngram_range=(1, 2), score=0.889, total=   8.0s\n",
      "[CV] clf__C=10, tfidf__max_df=0.5, tfidf__min_df=2, tfidf__ngram_range=(1, 2) \n",
      "[CV]  clf__C=10, tfidf__max_df=0.5, tfidf__min_df=2, tfidf__ngram_range=(1, 2), score=0.886, total=   9.8s\n",
      "[CV] clf__C=10, tfidf__max_df=0.5, tfidf__min_df=5, tfidf__ngram_range=(1, 2) \n",
      "[CV]  clf__C=10, tfidf__max_df=0.5, tfidf__min_df=5, tfidf__ngram_range=(1, 2), score=0.884, total=   8.4s\n",
      "[CV] clf__C=10, tfidf__max_df=0.5, tfidf__min_df=5, tfidf__ngram_range=(1, 2) \n",
      "[CV]  clf__C=10, tfidf__max_df=0.5, tfidf__min_df=5, tfidf__ngram_range=(1, 2), score=0.888, total=   8.9s\n",
      "[CV] clf__C=10, tfidf__max_df=0.5, tfidf__min_df=5, tfidf__ngram_range=(1, 2) \n",
      "[CV]  clf__C=10, tfidf__max_df=0.5, tfidf__min_df=5, tfidf__ngram_range=(1, 2), score=0.884, total=   8.2s\n"
     ]
    },
    {
     "name": "stderr",
     "output_type": "stream",
     "text": [
      "[Parallel(n_jobs=1)]: Done  36 out of  36 | elapsed:  4.9min finished\n"
     ]
    },
    {
     "name": "stdout",
     "output_type": "stream",
     "text": [
      "Best parameters:  {'clf__C': 10, 'tfidf__max_df': 0.25, 'tfidf__min_df': 2, 'tfidf__ngram_range': (1, 2)}\n",
      "Accuracy score:  0.8933333333333333\n",
      "Precision score:  0.8924617817606747\n",
      "Recall score:  0.8962413975648491\n",
      "F1 score:  0.8943475964078182\n",
      "--------------------------\n",
      "Confusion Matrix:  [[3314  408]\n",
      " [ 392 3386]]\n"
     ]
    }
   ],
   "source": [
    "#using 1-gram and bigram\n",
    "parameters = {\"tfidf__min_df\": [2, 5], \"tfidf__max_df\": [0.25, 0.5], \"tfidf__ngram_range\": [(1, 2)], \"clf__C\" : [0.1, 1, 10]}\n",
    "\n",
    "pipeline_lr = Pipeline([('tfidf', TfidfVectorizer()),\n",
    "                     ('clf', LogisticRegression())])\n",
    "lrgridsearch = GridSearchCV(pipeline_lr, parameters, cv=3, verbose= 5)\n",
    "lrgridsearch.fit(X_train, y_train)\n",
    "\n",
    "y_pred = lrgridsearch.predict(X_test)\n",
    "\n",
    "print('Best parameters: ', lrgridsearch.best_params_)\n",
    "print('Accuracy score: ', format(accuracy_score(y_test, y_pred)))\n",
    "print('Precision score: ', format(precision_score(y_test, y_pred)))\n",
    "print('Recall score: ', format(recall_score(y_test, y_pred)))\n",
    "print('F1 score: ', format(f1_score(y_test, y_pred)))\n",
    "print('--------------------------')\n",
    "print('Confusion Matrix: ',confusion_matrix(y_test, y_pred))"
   ]
  },
  {
   "cell_type": "markdown",
   "metadata": {},
   "source": [
    "## Logistic regression with Count Vectorizer"
   ]
  },
  {
   "cell_type": "code",
   "execution_count": 49,
   "metadata": {},
   "outputs": [
    {
     "name": "stdout",
     "output_type": "stream",
     "text": [
      "Fitting 3 folds for each of 12 candidates, totalling 36 fits\n"
     ]
    },
    {
     "name": "stderr",
     "output_type": "stream",
     "text": [
      "[Parallel(n_jobs=1)]: Using backend SequentialBackend with 1 concurrent workers.\n"
     ]
    },
    {
     "name": "stdout",
     "output_type": "stream",
     "text": [
      "[CV] clf__C=0.1, vect__max_df=0.25, vect__min_df=2, vect__ngram_range=(1, 2) \n",
      "[CV]  clf__C=0.1, vect__max_df=0.25, vect__min_df=2, vect__ngram_range=(1, 2), score=0.875, total=   8.8s\n"
     ]
    },
    {
     "name": "stderr",
     "output_type": "stream",
     "text": [
      "[Parallel(n_jobs=1)]: Done   1 out of   1 | elapsed:    8.7s remaining:    0.0s\n"
     ]
    },
    {
     "name": "stdout",
     "output_type": "stream",
     "text": [
      "[CV] clf__C=0.1, vect__max_df=0.25, vect__min_df=2, vect__ngram_range=(1, 2) \n",
      "[CV]  clf__C=0.1, vect__max_df=0.25, vect__min_df=2, vect__ngram_range=(1, 2), score=0.882, total=   9.0s\n"
     ]
    },
    {
     "name": "stderr",
     "output_type": "stream",
     "text": [
      "[Parallel(n_jobs=1)]: Done   2 out of   2 | elapsed:   17.8s remaining:    0.0s\n"
     ]
    },
    {
     "name": "stdout",
     "output_type": "stream",
     "text": [
      "[CV] clf__C=0.1, vect__max_df=0.25, vect__min_df=2, vect__ngram_range=(1, 2) \n",
      "[CV]  clf__C=0.1, vect__max_df=0.25, vect__min_df=2, vect__ngram_range=(1, 2), score=0.878, total=   9.9s\n"
     ]
    },
    {
     "name": "stderr",
     "output_type": "stream",
     "text": [
      "[Parallel(n_jobs=1)]: Done   3 out of   3 | elapsed:   27.8s remaining:    0.0s\n"
     ]
    },
    {
     "name": "stdout",
     "output_type": "stream",
     "text": [
      "[CV] clf__C=0.1, vect__max_df=0.25, vect__min_df=5, vect__ngram_range=(1, 2) \n",
      "[CV]  clf__C=0.1, vect__max_df=0.25, vect__min_df=5, vect__ngram_range=(1, 2), score=0.875, total=   7.9s\n"
     ]
    },
    {
     "name": "stderr",
     "output_type": "stream",
     "text": [
      "[Parallel(n_jobs=1)]: Done   4 out of   4 | elapsed:   35.8s remaining:    0.0s\n"
     ]
    },
    {
     "name": "stdout",
     "output_type": "stream",
     "text": [
      "[CV] clf__C=0.1, vect__max_df=0.25, vect__min_df=5, vect__ngram_range=(1, 2) \n",
      "[CV]  clf__C=0.1, vect__max_df=0.25, vect__min_df=5, vect__ngram_range=(1, 2), score=0.882, total=   8.5s\n",
      "[CV] clf__C=0.1, vect__max_df=0.25, vect__min_df=5, vect__ngram_range=(1, 2) \n",
      "[CV]  clf__C=0.1, vect__max_df=0.25, vect__min_df=5, vect__ngram_range=(1, 2), score=0.877, total=   8.6s\n",
      "[CV] clf__C=0.1, vect__max_df=0.5, vect__min_df=2, vect__ngram_range=(1, 2) \n",
      "[CV]  clf__C=0.1, vect__max_df=0.5, vect__min_df=2, vect__ngram_range=(1, 2), score=0.877, total=   9.2s\n",
      "[CV] clf__C=0.1, vect__max_df=0.5, vect__min_df=2, vect__ngram_range=(1, 2) \n",
      "[CV]  clf__C=0.1, vect__max_df=0.5, vect__min_df=2, vect__ngram_range=(1, 2), score=0.879, total=   9.4s\n",
      "[CV] clf__C=0.1, vect__max_df=0.5, vect__min_df=2, vect__ngram_range=(1, 2) \n",
      "[CV]  clf__C=0.1, vect__max_df=0.5, vect__min_df=2, vect__ngram_range=(1, 2), score=0.879, total=  10.0s\n",
      "[CV] clf__C=0.1, vect__max_df=0.5, vect__min_df=5, vect__ngram_range=(1, 2) \n",
      "[CV]  clf__C=0.1, vect__max_df=0.5, vect__min_df=5, vect__ngram_range=(1, 2), score=0.876, total=   7.8s\n",
      "[CV] clf__C=0.1, vect__max_df=0.5, vect__min_df=5, vect__ngram_range=(1, 2) \n",
      "[CV]  clf__C=0.1, vect__max_df=0.5, vect__min_df=5, vect__ngram_range=(1, 2), score=0.879, total=   7.9s\n",
      "[CV] clf__C=0.1, vect__max_df=0.5, vect__min_df=5, vect__ngram_range=(1, 2) \n",
      "[CV]  clf__C=0.1, vect__max_df=0.5, vect__min_df=5, vect__ngram_range=(1, 2), score=0.877, total=   7.8s\n",
      "[CV] clf__C=1, vect__max_df=0.25, vect__min_df=2, vect__ngram_range=(1, 2) \n",
      "[CV]  clf__C=1, vect__max_df=0.25, vect__min_df=2, vect__ngram_range=(1, 2), score=0.875, total=   8.6s\n",
      "[CV] clf__C=1, vect__max_df=0.25, vect__min_df=2, vect__ngram_range=(1, 2) \n",
      "[CV]  clf__C=1, vect__max_df=0.25, vect__min_df=2, vect__ngram_range=(1, 2), score=0.878, total=   9.0s\n",
      "[CV] clf__C=1, vect__max_df=0.25, vect__min_df=2, vect__ngram_range=(1, 2) \n",
      "[CV]  clf__C=1, vect__max_df=0.25, vect__min_df=2, vect__ngram_range=(1, 2), score=0.879, total=   9.8s\n",
      "[CV] clf__C=1, vect__max_df=0.25, vect__min_df=5, vect__ngram_range=(1, 2) \n",
      "[CV]  clf__C=1, vect__max_df=0.25, vect__min_df=5, vect__ngram_range=(1, 2), score=0.872, total=   9.5s\n",
      "[CV] clf__C=1, vect__max_df=0.25, vect__min_df=5, vect__ngram_range=(1, 2) \n",
      "[CV]  clf__C=1, vect__max_df=0.25, vect__min_df=5, vect__ngram_range=(1, 2), score=0.871, total=   9.5s\n",
      "[CV] clf__C=1, vect__max_df=0.25, vect__min_df=5, vect__ngram_range=(1, 2) \n",
      "[CV]  clf__C=1, vect__max_df=0.25, vect__min_df=5, vect__ngram_range=(1, 2), score=0.873, total=   9.4s\n",
      "[CV] clf__C=1, vect__max_df=0.5, vect__min_df=2, vect__ngram_range=(1, 2) \n",
      "[CV]  clf__C=1, vect__max_df=0.5, vect__min_df=2, vect__ngram_range=(1, 2), score=0.876, total=  10.5s\n",
      "[CV] clf__C=1, vect__max_df=0.5, vect__min_df=2, vect__ngram_range=(1, 2) \n",
      "[CV]  clf__C=1, vect__max_df=0.5, vect__min_df=2, vect__ngram_range=(1, 2), score=0.876, total=  10.9s\n",
      "[CV] clf__C=1, vect__max_df=0.5, vect__min_df=2, vect__ngram_range=(1, 2) \n",
      "[CV]  clf__C=1, vect__max_df=0.5, vect__min_df=2, vect__ngram_range=(1, 2), score=0.879, total=  10.4s\n",
      "[CV] clf__C=1, vect__max_df=0.5, vect__min_df=5, vect__ngram_range=(1, 2) \n",
      "[CV]  clf__C=1, vect__max_df=0.5, vect__min_df=5, vect__ngram_range=(1, 2), score=0.874, total=   8.9s\n",
      "[CV] clf__C=1, vect__max_df=0.5, vect__min_df=5, vect__ngram_range=(1, 2) \n",
      "[CV]  clf__C=1, vect__max_df=0.5, vect__min_df=5, vect__ngram_range=(1, 2), score=0.871, total=   8.6s\n",
      "[CV] clf__C=1, vect__max_df=0.5, vect__min_df=5, vect__ngram_range=(1, 2) \n",
      "[CV]  clf__C=1, vect__max_df=0.5, vect__min_df=5, vect__ngram_range=(1, 2), score=0.874, total=   9.7s\n",
      "[CV] clf__C=10, vect__max_df=0.25, vect__min_df=2, vect__ngram_range=(1, 2) \n",
      "[CV]  clf__C=10, vect__max_df=0.25, vect__min_df=2, vect__ngram_range=(1, 2), score=0.874, total=  10.6s\n",
      "[CV] clf__C=10, vect__max_df=0.25, vect__min_df=2, vect__ngram_range=(1, 2) \n",
      "[CV]  clf__C=10, vect__max_df=0.25, vect__min_df=2, vect__ngram_range=(1, 2), score=0.874, total=  10.8s\n",
      "[CV] clf__C=10, vect__max_df=0.25, vect__min_df=2, vect__ngram_range=(1, 2) \n",
      "[CV]  clf__C=10, vect__max_df=0.25, vect__min_df=2, vect__ngram_range=(1, 2), score=0.877, total=  11.0s\n",
      "[CV] clf__C=10, vect__max_df=0.25, vect__min_df=5, vect__ngram_range=(1, 2) \n",
      "[CV]  clf__C=10, vect__max_df=0.25, vect__min_df=5, vect__ngram_range=(1, 2), score=0.870, total=  10.5s\n",
      "[CV] clf__C=10, vect__max_df=0.25, vect__min_df=5, vect__ngram_range=(1, 2) \n",
      "[CV]  clf__C=10, vect__max_df=0.25, vect__min_df=5, vect__ngram_range=(1, 2), score=0.867, total=   9.9s\n",
      "[CV] clf__C=10, vect__max_df=0.25, vect__min_df=5, vect__ngram_range=(1, 2) \n",
      "[CV]  clf__C=10, vect__max_df=0.25, vect__min_df=5, vect__ngram_range=(1, 2), score=0.870, total=   9.9s\n",
      "[CV] clf__C=10, vect__max_df=0.5, vect__min_df=2, vect__ngram_range=(1, 2) \n",
      "[CV]  clf__C=10, vect__max_df=0.5, vect__min_df=2, vect__ngram_range=(1, 2), score=0.874, total=  10.1s\n",
      "[CV] clf__C=10, vect__max_df=0.5, vect__min_df=2, vect__ngram_range=(1, 2) \n",
      "[CV]  clf__C=10, vect__max_df=0.5, vect__min_df=2, vect__ngram_range=(1, 2), score=0.873, total=  10.0s\n",
      "[CV] clf__C=10, vect__max_df=0.5, vect__min_df=2, vect__ngram_range=(1, 2) \n",
      "[CV]  clf__C=10, vect__max_df=0.5, vect__min_df=2, vect__ngram_range=(1, 2), score=0.880, total=  12.0s\n",
      "[CV] clf__C=10, vect__max_df=0.5, vect__min_df=5, vect__ngram_range=(1, 2) \n",
      "[CV]  clf__C=10, vect__max_df=0.5, vect__min_df=5, vect__ngram_range=(1, 2), score=0.871, total=  10.3s\n",
      "[CV] clf__C=10, vect__max_df=0.5, vect__min_df=5, vect__ngram_range=(1, 2) \n",
      "[CV]  clf__C=10, vect__max_df=0.5, vect__min_df=5, vect__ngram_range=(1, 2), score=0.867, total=   9.0s\n",
      "[CV] clf__C=10, vect__max_df=0.5, vect__min_df=5, vect__ngram_range=(1, 2) \n",
      "[CV]  clf__C=10, vect__max_df=0.5, vect__min_df=5, vect__ngram_range=(1, 2), score=0.871, total=  10.0s\n"
     ]
    },
    {
     "name": "stderr",
     "output_type": "stream",
     "text": [
      "[Parallel(n_jobs=1)]: Done  36 out of  36 | elapsed:  5.8min finished\n"
     ]
    },
    {
     "name": "stdout",
     "output_type": "stream",
     "text": [
      "Best parameters:  {'clf__C': 0.1, 'vect__max_df': 0.5, 'vect__min_df': 2, 'vect__ngram_range': (1, 2)}\n",
      "Accuracy score:  0.8830666666666667\n",
      "Precision score:  0.8838317015083356\n",
      "Recall score:  0.884065643197459\n",
      "F1 score:  0.883948656874421\n",
      "--------------------------\n",
      "Confusion Matrix:  [[3283  439]\n",
      " [ 438 3340]]\n"
     ]
    }
   ],
   "source": [
    "#Using BI-gram\n",
    "parameters = {\"vect__min_df\": [2, 5], \"vect__max_df\":[0.25, 0.5], \"vect__ngram_range\": [(1, 2)], \"clf__C\": [0.1, 1, 10]}\n",
    "\n",
    "pipeline_lr = Pipeline([('vect', CountVectorizer()),\n",
    "                     ('clf', LogisticRegression())])\n",
    "lrgridsearch = GridSearchCV(pipeline_lr, parameters, cv=3, verbose= 5)\n",
    "lrgridsearch.fit(X_train, y_train)\n",
    "\n",
    "y_pred = lrgridsearch.predict(X_test)\n",
    "\n",
    "print('Best parameters: ', lrgridsearch.best_params_)\n",
    "print('Accuracy score: ', format(accuracy_score(y_test, y_pred)))\n",
    "print('Precision score: ', format(precision_score(y_test, y_pred)))\n",
    "print('Recall score: ', format(recall_score(y_test, y_pred)))\n",
    "print('F1 score: ', format(f1_score(y_test, y_pred)))\n",
    "print('--------------------------')\n",
    "print('Confusion Matrix: ',confusion_matrix(y_test, y_pred))"
   ]
  },
  {
   "cell_type": "markdown",
   "metadata": {},
   "source": [
    "In the above we can see that logistic regression with tfidf(0.893) has greater accuracy than \n",
    "logistic regression with count vectorizer(0.883)"
   ]
  },
  {
   "cell_type": "markdown",
   "metadata": {},
   "source": [
    "## Naive Bayes with TF-IDF"
   ]
  },
  {
   "cell_type": "code",
   "execution_count": 50,
   "metadata": {},
   "outputs": [
    {
     "name": "stdout",
     "output_type": "stream",
     "text": [
      "Fitting 3 folds for each of 18 candidates, totalling 54 fits\n"
     ]
    },
    {
     "name": "stderr",
     "output_type": "stream",
     "text": [
      "[Parallel(n_jobs=1)]: Using backend SequentialBackend with 1 concurrent workers.\n"
     ]
    },
    {
     "name": "stdout",
     "output_type": "stream",
     "text": [
      "[CV] clf__alpha=1, tfidf__max_df=0.25, tfidf__min_df=2, tfidf__ngram_range=(1, 2) \n",
      "[CV]  clf__alpha=1, tfidf__max_df=0.25, tfidf__min_df=2, tfidf__ngram_range=(1, 2), score=0.869, total=   7.7s\n"
     ]
    },
    {
     "name": "stderr",
     "output_type": "stream",
     "text": [
      "[Parallel(n_jobs=1)]: Done   1 out of   1 | elapsed:    7.7s remaining:    0.0s\n"
     ]
    },
    {
     "name": "stdout",
     "output_type": "stream",
     "text": [
      "[CV] clf__alpha=1, tfidf__max_df=0.25, tfidf__min_df=2, tfidf__ngram_range=(1, 2) \n",
      "[CV]  clf__alpha=1, tfidf__max_df=0.25, tfidf__min_df=2, tfidf__ngram_range=(1, 2), score=0.870, total=   8.2s\n"
     ]
    },
    {
     "name": "stderr",
     "output_type": "stream",
     "text": [
      "[Parallel(n_jobs=1)]: Done   2 out of   2 | elapsed:   16.2s remaining:    0.0s\n"
     ]
    },
    {
     "name": "stdout",
     "output_type": "stream",
     "text": [
      "[CV] clf__alpha=1, tfidf__max_df=0.25, tfidf__min_df=2, tfidf__ngram_range=(1, 2) \n",
      "[CV]  clf__alpha=1, tfidf__max_df=0.25, tfidf__min_df=2, tfidf__ngram_range=(1, 2), score=0.872, total=   7.9s\n"
     ]
    },
    {
     "name": "stderr",
     "output_type": "stream",
     "text": [
      "[Parallel(n_jobs=1)]: Done   3 out of   3 | elapsed:   24.2s remaining:    0.0s\n"
     ]
    },
    {
     "name": "stdout",
     "output_type": "stream",
     "text": [
      "[CV] clf__alpha=1, tfidf__max_df=0.25, tfidf__min_df=5, tfidf__ngram_range=(1, 2) \n",
      "[CV]  clf__alpha=1, tfidf__max_df=0.25, tfidf__min_df=5, tfidf__ngram_range=(1, 2), score=0.865, total=   7.0s\n"
     ]
    },
    {
     "name": "stderr",
     "output_type": "stream",
     "text": [
      "[Parallel(n_jobs=1)]: Done   4 out of   4 | elapsed:   31.3s remaining:    0.0s\n"
     ]
    },
    {
     "name": "stdout",
     "output_type": "stream",
     "text": [
      "[CV] clf__alpha=1, tfidf__max_df=0.25, tfidf__min_df=5, tfidf__ngram_range=(1, 2) \n",
      "[CV]  clf__alpha=1, tfidf__max_df=0.25, tfidf__min_df=5, tfidf__ngram_range=(1, 2), score=0.868, total=   7.3s\n",
      "[CV] clf__alpha=1, tfidf__max_df=0.25, tfidf__min_df=5, tfidf__ngram_range=(1, 2) \n",
      "[CV]  clf__alpha=1, tfidf__max_df=0.25, tfidf__min_df=5, tfidf__ngram_range=(1, 2), score=0.869, total=   7.2s\n",
      "[CV] clf__alpha=1, tfidf__max_df=0.4, tfidf__min_df=2, tfidf__ngram_range=(1, 2) \n",
      "[CV]  clf__alpha=1, tfidf__max_df=0.4, tfidf__min_df=2, tfidf__ngram_range=(1, 2), score=0.866, total=   7.3s\n",
      "[CV] clf__alpha=1, tfidf__max_df=0.4, tfidf__min_df=2, tfidf__ngram_range=(1, 2) \n",
      "[CV]  clf__alpha=1, tfidf__max_df=0.4, tfidf__min_df=2, tfidf__ngram_range=(1, 2), score=0.873, total=   7.2s\n",
      "[CV] clf__alpha=1, tfidf__max_df=0.4, tfidf__min_df=2, tfidf__ngram_range=(1, 2) \n",
      "[CV]  clf__alpha=1, tfidf__max_df=0.4, tfidf__min_df=2, tfidf__ngram_range=(1, 2), score=0.872, total=   7.4s\n",
      "[CV] clf__alpha=1, tfidf__max_df=0.4, tfidf__min_df=5, tfidf__ngram_range=(1, 2) \n",
      "[CV]  clf__alpha=1, tfidf__max_df=0.4, tfidf__min_df=5, tfidf__ngram_range=(1, 2), score=0.865, total=   7.1s\n",
      "[CV] clf__alpha=1, tfidf__max_df=0.4, tfidf__min_df=5, tfidf__ngram_range=(1, 2) \n",
      "[CV]  clf__alpha=1, tfidf__max_df=0.4, tfidf__min_df=5, tfidf__ngram_range=(1, 2), score=0.869, total=   8.3s\n",
      "[CV] clf__alpha=1, tfidf__max_df=0.4, tfidf__min_df=5, tfidf__ngram_range=(1, 2) \n",
      "[CV]  clf__alpha=1, tfidf__max_df=0.4, tfidf__min_df=5, tfidf__ngram_range=(1, 2), score=0.869, total=   8.1s\n",
      "[CV] clf__alpha=1, tfidf__max_df=0.5, tfidf__min_df=2, tfidf__ngram_range=(1, 2) \n",
      "[CV]  clf__alpha=1, tfidf__max_df=0.5, tfidf__min_df=2, tfidf__ngram_range=(1, 2), score=0.866, total=   7.5s\n",
      "[CV] clf__alpha=1, tfidf__max_df=0.5, tfidf__min_df=2, tfidf__ngram_range=(1, 2) \n",
      "[CV]  clf__alpha=1, tfidf__max_df=0.5, tfidf__min_df=2, tfidf__ngram_range=(1, 2), score=0.872, total=   8.2s\n",
      "[CV] clf__alpha=1, tfidf__max_df=0.5, tfidf__min_df=2, tfidf__ngram_range=(1, 2) \n",
      "[CV]  clf__alpha=1, tfidf__max_df=0.5, tfidf__min_df=2, tfidf__ngram_range=(1, 2), score=0.872, total=   7.3s\n",
      "[CV] clf__alpha=1, tfidf__max_df=0.5, tfidf__min_df=5, tfidf__ngram_range=(1, 2) \n",
      "[CV]  clf__alpha=1, tfidf__max_df=0.5, tfidf__min_df=5, tfidf__ngram_range=(1, 2), score=0.864, total=   7.1s\n",
      "[CV] clf__alpha=1, tfidf__max_df=0.5, tfidf__min_df=5, tfidf__ngram_range=(1, 2) \n",
      "[CV]  clf__alpha=1, tfidf__max_df=0.5, tfidf__min_df=5, tfidf__ngram_range=(1, 2), score=0.868, total=   7.1s\n",
      "[CV] clf__alpha=1, tfidf__max_df=0.5, tfidf__min_df=5, tfidf__ngram_range=(1, 2) \n",
      "[CV]  clf__alpha=1, tfidf__max_df=0.5, tfidf__min_df=5, tfidf__ngram_range=(1, 2), score=0.869, total=   7.7s\n",
      "[CV] clf__alpha=10, tfidf__max_df=0.25, tfidf__min_df=2, tfidf__ngram_range=(1, 2) \n",
      "[CV]  clf__alpha=10, tfidf__max_df=0.25, tfidf__min_df=2, tfidf__ngram_range=(1, 2), score=0.853, total=   7.1s\n",
      "[CV] clf__alpha=10, tfidf__max_df=0.25, tfidf__min_df=2, tfidf__ngram_range=(1, 2) \n",
      "[CV]  clf__alpha=10, tfidf__max_df=0.25, tfidf__min_df=2, tfidf__ngram_range=(1, 2), score=0.860, total=   7.3s\n",
      "[CV] clf__alpha=10, tfidf__max_df=0.25, tfidf__min_df=2, tfidf__ngram_range=(1, 2) \n",
      "[CV]  clf__alpha=10, tfidf__max_df=0.25, tfidf__min_df=2, tfidf__ngram_range=(1, 2), score=0.857, total=   7.3s\n",
      "[CV] clf__alpha=10, tfidf__max_df=0.25, tfidf__min_df=5, tfidf__ngram_range=(1, 2) \n",
      "[CV]  clf__alpha=10, tfidf__max_df=0.25, tfidf__min_df=5, tfidf__ngram_range=(1, 2), score=0.856, total=   6.9s\n",
      "[CV] clf__alpha=10, tfidf__max_df=0.25, tfidf__min_df=5, tfidf__ngram_range=(1, 2) \n",
      "[CV]  clf__alpha=10, tfidf__max_df=0.25, tfidf__min_df=5, tfidf__ngram_range=(1, 2), score=0.859, total=   7.2s\n",
      "[CV] clf__alpha=10, tfidf__max_df=0.25, tfidf__min_df=5, tfidf__ngram_range=(1, 2) \n",
      "[CV]  clf__alpha=10, tfidf__max_df=0.25, tfidf__min_df=5, tfidf__ngram_range=(1, 2), score=0.855, total=   7.5s\n",
      "[CV] clf__alpha=10, tfidf__max_df=0.4, tfidf__min_df=2, tfidf__ngram_range=(1, 2) \n",
      "[CV]  clf__alpha=10, tfidf__max_df=0.4, tfidf__min_df=2, tfidf__ngram_range=(1, 2), score=0.847, total=   7.6s\n",
      "[CV] clf__alpha=10, tfidf__max_df=0.4, tfidf__min_df=2, tfidf__ngram_range=(1, 2) \n",
      "[CV]  clf__alpha=10, tfidf__max_df=0.4, tfidf__min_df=2, tfidf__ngram_range=(1, 2), score=0.858, total=   7.8s\n",
      "[CV] clf__alpha=10, tfidf__max_df=0.4, tfidf__min_df=2, tfidf__ngram_range=(1, 2) \n",
      "[CV]  clf__alpha=10, tfidf__max_df=0.4, tfidf__min_df=2, tfidf__ngram_range=(1, 2), score=0.856, total=   7.5s\n",
      "[CV] clf__alpha=10, tfidf__max_df=0.4, tfidf__min_df=5, tfidf__ngram_range=(1, 2) \n",
      "[CV]  clf__alpha=10, tfidf__max_df=0.4, tfidf__min_df=5, tfidf__ngram_range=(1, 2), score=0.849, total=   7.4s\n",
      "[CV] clf__alpha=10, tfidf__max_df=0.4, tfidf__min_df=5, tfidf__ngram_range=(1, 2) \n",
      "[CV]  clf__alpha=10, tfidf__max_df=0.4, tfidf__min_df=5, tfidf__ngram_range=(1, 2), score=0.859, total=   7.4s\n",
      "[CV] clf__alpha=10, tfidf__max_df=0.4, tfidf__min_df=5, tfidf__ngram_range=(1, 2) \n",
      "[CV]  clf__alpha=10, tfidf__max_df=0.4, tfidf__min_df=5, tfidf__ngram_range=(1, 2), score=0.855, total=   9.0s\n",
      "[CV] clf__alpha=10, tfidf__max_df=0.5, tfidf__min_df=2, tfidf__ngram_range=(1, 2) \n",
      "[CV]  clf__alpha=10, tfidf__max_df=0.5, tfidf__min_df=2, tfidf__ngram_range=(1, 2), score=0.846, total=   7.1s\n",
      "[CV] clf__alpha=10, tfidf__max_df=0.5, tfidf__min_df=2, tfidf__ngram_range=(1, 2) \n",
      "[CV]  clf__alpha=10, tfidf__max_df=0.5, tfidf__min_df=2, tfidf__ngram_range=(1, 2), score=0.858, total=   7.3s\n",
      "[CV] clf__alpha=10, tfidf__max_df=0.5, tfidf__min_df=2, tfidf__ngram_range=(1, 2) \n",
      "[CV]  clf__alpha=10, tfidf__max_df=0.5, tfidf__min_df=2, tfidf__ngram_range=(1, 2), score=0.856, total=   7.3s\n",
      "[CV] clf__alpha=10, tfidf__max_df=0.5, tfidf__min_df=5, tfidf__ngram_range=(1, 2) \n",
      "[CV]  clf__alpha=10, tfidf__max_df=0.5, tfidf__min_df=5, tfidf__ngram_range=(1, 2), score=0.848, total=   7.4s\n",
      "[CV] clf__alpha=10, tfidf__max_df=0.5, tfidf__min_df=5, tfidf__ngram_range=(1, 2) \n",
      "[CV]  clf__alpha=10, tfidf__max_df=0.5, tfidf__min_df=5, tfidf__ngram_range=(1, 2), score=0.858, total=   7.5s\n",
      "[CV] clf__alpha=10, tfidf__max_df=0.5, tfidf__min_df=5, tfidf__ngram_range=(1, 2) \n",
      "[CV]  clf__alpha=10, tfidf__max_df=0.5, tfidf__min_df=5, tfidf__ngram_range=(1, 2), score=0.855, total=   8.2s\n",
      "[CV] clf__alpha=20, tfidf__max_df=0.25, tfidf__min_df=2, tfidf__ngram_range=(1, 2) \n",
      "[CV]  clf__alpha=20, tfidf__max_df=0.25, tfidf__min_df=2, tfidf__ngram_range=(1, 2), score=0.844, total=   7.8s\n",
      "[CV] clf__alpha=20, tfidf__max_df=0.25, tfidf__min_df=2, tfidf__ngram_range=(1, 2) \n",
      "[CV]  clf__alpha=20, tfidf__max_df=0.25, tfidf__min_df=2, tfidf__ngram_range=(1, 2), score=0.851, total=   8.0s\n",
      "[CV] clf__alpha=20, tfidf__max_df=0.25, tfidf__min_df=2, tfidf__ngram_range=(1, 2) \n",
      "[CV]  clf__alpha=20, tfidf__max_df=0.25, tfidf__min_df=2, tfidf__ngram_range=(1, 2), score=0.849, total=   7.4s\n",
      "[CV] clf__alpha=20, tfidf__max_df=0.25, tfidf__min_df=5, tfidf__ngram_range=(1, 2) \n",
      "[CV]  clf__alpha=20, tfidf__max_df=0.25, tfidf__min_df=5, tfidf__ngram_range=(1, 2), score=0.846, total=   7.0s\n",
      "[CV] clf__alpha=20, tfidf__max_df=0.25, tfidf__min_df=5, tfidf__ngram_range=(1, 2) \n",
      "[CV]  clf__alpha=20, tfidf__max_df=0.25, tfidf__min_df=5, tfidf__ngram_range=(1, 2), score=0.853, total=   7.1s\n",
      "[CV] clf__alpha=20, tfidf__max_df=0.25, tfidf__min_df=5, tfidf__ngram_range=(1, 2) \n",
      "[CV]  clf__alpha=20, tfidf__max_df=0.25, tfidf__min_df=5, tfidf__ngram_range=(1, 2), score=0.849, total=   8.7s\n",
      "[CV] clf__alpha=20, tfidf__max_df=0.4, tfidf__min_df=2, tfidf__ngram_range=(1, 2) \n",
      "[CV]  clf__alpha=20, tfidf__max_df=0.4, tfidf__min_df=2, tfidf__ngram_range=(1, 2), score=0.835, total=   7.2s\n",
      "[CV] clf__alpha=20, tfidf__max_df=0.4, tfidf__min_df=2, tfidf__ngram_range=(1, 2) \n",
      "[CV]  clf__alpha=20, tfidf__max_df=0.4, tfidf__min_df=2, tfidf__ngram_range=(1, 2), score=0.851, total=   7.4s\n",
      "[CV] clf__alpha=20, tfidf__max_df=0.4, tfidf__min_df=2, tfidf__ngram_range=(1, 2) \n",
      "[CV]  clf__alpha=20, tfidf__max_df=0.4, tfidf__min_df=2, tfidf__ngram_range=(1, 2), score=0.847, total=   7.3s\n",
      "[CV] clf__alpha=20, tfidf__max_df=0.4, tfidf__min_df=5, tfidf__ngram_range=(1, 2) \n",
      "[CV]  clf__alpha=20, tfidf__max_df=0.4, tfidf__min_df=5, tfidf__ngram_range=(1, 2), score=0.838, total=   7.1s\n"
     ]
    },
    {
     "name": "stdout",
     "output_type": "stream",
     "text": [
      "[CV] clf__alpha=20, tfidf__max_df=0.4, tfidf__min_df=5, tfidf__ngram_range=(1, 2) \n",
      "[CV]  clf__alpha=20, tfidf__max_df=0.4, tfidf__min_df=5, tfidf__ngram_range=(1, 2), score=0.851, total=   7.7s\n",
      "[CV] clf__alpha=20, tfidf__max_df=0.4, tfidf__min_df=5, tfidf__ngram_range=(1, 2) \n",
      "[CV]  clf__alpha=20, tfidf__max_df=0.4, tfidf__min_df=5, tfidf__ngram_range=(1, 2), score=0.847, total=   7.1s\n",
      "[CV] clf__alpha=20, tfidf__max_df=0.5, tfidf__min_df=2, tfidf__ngram_range=(1, 2) \n",
      "[CV]  clf__alpha=20, tfidf__max_df=0.5, tfidf__min_df=2, tfidf__ngram_range=(1, 2), score=0.834, total=   7.3s\n",
      "[CV] clf__alpha=20, tfidf__max_df=0.5, tfidf__min_df=2, tfidf__ngram_range=(1, 2) \n",
      "[CV]  clf__alpha=20, tfidf__max_df=0.5, tfidf__min_df=2, tfidf__ngram_range=(1, 2), score=0.850, total=   8.3s\n",
      "[CV] clf__alpha=20, tfidf__max_df=0.5, tfidf__min_df=2, tfidf__ngram_range=(1, 2) \n",
      "[CV]  clf__alpha=20, tfidf__max_df=0.5, tfidf__min_df=2, tfidf__ngram_range=(1, 2), score=0.847, total=   7.4s\n",
      "[CV] clf__alpha=20, tfidf__max_df=0.5, tfidf__min_df=5, tfidf__ngram_range=(1, 2) \n",
      "[CV]  clf__alpha=20, tfidf__max_df=0.5, tfidf__min_df=5, tfidf__ngram_range=(1, 2), score=0.836, total=   7.1s\n",
      "[CV] clf__alpha=20, tfidf__max_df=0.5, tfidf__min_df=5, tfidf__ngram_range=(1, 2) \n",
      "[CV]  clf__alpha=20, tfidf__max_df=0.5, tfidf__min_df=5, tfidf__ngram_range=(1, 2), score=0.851, total=   7.2s\n",
      "[CV] clf__alpha=20, tfidf__max_df=0.5, tfidf__min_df=5, tfidf__ngram_range=(1, 2) \n",
      "[CV]  clf__alpha=20, tfidf__max_df=0.5, tfidf__min_df=5, tfidf__ngram_range=(1, 2), score=0.848, total=   7.1s\n"
     ]
    },
    {
     "name": "stderr",
     "output_type": "stream",
     "text": [
      "[Parallel(n_jobs=1)]: Done  54 out of  54 | elapsed:  6.8min finished\n"
     ]
    },
    {
     "name": "stdout",
     "output_type": "stream",
     "text": [
      "Best parameters:  {'clf__alpha': 1, 'tfidf__max_df': 0.4, 'tfidf__min_df': 2, 'tfidf__ngram_range': (1, 2)}\n",
      "Accuracy score:  0.8790666666666667\n",
      "Precision score:  0.8912510220768601\n",
      "Recall score:  0.8655373213340392\n",
      "F1 score:  0.8782059889888545\n",
      "--------------------------\n",
      "Confusion Matrix:  [[3323  399]\n",
      " [ 508 3270]]\n"
     ]
    }
   ],
   "source": [
    "#we have to find the best parameters for NB\n",
    "parameters = {\"tfidf__min_df\": [2, 5], \"tfidf__max_df\": [0.25, 0.4, 0.5],\"tfidf__ngram_range\": [(1, 2)], \"clf__alpha\" : [1,10, 20]}\n",
    "\n",
    "pipeline_nb = Pipeline([('tfidf', TfidfVectorizer()),\n",
    "                     ('clf', MultinomialNB())])\n",
    "nbgridsearch = GridSearchCV(pipeline_nb, parameters, cv=3, verbose= 5)\n",
    "nbgridsearch.fit(X_train, y_train)\n",
    "\n",
    "y_pred = nbgridsearch.predict(X_test)\n",
    "\n",
    "print('Best parameters: ', nbgridsearch.best_params_)\n",
    "print('Accuracy score: ', format(accuracy_score(y_test, y_pred)))\n",
    "print('Precision score: ', format(precision_score(y_test, y_pred)))\n",
    "print('Recall score: ', format(recall_score(y_test, y_pred)))\n",
    "print('F1 score: ', format(f1_score(y_test, y_pred)))\n",
    "print('--------------------------')\n",
    "print('Confusion Matrix: ',confusion_matrix(y_test, y_pred))"
   ]
  },
  {
   "cell_type": "markdown",
   "metadata": {},
   "source": [
    "## Naive Bayes with Count Vectorizer"
   ]
  },
  {
   "cell_type": "code",
   "execution_count": 51,
   "metadata": {},
   "outputs": [
    {
     "name": "stdout",
     "output_type": "stream",
     "text": [
      "Fitting 3 folds for each of 18 candidates, totalling 54 fits\n"
     ]
    },
    {
     "name": "stderr",
     "output_type": "stream",
     "text": [
      "[Parallel(n_jobs=1)]: Using backend SequentialBackend with 1 concurrent workers.\n"
     ]
    },
    {
     "name": "stdout",
     "output_type": "stream",
     "text": [
      "[CV] clf__alpha=1, vect__max_df=0.25, vect__min_df=2, vect__ngram_range=(1, 2) \n",
      "[CV]  clf__alpha=1, vect__max_df=0.25, vect__min_df=2, vect__ngram_range=(1, 2), score=0.862, total=   7.1s\n"
     ]
    },
    {
     "name": "stderr",
     "output_type": "stream",
     "text": [
      "[Parallel(n_jobs=1)]: Done   1 out of   1 | elapsed:    7.0s remaining:    0.0s\n"
     ]
    },
    {
     "name": "stdout",
     "output_type": "stream",
     "text": [
      "[CV] clf__alpha=1, vect__max_df=0.25, vect__min_df=2, vect__ngram_range=(1, 2) \n",
      "[CV]  clf__alpha=1, vect__max_df=0.25, vect__min_df=2, vect__ngram_range=(1, 2), score=0.871, total=   7.5s\n"
     ]
    },
    {
     "name": "stderr",
     "output_type": "stream",
     "text": [
      "[Parallel(n_jobs=1)]: Done   2 out of   2 | elapsed:   14.6s remaining:    0.0s\n"
     ]
    },
    {
     "name": "stdout",
     "output_type": "stream",
     "text": [
      "[CV] clf__alpha=1, vect__max_df=0.25, vect__min_df=2, vect__ngram_range=(1, 2) \n",
      "[CV]  clf__alpha=1, vect__max_df=0.25, vect__min_df=2, vect__ngram_range=(1, 2), score=0.863, total=   7.5s\n"
     ]
    },
    {
     "name": "stderr",
     "output_type": "stream",
     "text": [
      "[Parallel(n_jobs=1)]: Done   3 out of   3 | elapsed:   22.2s remaining:    0.0s\n"
     ]
    },
    {
     "name": "stdout",
     "output_type": "stream",
     "text": [
      "[CV] clf__alpha=1, vect__max_df=0.25, vect__min_df=5, vect__ngram_range=(1, 2) \n",
      "[CV]  clf__alpha=1, vect__max_df=0.25, vect__min_df=5, vect__ngram_range=(1, 2), score=0.857, total=   7.4s\n"
     ]
    },
    {
     "name": "stderr",
     "output_type": "stream",
     "text": [
      "[Parallel(n_jobs=1)]: Done   4 out of   4 | elapsed:   29.8s remaining:    0.0s\n"
     ]
    },
    {
     "name": "stdout",
     "output_type": "stream",
     "text": [
      "[CV] clf__alpha=1, vect__max_df=0.25, vect__min_df=5, vect__ngram_range=(1, 2) \n",
      "[CV]  clf__alpha=1, vect__max_df=0.25, vect__min_df=5, vect__ngram_range=(1, 2), score=0.861, total=   7.0s\n",
      "[CV] clf__alpha=1, vect__max_df=0.25, vect__min_df=5, vect__ngram_range=(1, 2) \n",
      "[CV]  clf__alpha=1, vect__max_df=0.25, vect__min_df=5, vect__ngram_range=(1, 2), score=0.859, total=   7.2s\n",
      "[CV] clf__alpha=1, vect__max_df=0.4, vect__min_df=2, vect__ngram_range=(1, 2) \n",
      "[CV]  clf__alpha=1, vect__max_df=0.4, vect__min_df=2, vect__ngram_range=(1, 2), score=0.863, total=   7.1s\n",
      "[CV] clf__alpha=1, vect__max_df=0.4, vect__min_df=2, vect__ngram_range=(1, 2) \n",
      "[CV]  clf__alpha=1, vect__max_df=0.4, vect__min_df=2, vect__ngram_range=(1, 2), score=0.870, total=   7.6s\n",
      "[CV] clf__alpha=1, vect__max_df=0.4, vect__min_df=2, vect__ngram_range=(1, 2) \n",
      "[CV]  clf__alpha=1, vect__max_df=0.4, vect__min_df=2, vect__ngram_range=(1, 2), score=0.865, total=   7.2s\n",
      "[CV] clf__alpha=1, vect__max_df=0.4, vect__min_df=5, vect__ngram_range=(1, 2) \n",
      "[CV]  clf__alpha=1, vect__max_df=0.4, vect__min_df=5, vect__ngram_range=(1, 2), score=0.855, total=   7.6s\n",
      "[CV] clf__alpha=1, vect__max_df=0.4, vect__min_df=5, vect__ngram_range=(1, 2) \n",
      "[CV]  clf__alpha=1, vect__max_df=0.4, vect__min_df=5, vect__ngram_range=(1, 2), score=0.863, total=   7.3s\n",
      "[CV] clf__alpha=1, vect__max_df=0.4, vect__min_df=5, vect__ngram_range=(1, 2) \n",
      "[CV]  clf__alpha=1, vect__max_df=0.4, vect__min_df=5, vect__ngram_range=(1, 2), score=0.862, total=   7.3s\n",
      "[CV] clf__alpha=1, vect__max_df=0.5, vect__min_df=2, vect__ngram_range=(1, 2) \n",
      "[CV]  clf__alpha=1, vect__max_df=0.5, vect__min_df=2, vect__ngram_range=(1, 2), score=0.862, total=   7.8s\n",
      "[CV] clf__alpha=1, vect__max_df=0.5, vect__min_df=2, vect__ngram_range=(1, 2) \n",
      "[CV]  clf__alpha=1, vect__max_df=0.5, vect__min_df=2, vect__ngram_range=(1, 2), score=0.868, total=   8.3s\n",
      "[CV] clf__alpha=1, vect__max_df=0.5, vect__min_df=2, vect__ngram_range=(1, 2) \n",
      "[CV]  clf__alpha=1, vect__max_df=0.5, vect__min_df=2, vect__ngram_range=(1, 2), score=0.865, total=   7.3s\n",
      "[CV] clf__alpha=1, vect__max_df=0.5, vect__min_df=5, vect__ngram_range=(1, 2) \n",
      "[CV]  clf__alpha=1, vect__max_df=0.5, vect__min_df=5, vect__ngram_range=(1, 2), score=0.854, total=   7.4s\n",
      "[CV] clf__alpha=1, vect__max_df=0.5, vect__min_df=5, vect__ngram_range=(1, 2) \n",
      "[CV]  clf__alpha=1, vect__max_df=0.5, vect__min_df=5, vect__ngram_range=(1, 2), score=0.863, total=   7.3s\n",
      "[CV] clf__alpha=1, vect__max_df=0.5, vect__min_df=5, vect__ngram_range=(1, 2) \n",
      "[CV]  clf__alpha=1, vect__max_df=0.5, vect__min_df=5, vect__ngram_range=(1, 2), score=0.861, total=   9.0s\n",
      "[CV] clf__alpha=10, vect__max_df=0.25, vect__min_df=2, vect__ngram_range=(1, 2) \n",
      "[CV]  clf__alpha=10, vect__max_df=0.25, vect__min_df=2, vect__ngram_range=(1, 2), score=0.858, total=   8.4s\n",
      "[CV] clf__alpha=10, vect__max_df=0.25, vect__min_df=2, vect__ngram_range=(1, 2) \n",
      "[CV]  clf__alpha=10, vect__max_df=0.25, vect__min_df=2, vect__ngram_range=(1, 2), score=0.863, total=   8.3s\n",
      "[CV] clf__alpha=10, vect__max_df=0.25, vect__min_df=2, vect__ngram_range=(1, 2) \n",
      "[CV]  clf__alpha=10, vect__max_df=0.25, vect__min_df=2, vect__ngram_range=(1, 2), score=0.855, total=   8.1s\n",
      "[CV] clf__alpha=10, vect__max_df=0.25, vect__min_df=5, vect__ngram_range=(1, 2) \n",
      "[CV]  clf__alpha=10, vect__max_df=0.25, vect__min_df=5, vect__ngram_range=(1, 2), score=0.857, total=   7.0s\n",
      "[CV] clf__alpha=10, vect__max_df=0.25, vect__min_df=5, vect__ngram_range=(1, 2) \n",
      "[CV]  clf__alpha=10, vect__max_df=0.25, vect__min_df=5, vect__ngram_range=(1, 2), score=0.860, total=   8.0s\n",
      "[CV] clf__alpha=10, vect__max_df=0.25, vect__min_df=5, vect__ngram_range=(1, 2) \n",
      "[CV]  clf__alpha=10, vect__max_df=0.25, vect__min_df=5, vect__ngram_range=(1, 2), score=0.853, total=   8.2s\n",
      "[CV] clf__alpha=10, vect__max_df=0.4, vect__min_df=2, vect__ngram_range=(1, 2) \n",
      "[CV]  clf__alpha=10, vect__max_df=0.4, vect__min_df=2, vect__ngram_range=(1, 2), score=0.858, total=   7.1s\n",
      "[CV] clf__alpha=10, vect__max_df=0.4, vect__min_df=2, vect__ngram_range=(1, 2) \n",
      "[CV]  clf__alpha=10, vect__max_df=0.4, vect__min_df=2, vect__ngram_range=(1, 2), score=0.866, total=   7.6s\n",
      "[CV] clf__alpha=10, vect__max_df=0.4, vect__min_df=2, vect__ngram_range=(1, 2) \n",
      "[CV]  clf__alpha=10, vect__max_df=0.4, vect__min_df=2, vect__ngram_range=(1, 2), score=0.857, total=   7.2s\n",
      "[CV] clf__alpha=10, vect__max_df=0.4, vect__min_df=5, vect__ngram_range=(1, 2) \n",
      "[CV]  clf__alpha=10, vect__max_df=0.4, vect__min_df=5, vect__ngram_range=(1, 2), score=0.855, total=   6.8s\n",
      "[CV] clf__alpha=10, vect__max_df=0.4, vect__min_df=5, vect__ngram_range=(1, 2) \n",
      "[CV]  clf__alpha=10, vect__max_df=0.4, vect__min_df=5, vect__ngram_range=(1, 2), score=0.861, total=   7.1s\n",
      "[CV] clf__alpha=10, vect__max_df=0.4, vect__min_df=5, vect__ngram_range=(1, 2) \n",
      "[CV]  clf__alpha=10, vect__max_df=0.4, vect__min_df=5, vect__ngram_range=(1, 2), score=0.854, total=   7.1s\n",
      "[CV] clf__alpha=10, vect__max_df=0.5, vect__min_df=2, vect__ngram_range=(1, 2) \n",
      "[CV]  clf__alpha=10, vect__max_df=0.5, vect__min_df=2, vect__ngram_range=(1, 2), score=0.857, total=   7.9s\n",
      "[CV] clf__alpha=10, vect__max_df=0.5, vect__min_df=2, vect__ngram_range=(1, 2) \n",
      "[CV]  clf__alpha=10, vect__max_df=0.5, vect__min_df=2, vect__ngram_range=(1, 2), score=0.865, total=   7.4s\n",
      "[CV] clf__alpha=10, vect__max_df=0.5, vect__min_df=2, vect__ngram_range=(1, 2) \n",
      "[CV]  clf__alpha=10, vect__max_df=0.5, vect__min_df=2, vect__ngram_range=(1, 2), score=0.857, total=   7.6s\n",
      "[CV] clf__alpha=10, vect__max_df=0.5, vect__min_df=5, vect__ngram_range=(1, 2) \n",
      "[CV]  clf__alpha=10, vect__max_df=0.5, vect__min_df=5, vect__ngram_range=(1, 2), score=0.854, total=   7.8s\n",
      "[CV] clf__alpha=10, vect__max_df=0.5, vect__min_df=5, vect__ngram_range=(1, 2) \n",
      "[CV]  clf__alpha=10, vect__max_df=0.5, vect__min_df=5, vect__ngram_range=(1, 2), score=0.860, total=   7.3s\n",
      "[CV] clf__alpha=10, vect__max_df=0.5, vect__min_df=5, vect__ngram_range=(1, 2) \n",
      "[CV]  clf__alpha=10, vect__max_df=0.5, vect__min_df=5, vect__ngram_range=(1, 2), score=0.855, total=   8.1s\n",
      "[CV] clf__alpha=20, vect__max_df=0.25, vect__min_df=2, vect__ngram_range=(1, 2) \n",
      "[CV]  clf__alpha=20, vect__max_df=0.25, vect__min_df=2, vect__ngram_range=(1, 2), score=0.857, total=   7.6s\n",
      "[CV] clf__alpha=20, vect__max_df=0.25, vect__min_df=2, vect__ngram_range=(1, 2) \n",
      "[CV]  clf__alpha=20, vect__max_df=0.25, vect__min_df=2, vect__ngram_range=(1, 2), score=0.859, total=   7.6s\n",
      "[CV] clf__alpha=20, vect__max_df=0.25, vect__min_df=2, vect__ngram_range=(1, 2) \n",
      "[CV]  clf__alpha=20, vect__max_df=0.25, vect__min_df=2, vect__ngram_range=(1, 2), score=0.852, total=   8.8s\n",
      "[CV] clf__alpha=20, vect__max_df=0.25, vect__min_df=5, vect__ngram_range=(1, 2) \n",
      "[CV]  clf__alpha=20, vect__max_df=0.25, vect__min_df=5, vect__ngram_range=(1, 2), score=0.854, total=   7.4s\n",
      "[CV] clf__alpha=20, vect__max_df=0.25, vect__min_df=5, vect__ngram_range=(1, 2) \n",
      "[CV]  clf__alpha=20, vect__max_df=0.25, vect__min_df=5, vect__ngram_range=(1, 2), score=0.858, total=   8.0s\n",
      "[CV] clf__alpha=20, vect__max_df=0.25, vect__min_df=5, vect__ngram_range=(1, 2) \n",
      "[CV]  clf__alpha=20, vect__max_df=0.25, vect__min_df=5, vect__ngram_range=(1, 2), score=0.852, total=   7.8s\n",
      "[CV] clf__alpha=20, vect__max_df=0.4, vect__min_df=2, vect__ngram_range=(1, 2) \n",
      "[CV]  clf__alpha=20, vect__max_df=0.4, vect__min_df=2, vect__ngram_range=(1, 2), score=0.855, total=   7.9s\n",
      "[CV] clf__alpha=20, vect__max_df=0.4, vect__min_df=2, vect__ngram_range=(1, 2) \n",
      "[CV]  clf__alpha=20, vect__max_df=0.4, vect__min_df=2, vect__ngram_range=(1, 2), score=0.859, total=   7.7s\n",
      "[CV] clf__alpha=20, vect__max_df=0.4, vect__min_df=2, vect__ngram_range=(1, 2) \n",
      "[CV]  clf__alpha=20, vect__max_df=0.4, vect__min_df=2, vect__ngram_range=(1, 2), score=0.855, total=   7.8s\n",
      "[CV] clf__alpha=20, vect__max_df=0.4, vect__min_df=5, vect__ngram_range=(1, 2) \n",
      "[CV]  clf__alpha=20, vect__max_df=0.4, vect__min_df=5, vect__ngram_range=(1, 2), score=0.853, total=   7.2s\n",
      "[CV] clf__alpha=20, vect__max_df=0.4, vect__min_df=5, vect__ngram_range=(1, 2) \n",
      "[CV]  clf__alpha=20, vect__max_df=0.4, vect__min_df=5, vect__ngram_range=(1, 2), score=0.858, total=   8.9s\n",
      "[CV] clf__alpha=20, vect__max_df=0.4, vect__min_df=5, vect__ngram_range=(1, 2) \n"
     ]
    },
    {
     "name": "stdout",
     "output_type": "stream",
     "text": [
      "[CV]  clf__alpha=20, vect__max_df=0.4, vect__min_df=5, vect__ngram_range=(1, 2), score=0.853, total=   7.6s\n",
      "[CV] clf__alpha=20, vect__max_df=0.5, vect__min_df=2, vect__ngram_range=(1, 2) \n",
      "[CV]  clf__alpha=20, vect__max_df=0.5, vect__min_df=2, vect__ngram_range=(1, 2), score=0.854, total=   8.2s\n",
      "[CV] clf__alpha=20, vect__max_df=0.5, vect__min_df=2, vect__ngram_range=(1, 2) \n",
      "[CV]  clf__alpha=20, vect__max_df=0.5, vect__min_df=2, vect__ngram_range=(1, 2), score=0.859, total=   8.3s\n",
      "[CV] clf__alpha=20, vect__max_df=0.5, vect__min_df=2, vect__ngram_range=(1, 2) \n",
      "[CV]  clf__alpha=20, vect__max_df=0.5, vect__min_df=2, vect__ngram_range=(1, 2), score=0.855, total=   7.6s\n",
      "[CV] clf__alpha=20, vect__max_df=0.5, vect__min_df=5, vect__ngram_range=(1, 2) \n",
      "[CV]  clf__alpha=20, vect__max_df=0.5, vect__min_df=5, vect__ngram_range=(1, 2), score=0.852, total=   8.2s\n",
      "[CV] clf__alpha=20, vect__max_df=0.5, vect__min_df=5, vect__ngram_range=(1, 2) \n",
      "[CV]  clf__alpha=20, vect__max_df=0.5, vect__min_df=5, vect__ngram_range=(1, 2), score=0.858, total=   9.1s\n",
      "[CV] clf__alpha=20, vect__max_df=0.5, vect__min_df=5, vect__ngram_range=(1, 2) \n",
      "[CV]  clf__alpha=20, vect__max_df=0.5, vect__min_df=5, vect__ngram_range=(1, 2), score=0.853, total=   7.1s\n"
     ]
    },
    {
     "name": "stderr",
     "output_type": "stream",
     "text": [
      "[Parallel(n_jobs=1)]: Done  54 out of  54 | elapsed:  7.0min finished\n"
     ]
    },
    {
     "name": "stdout",
     "output_type": "stream",
     "text": [
      "Best parameters:  {'clf__alpha': 1, 'vect__max_df': 0.4, 'vect__min_df': 2, 'vect__ngram_range': (1, 2)}\n",
      "Accuracy score:  0.8736\n",
      "Precision score:  0.8838849701573521\n",
      "Recall score:  0.8623610375860243\n",
      "F1 score:  0.8729903536977492\n",
      "--------------------------\n",
      "Confusion Matrix:  [[3294  428]\n",
      " [ 520 3258]]\n"
     ]
    }
   ],
   "source": [
    "#we have to find the best parameters for NB\n",
    "parameters = {\"vect__min_df\": [2, 5], \"vect__max_df\": [0.25, 0.4, 0.5], \"vect__ngram_range\": [(1, 2)], \"clf__alpha\" : [1, 10, 20]}\n",
    "\n",
    "pipeline_nb = Pipeline([('vect', CountVectorizer()),\n",
    "                     ('clf', MultinomialNB())])\n",
    "nbgridsearch = GridSearchCV(pipeline_nb, parameters, cv=3, verbose= 5)\n",
    "nbgridsearch.fit(X_train, y_train)\n",
    "\n",
    "y_pred = nbgridsearch.predict(X_test)\n",
    "\n",
    "print('Best parameters: ', nbgridsearch.best_params_)\n",
    "print('Accuracy score: ', format(accuracy_score(y_test, y_pred)))\n",
    "print('Precision score: ', format(precision_score(y_test, y_pred)))\n",
    "print('Recall score: ', format(recall_score(y_test, y_pred)))\n",
    "print('F1 score: ', format(f1_score(y_test, y_pred)))\n",
    "print('--------------------------')\n",
    "print('Confusion Matrix: ',confusion_matrix(y_test, y_pred))"
   ]
  },
  {
   "cell_type": "markdown",
   "metadata": {},
   "source": [
    "In the above we can see that Naive Bayes with tfidf(0.878) has greater accuracy than Naive Bayes  with count vectorizer(0.873)"
   ]
  },
  {
   "cell_type": "markdown",
   "metadata": {},
   "source": [
    "## SVM (Linear SVC) with TF-IDF"
   ]
  },
  {
   "cell_type": "code",
   "execution_count": 52,
   "metadata": {},
   "outputs": [
    {
     "name": "stdout",
     "output_type": "stream",
     "text": [
      "Fitting 3 folds for each of 12 candidates, totalling 36 fits\n"
     ]
    },
    {
     "name": "stderr",
     "output_type": "stream",
     "text": [
      "[Parallel(n_jobs=1)]: Using backend SequentialBackend with 1 concurrent workers.\n"
     ]
    },
    {
     "name": "stdout",
     "output_type": "stream",
     "text": [
      "[CV] clf__C=10, tfidf__max_df=0.25, tfidf__min_df=2, tfidf__ngram_range=(1, 2) \n",
      "[CV]  clf__C=10, tfidf__max_df=0.25, tfidf__min_df=2, tfidf__ngram_range=(1, 2), score=0.887, total=  10.0s\n"
     ]
    },
    {
     "name": "stderr",
     "output_type": "stream",
     "text": [
      "[Parallel(n_jobs=1)]: Done   1 out of   1 | elapsed:    9.9s remaining:    0.0s\n"
     ]
    },
    {
     "name": "stdout",
     "output_type": "stream",
     "text": [
      "[CV] clf__C=10, tfidf__max_df=0.25, tfidf__min_df=2, tfidf__ngram_range=(1, 2) \n",
      "[CV]  clf__C=10, tfidf__max_df=0.25, tfidf__min_df=2, tfidf__ngram_range=(1, 2), score=0.887, total=  10.6s\n"
     ]
    },
    {
     "name": "stderr",
     "output_type": "stream",
     "text": [
      "[Parallel(n_jobs=1)]: Done   2 out of   2 | elapsed:   20.6s remaining:    0.0s\n"
     ]
    },
    {
     "name": "stdout",
     "output_type": "stream",
     "text": [
      "[CV] clf__C=10, tfidf__max_df=0.25, tfidf__min_df=2, tfidf__ngram_range=(1, 2) \n",
      "[CV]  clf__C=10, tfidf__max_df=0.25, tfidf__min_df=2, tfidf__ngram_range=(1, 2), score=0.886, total=   8.6s\n"
     ]
    },
    {
     "name": "stderr",
     "output_type": "stream",
     "text": [
      "[Parallel(n_jobs=1)]: Done   3 out of   3 | elapsed:   29.4s remaining:    0.0s\n"
     ]
    },
    {
     "name": "stdout",
     "output_type": "stream",
     "text": [
      "[CV] clf__C=10, tfidf__max_df=0.25, tfidf__min_df=5, tfidf__ngram_range=(1, 2) \n",
      "[CV]  clf__C=10, tfidf__max_df=0.25, tfidf__min_df=5, tfidf__ngram_range=(1, 2), score=0.878, total=   7.5s\n"
     ]
    },
    {
     "name": "stderr",
     "output_type": "stream",
     "text": [
      "[Parallel(n_jobs=1)]: Done   4 out of   4 | elapsed:   37.0s remaining:    0.0s\n"
     ]
    },
    {
     "name": "stdout",
     "output_type": "stream",
     "text": [
      "[CV] clf__C=10, tfidf__max_df=0.25, tfidf__min_df=5, tfidf__ngram_range=(1, 2) \n",
      "[CV]  clf__C=10, tfidf__max_df=0.25, tfidf__min_df=5, tfidf__ngram_range=(1, 2), score=0.873, total=   8.2s\n",
      "[CV] clf__C=10, tfidf__max_df=0.25, tfidf__min_df=5, tfidf__ngram_range=(1, 2) \n",
      "[CV]  clf__C=10, tfidf__max_df=0.25, tfidf__min_df=5, tfidf__ngram_range=(1, 2), score=0.876, total=   8.1s\n",
      "[CV] clf__C=10, tfidf__max_df=0.5, tfidf__min_df=2, tfidf__ngram_range=(1, 2) \n",
      "[CV]  clf__C=10, tfidf__max_df=0.5, tfidf__min_df=2, tfidf__ngram_range=(1, 2), score=0.889, total=   8.9s\n",
      "[CV] clf__C=10, tfidf__max_df=0.5, tfidf__min_df=2, tfidf__ngram_range=(1, 2) \n",
      "[CV]  clf__C=10, tfidf__max_df=0.5, tfidf__min_df=2, tfidf__ngram_range=(1, 2), score=0.889, total=  11.3s\n",
      "[CV] clf__C=10, tfidf__max_df=0.5, tfidf__min_df=2, tfidf__ngram_range=(1, 2) \n",
      "[CV]  clf__C=10, tfidf__max_df=0.5, tfidf__min_df=2, tfidf__ngram_range=(1, 2), score=0.885, total=  10.6s\n",
      "[CV] clf__C=10, tfidf__max_df=0.5, tfidf__min_df=5, tfidf__ngram_range=(1, 2) \n",
      "[CV]  clf__C=10, tfidf__max_df=0.5, tfidf__min_df=5, tfidf__ngram_range=(1, 2), score=0.877, total=   8.7s\n",
      "[CV] clf__C=10, tfidf__max_df=0.5, tfidf__min_df=5, tfidf__ngram_range=(1, 2) \n",
      "[CV]  clf__C=10, tfidf__max_df=0.5, tfidf__min_df=5, tfidf__ngram_range=(1, 2), score=0.875, total=   8.5s\n",
      "[CV] clf__C=10, tfidf__max_df=0.5, tfidf__min_df=5, tfidf__ngram_range=(1, 2) \n",
      "[CV]  clf__C=10, tfidf__max_df=0.5, tfidf__min_df=5, tfidf__ngram_range=(1, 2), score=0.878, total=   8.2s\n",
      "[CV] clf__C=100, tfidf__max_df=0.25, tfidf__min_df=2, tfidf__ngram_range=(1, 2) \n",
      "[CV]  clf__C=100, tfidf__max_df=0.25, tfidf__min_df=2, tfidf__ngram_range=(1, 2), score=0.886, total=  13.6s\n",
      "[CV] clf__C=100, tfidf__max_df=0.25, tfidf__min_df=2, tfidf__ngram_range=(1, 2) \n",
      "[CV]  clf__C=100, tfidf__max_df=0.25, tfidf__min_df=2, tfidf__ngram_range=(1, 2), score=0.885, total=  13.3s\n",
      "[CV] clf__C=100, tfidf__max_df=0.25, tfidf__min_df=2, tfidf__ngram_range=(1, 2) \n",
      "[CV]  clf__C=100, tfidf__max_df=0.25, tfidf__min_df=2, tfidf__ngram_range=(1, 2), score=0.885, total=  12.0s\n",
      "[CV] clf__C=100, tfidf__max_df=0.25, tfidf__min_df=5, tfidf__ngram_range=(1, 2) \n",
      "[CV]  clf__C=100, tfidf__max_df=0.25, tfidf__min_df=5, tfidf__ngram_range=(1, 2), score=0.875, total=  10.3s\n",
      "[CV] clf__C=100, tfidf__max_df=0.25, tfidf__min_df=5, tfidf__ngram_range=(1, 2) \n",
      "[CV]  clf__C=100, tfidf__max_df=0.25, tfidf__min_df=5, tfidf__ngram_range=(1, 2), score=0.870, total=  12.0s\n",
      "[CV] clf__C=100, tfidf__max_df=0.25, tfidf__min_df=5, tfidf__ngram_range=(1, 2) \n",
      "[CV]  clf__C=100, tfidf__max_df=0.25, tfidf__min_df=5, tfidf__ngram_range=(1, 2), score=0.875, total=  11.1s\n",
      "[CV] clf__C=100, tfidf__max_df=0.5, tfidf__min_df=2, tfidf__ngram_range=(1, 2) \n",
      "[CV]  clf__C=100, tfidf__max_df=0.5, tfidf__min_df=2, tfidf__ngram_range=(1, 2), score=0.887, total=  16.3s\n",
      "[CV] clf__C=100, tfidf__max_df=0.5, tfidf__min_df=2, tfidf__ngram_range=(1, 2) \n",
      "[CV]  clf__C=100, tfidf__max_df=0.5, tfidf__min_df=2, tfidf__ngram_range=(1, 2), score=0.888, total=  13.3s\n",
      "[CV] clf__C=100, tfidf__max_df=0.5, tfidf__min_df=2, tfidf__ngram_range=(1, 2) \n",
      "[CV]  clf__C=100, tfidf__max_df=0.5, tfidf__min_df=2, tfidf__ngram_range=(1, 2), score=0.884, total=  14.0s\n",
      "[CV] clf__C=100, tfidf__max_df=0.5, tfidf__min_df=5, tfidf__ngram_range=(1, 2) \n",
      "[CV]  clf__C=100, tfidf__max_df=0.5, tfidf__min_df=5, tfidf__ngram_range=(1, 2), score=0.875, total=  11.7s\n",
      "[CV] clf__C=100, tfidf__max_df=0.5, tfidf__min_df=5, tfidf__ngram_range=(1, 2) \n",
      "[CV]  clf__C=100, tfidf__max_df=0.5, tfidf__min_df=5, tfidf__ngram_range=(1, 2), score=0.872, total=  11.9s\n",
      "[CV] clf__C=100, tfidf__max_df=0.5, tfidf__min_df=5, tfidf__ngram_range=(1, 2) \n",
      "[CV]  clf__C=100, tfidf__max_df=0.5, tfidf__min_df=5, tfidf__ngram_range=(1, 2), score=0.876, total=  11.6s\n",
      "[CV] clf__C=500, tfidf__max_df=0.25, tfidf__min_df=2, tfidf__ngram_range=(1, 2) \n",
      "[CV]  clf__C=500, tfidf__max_df=0.25, tfidf__min_df=2, tfidf__ngram_range=(1, 2), score=0.887, total=  13.0s\n",
      "[CV] clf__C=500, tfidf__max_df=0.25, tfidf__min_df=2, tfidf__ngram_range=(1, 2) \n",
      "[CV]  clf__C=500, tfidf__max_df=0.25, tfidf__min_df=2, tfidf__ngram_range=(1, 2), score=0.885, total=  13.5s\n",
      "[CV] clf__C=500, tfidf__max_df=0.25, tfidf__min_df=2, tfidf__ngram_range=(1, 2) \n",
      "[CV]  clf__C=500, tfidf__max_df=0.25, tfidf__min_df=2, tfidf__ngram_range=(1, 2), score=0.885, total=  14.0s\n",
      "[CV] clf__C=500, tfidf__max_df=0.25, tfidf__min_df=5, tfidf__ngram_range=(1, 2) \n",
      "[CV]  clf__C=500, tfidf__max_df=0.25, tfidf__min_df=5, tfidf__ngram_range=(1, 2), score=0.875, total=  11.5s\n",
      "[CV] clf__C=500, tfidf__max_df=0.25, tfidf__min_df=5, tfidf__ngram_range=(1, 2) \n",
      "[CV]  clf__C=500, tfidf__max_df=0.25, tfidf__min_df=5, tfidf__ngram_range=(1, 2), score=0.870, total=  11.1s\n",
      "[CV] clf__C=500, tfidf__max_df=0.25, tfidf__min_df=5, tfidf__ngram_range=(1, 2) \n",
      "[CV]  clf__C=500, tfidf__max_df=0.25, tfidf__min_df=5, tfidf__ngram_range=(1, 2), score=0.875, total=  10.4s\n",
      "[CV] clf__C=500, tfidf__max_df=0.5, tfidf__min_df=2, tfidf__ngram_range=(1, 2) \n",
      "[CV]  clf__C=500, tfidf__max_df=0.5, tfidf__min_df=2, tfidf__ngram_range=(1, 2), score=0.887, total=  12.8s\n",
      "[CV] clf__C=500, tfidf__max_df=0.5, tfidf__min_df=2, tfidf__ngram_range=(1, 2) \n",
      "[CV]  clf__C=500, tfidf__max_df=0.5, tfidf__min_df=2, tfidf__ngram_range=(1, 2), score=0.888, total=  13.9s\n",
      "[CV] clf__C=500, tfidf__max_df=0.5, tfidf__min_df=2, tfidf__ngram_range=(1, 2) \n",
      "[CV]  clf__C=500, tfidf__max_df=0.5, tfidf__min_df=2, tfidf__ngram_range=(1, 2), score=0.884, total=  13.7s\n",
      "[CV] clf__C=500, tfidf__max_df=0.5, tfidf__min_df=5, tfidf__ngram_range=(1, 2) \n",
      "[CV]  clf__C=500, tfidf__max_df=0.5, tfidf__min_df=5, tfidf__ngram_range=(1, 2), score=0.875, total=  11.1s\n",
      "[CV] clf__C=500, tfidf__max_df=0.5, tfidf__min_df=5, tfidf__ngram_range=(1, 2) \n",
      "[CV]  clf__C=500, tfidf__max_df=0.5, tfidf__min_df=5, tfidf__ngram_range=(1, 2), score=0.872, total=  12.6s\n",
      "[CV] clf__C=500, tfidf__max_df=0.5, tfidf__min_df=5, tfidf__ngram_range=(1, 2) \n",
      "[CV]  clf__C=500, tfidf__max_df=0.5, tfidf__min_df=5, tfidf__ngram_range=(1, 2), score=0.876, total=  11.9s\n"
     ]
    },
    {
     "name": "stderr",
     "output_type": "stream",
     "text": [
      "[Parallel(n_jobs=1)]: Done  36 out of  36 | elapsed:  6.9min finished\n"
     ]
    },
    {
     "name": "stdout",
     "output_type": "stream",
     "text": [
      "Best parameters:  {'clf__C': 10, 'tfidf__max_df': 0.5, 'tfidf__min_df': 2, 'tfidf__ngram_range': (1, 2)}\n",
      "Accuracy score:  0.8862666666666666\n",
      "Precision score:  0.8865979381443299\n",
      "Recall score:  0.8877713075701429\n",
      "F1 score:  0.8871842348895648\n",
      "--------------------------\n",
      "Confusion Matrix:  [[3293  429]\n",
      " [ 424 3354]]\n"
     ]
    }
   ],
   "source": [
    "#we have to find the best parameters for NB\n",
    "parameters = {\"tfidf__min_df\": [2,5], \"tfidf__max_df\": [0.25, 0.5], \"tfidf__ngram_range\": [(1, 2)], \"clf__C\" : [10, 100,500]}\n",
    "\n",
    "pipeline_svm = Pipeline([('tfidf', TfidfVectorizer()),\n",
    "                     ('clf', LinearSVC())])\n",
    "svmgridsearch = GridSearchCV(pipeline_svm, parameters, cv=3, verbose= 5)\n",
    "svmgridsearch.fit(X_train, y_train)\n",
    "\n",
    "y_pred = svmgridsearch.predict(X_test)\n",
    "\n",
    "print('Best parameters: ', svmgridsearch.best_params_)\n",
    "print('Accuracy score: ', format(accuracy_score(y_test, y_pred)))\n",
    "print('Precision score: ', format(precision_score(y_test, y_pred)))\n",
    "print('Recall score: ', format(recall_score(y_test, y_pred)))\n",
    "print('F1 score: ', format(f1_score(y_test, y_pred)))\n",
    "print('--------------------------')\n",
    "print('Confusion Matrix: ',confusion_matrix(y_test, y_pred))"
   ]
  },
  {
   "cell_type": "markdown",
   "metadata": {},
   "source": [
    "## Linear SVC with Count Vectorizer"
   ]
  },
  {
   "cell_type": "code",
   "execution_count": 53,
   "metadata": {},
   "outputs": [
    {
     "name": "stdout",
     "output_type": "stream",
     "text": [
      "Fitting 3 folds for each of 12 candidates, totalling 36 fits\n"
     ]
    },
    {
     "name": "stderr",
     "output_type": "stream",
     "text": [
      "[Parallel(n_jobs=1)]: Using backend SequentialBackend with 1 concurrent workers.\n"
     ]
    },
    {
     "name": "stdout",
     "output_type": "stream",
     "text": [
      "[CV] clf__C=10, vect__max_df=0.25, vect__min_df=2, vect__ngram_range=(1, 2) \n",
      "[CV]  clf__C=10, vect__max_df=0.25, vect__min_df=2, vect__ngram_range=(1, 2), score=0.869, total=  11.3s\n"
     ]
    },
    {
     "name": "stderr",
     "output_type": "stream",
     "text": [
      "[Parallel(n_jobs=1)]: Done   1 out of   1 | elapsed:   11.2s remaining:    0.0s\n"
     ]
    },
    {
     "name": "stdout",
     "output_type": "stream",
     "text": [
      "[CV] clf__C=10, vect__max_df=0.25, vect__min_df=2, vect__ngram_range=(1, 2) \n",
      "[CV]  clf__C=10, vect__max_df=0.25, vect__min_df=2, vect__ngram_range=(1, 2), score=0.867, total=  11.4s\n"
     ]
    },
    {
     "name": "stderr",
     "output_type": "stream",
     "text": [
      "[Parallel(n_jobs=1)]: Done   2 out of   2 | elapsed:   22.7s remaining:    0.0s\n"
     ]
    },
    {
     "name": "stdout",
     "output_type": "stream",
     "text": [
      "[CV] clf__C=10, vect__max_df=0.25, vect__min_df=2, vect__ngram_range=(1, 2) \n",
      "[CV]  clf__C=10, vect__max_df=0.25, vect__min_df=2, vect__ngram_range=(1, 2), score=0.872, total=  11.5s\n"
     ]
    },
    {
     "name": "stderr",
     "output_type": "stream",
     "text": [
      "[Parallel(n_jobs=1)]: Done   3 out of   3 | elapsed:   34.4s remaining:    0.0s\n"
     ]
    },
    {
     "name": "stdout",
     "output_type": "stream",
     "text": [
      "[CV] clf__C=10, vect__max_df=0.25, vect__min_df=5, vect__ngram_range=(1, 2) \n",
      "[CV]  clf__C=10, vect__max_df=0.25, vect__min_df=5, vect__ngram_range=(1, 2), score=0.862, total=   8.9s\n"
     ]
    },
    {
     "name": "stderr",
     "output_type": "stream",
     "text": [
      "[Parallel(n_jobs=1)]: Done   4 out of   4 | elapsed:   43.4s remaining:    0.0s\n"
     ]
    },
    {
     "name": "stdout",
     "output_type": "stream",
     "text": [
      "[CV] clf__C=10, vect__max_df=0.25, vect__min_df=5, vect__ngram_range=(1, 2) \n",
      "[CV]  clf__C=10, vect__max_df=0.25, vect__min_df=5, vect__ngram_range=(1, 2), score=0.856, total=   9.1s\n",
      "[CV] clf__C=10, vect__max_df=0.25, vect__min_df=5, vect__ngram_range=(1, 2) \n",
      "[CV]  clf__C=10, vect__max_df=0.25, vect__min_df=5, vect__ngram_range=(1, 2), score=0.862, total=  10.2s\n",
      "[CV] clf__C=10, vect__max_df=0.5, vect__min_df=2, vect__ngram_range=(1, 2) \n",
      "[CV]  clf__C=10, vect__max_df=0.5, vect__min_df=2, vect__ngram_range=(1, 2), score=0.871, total=  12.0s\n",
      "[CV] clf__C=10, vect__max_df=0.5, vect__min_df=2, vect__ngram_range=(1, 2) \n",
      "[CV]  clf__C=10, vect__max_df=0.5, vect__min_df=2, vect__ngram_range=(1, 2), score=0.867, total=  10.4s\n",
      "[CV] clf__C=10, vect__max_df=0.5, vect__min_df=2, vect__ngram_range=(1, 2) \n",
      "[CV]  clf__C=10, vect__max_df=0.5, vect__min_df=2, vect__ngram_range=(1, 2), score=0.871, total=  10.4s\n",
      "[CV] clf__C=10, vect__max_df=0.5, vect__min_df=5, vect__ngram_range=(1, 2) \n",
      "[CV]  clf__C=10, vect__max_df=0.5, vect__min_df=5, vect__ngram_range=(1, 2), score=0.860, total=  11.1s\n",
      "[CV] clf__C=10, vect__max_df=0.5, vect__min_df=5, vect__ngram_range=(1, 2) \n",
      "[CV]  clf__C=10, vect__max_df=0.5, vect__min_df=5, vect__ngram_range=(1, 2), score=0.858, total=  11.2s\n",
      "[CV] clf__C=10, vect__max_df=0.5, vect__min_df=5, vect__ngram_range=(1, 2) \n",
      "[CV]  clf__C=10, vect__max_df=0.5, vect__min_df=5, vect__ngram_range=(1, 2), score=0.861, total=  10.4s\n",
      "[CV] clf__C=100, vect__max_df=0.25, vect__min_df=2, vect__ngram_range=(1, 2) \n",
      "[CV]  clf__C=100, vect__max_df=0.25, vect__min_df=2, vect__ngram_range=(1, 2), score=0.869, total=   7.3s\n",
      "[CV] clf__C=100, vect__max_df=0.25, vect__min_df=2, vect__ngram_range=(1, 2) \n",
      "[CV]  clf__C=100, vect__max_df=0.25, vect__min_df=2, vect__ngram_range=(1, 2), score=0.867, total=   8.5s\n",
      "[CV] clf__C=100, vect__max_df=0.25, vect__min_df=2, vect__ngram_range=(1, 2) \n",
      "[CV]  clf__C=100, vect__max_df=0.25, vect__min_df=2, vect__ngram_range=(1, 2), score=0.872, total=   8.1s\n",
      "[CV] clf__C=100, vect__max_df=0.25, vect__min_df=5, vect__ngram_range=(1, 2) \n",
      "[CV]  clf__C=100, vect__max_df=0.25, vect__min_df=5, vect__ngram_range=(1, 2), score=0.863, total=   8.2s\n",
      "[CV] clf__C=100, vect__max_df=0.25, vect__min_df=5, vect__ngram_range=(1, 2) \n",
      "[CV]  clf__C=100, vect__max_df=0.25, vect__min_df=5, vect__ngram_range=(1, 2), score=0.856, total=   8.8s\n",
      "[CV] clf__C=100, vect__max_df=0.25, vect__min_df=5, vect__ngram_range=(1, 2) \n",
      "[CV]  clf__C=100, vect__max_df=0.25, vect__min_df=5, vect__ngram_range=(1, 2), score=0.862, total=  10.6s\n",
      "[CV] clf__C=100, vect__max_df=0.5, vect__min_df=2, vect__ngram_range=(1, 2) \n",
      "[CV]  clf__C=100, vect__max_df=0.5, vect__min_df=2, vect__ngram_range=(1, 2), score=0.871, total=   8.6s\n",
      "[CV] clf__C=100, vect__max_df=0.5, vect__min_df=2, vect__ngram_range=(1, 2) \n",
      "[CV]  clf__C=100, vect__max_df=0.5, vect__min_df=2, vect__ngram_range=(1, 2), score=0.867, total=  10.6s\n",
      "[CV] clf__C=100, vect__max_df=0.5, vect__min_df=2, vect__ngram_range=(1, 2) \n",
      "[CV]  clf__C=100, vect__max_df=0.5, vect__min_df=2, vect__ngram_range=(1, 2), score=0.871, total=   8.3s\n",
      "[CV] clf__C=100, vect__max_df=0.5, vect__min_df=5, vect__ngram_range=(1, 2) \n",
      "[CV]  clf__C=100, vect__max_df=0.5, vect__min_df=5, vect__ngram_range=(1, 2), score=0.859, total=   8.1s\n",
      "[CV] clf__C=100, vect__max_df=0.5, vect__min_df=5, vect__ngram_range=(1, 2) \n",
      "[CV]  clf__C=100, vect__max_df=0.5, vect__min_df=5, vect__ngram_range=(1, 2), score=0.858, total=  10.1s\n",
      "[CV] clf__C=100, vect__max_df=0.5, vect__min_df=5, vect__ngram_range=(1, 2) \n",
      "[CV]  clf__C=100, vect__max_df=0.5, vect__min_df=5, vect__ngram_range=(1, 2), score=0.861, total=   8.8s\n",
      "[CV] clf__C=500, vect__max_df=0.25, vect__min_df=2, vect__ngram_range=(1, 2) \n",
      "[CV]  clf__C=500, vect__max_df=0.25, vect__min_df=2, vect__ngram_range=(1, 2), score=0.869, total=   8.6s\n",
      "[CV] clf__C=500, vect__max_df=0.25, vect__min_df=2, vect__ngram_range=(1, 2) \n",
      "[CV]  clf__C=500, vect__max_df=0.25, vect__min_df=2, vect__ngram_range=(1, 2), score=0.866, total=   8.6s\n",
      "[CV] clf__C=500, vect__max_df=0.25, vect__min_df=2, vect__ngram_range=(1, 2) \n",
      "[CV]  clf__C=500, vect__max_df=0.25, vect__min_df=2, vect__ngram_range=(1, 2), score=0.872, total=   7.5s\n",
      "[CV] clf__C=500, vect__max_df=0.25, vect__min_df=5, vect__ngram_range=(1, 2) \n",
      "[CV]  clf__C=500, vect__max_df=0.25, vect__min_df=5, vect__ngram_range=(1, 2), score=0.863, total=  10.4s\n",
      "[CV] clf__C=500, vect__max_df=0.25, vect__min_df=5, vect__ngram_range=(1, 2) \n",
      "[CV]  clf__C=500, vect__max_df=0.25, vect__min_df=5, vect__ngram_range=(1, 2), score=0.856, total=  15.5s\n",
      "[CV] clf__C=500, vect__max_df=0.25, vect__min_df=5, vect__ngram_range=(1, 2) \n",
      "[CV]  clf__C=500, vect__max_df=0.25, vect__min_df=5, vect__ngram_range=(1, 2), score=0.862, total=  10.0s\n",
      "[CV] clf__C=500, vect__max_df=0.5, vect__min_df=2, vect__ngram_range=(1, 2) \n",
      "[CV]  clf__C=500, vect__max_df=0.5, vect__min_df=2, vect__ngram_range=(1, 2), score=0.871, total=   7.6s\n",
      "[CV] clf__C=500, vect__max_df=0.5, vect__min_df=2, vect__ngram_range=(1, 2) \n",
      "[CV]  clf__C=500, vect__max_df=0.5, vect__min_df=2, vect__ngram_range=(1, 2), score=0.867, total=  10.4s\n",
      "[CV] clf__C=500, vect__max_df=0.5, vect__min_df=2, vect__ngram_range=(1, 2) \n",
      "[CV]  clf__C=500, vect__max_df=0.5, vect__min_df=2, vect__ngram_range=(1, 2), score=0.871, total=   8.2s\n",
      "[CV] clf__C=500, vect__max_df=0.5, vect__min_df=5, vect__ngram_range=(1, 2) \n",
      "[CV]  clf__C=500, vect__max_df=0.5, vect__min_df=5, vect__ngram_range=(1, 2), score=0.859, total=   8.2s\n",
      "[CV] clf__C=500, vect__max_df=0.5, vect__min_df=5, vect__ngram_range=(1, 2) \n",
      "[CV]  clf__C=500, vect__max_df=0.5, vect__min_df=5, vect__ngram_range=(1, 2), score=0.858, total=   9.6s\n",
      "[CV] clf__C=500, vect__max_df=0.5, vect__min_df=5, vect__ngram_range=(1, 2) \n",
      "[CV]  clf__C=500, vect__max_df=0.5, vect__min_df=5, vect__ngram_range=(1, 2), score=0.861, total=   8.6s\n"
     ]
    },
    {
     "name": "stderr",
     "output_type": "stream",
     "text": [
      "[Parallel(n_jobs=1)]: Done  36 out of  36 | elapsed:  5.9min finished\n"
     ]
    },
    {
     "name": "stdout",
     "output_type": "stream",
     "text": [
      "Best parameters:  {'clf__C': 10, 'vect__max_df': 0.5, 'vect__min_df': 2, 'vect__ngram_range': (1, 2)}\n",
      "Accuracy score:  0.8750666666666667\n",
      "Precision score:  0.8772908366533865\n",
      "Recall score:  0.8742721016410799\n",
      "F1 score:  0.875778867824473\n",
      "--------------------------\n",
      "Confusion Matrix:  [[3260  462]\n",
      " [ 475 3303]]\n"
     ]
    }
   ],
   "source": [
    "#we have to find the best parameters for NB\n",
    "parameters = {\"vect__min_df\": [2, 5], \"vect__max_df\": [0.25, 0.5], \"vect__ngram_range\": [(1, 2)], \"clf__C\" : [10, 100,500]}\n",
    "\n",
    "pipeline_svm = Pipeline([('vect', CountVectorizer()),\n",
    "                     ('clf', LinearSVC())])\n",
    "svmgridsearch = GridSearchCV(pipeline_svm, parameters, cv=3, verbose= 5)\n",
    "svmgridsearch.fit(X_train, y_train)\n",
    "\n",
    "y_pred = svmgridsearch.predict(X_test)\n",
    "\n",
    "print('Best parameters: ', svmgridsearch.best_params_)\n",
    "print('Accuracy score: ', format(accuracy_score(y_test, y_pred)))\n",
    "print('Precision score: ', format(precision_score(y_test, y_pred)))\n",
    "print('Recall score: ', format(recall_score(y_test, y_pred)))\n",
    "print('F1 score: ', format(f1_score(y_test, y_pred)))\n",
    "print('--------------------------')\n",
    "print('Confusion Matrix: ',confusion_matrix(y_test, y_pred))"
   ]
  },
  {
   "cell_type": "markdown",
   "metadata": {},
   "source": [
    "In the above we can see that Linear SVC with tfidf(0.886) has greater accuracy than Linear SVC with count vectorizer(0.875)"
   ]
  },
  {
   "cell_type": "markdown",
   "metadata": {},
   "source": [
    "## Random Forest with TF-IDF"
   ]
  },
  {
   "cell_type": "code",
   "execution_count": 54,
   "metadata": {},
   "outputs": [
    {
     "name": "stdout",
     "output_type": "stream",
     "text": [
      "Fitting 3 folds for each of 24 candidates, totalling 72 fits\n"
     ]
    },
    {
     "name": "stderr",
     "output_type": "stream",
     "text": [
      "[Parallel(n_jobs=1)]: Using backend SequentialBackend with 1 concurrent workers.\n"
     ]
    },
    {
     "name": "stdout",
     "output_type": "stream",
     "text": [
      "[CV] clf__max_depth=100, clf__n_estimators=50, tfidf__max_df=0.2, tfidf__min_df=2, tfidf__ngram_range=(1, 2) \n",
      "[CV]  clf__max_depth=100, clf__n_estimators=50, tfidf__max_df=0.2, tfidf__min_df=2, tfidf__ngram_range=(1, 2), score=0.832, total=  19.1s\n"
     ]
    },
    {
     "name": "stderr",
     "output_type": "stream",
     "text": [
      "[Parallel(n_jobs=1)]: Done   1 out of   1 | elapsed:   19.2s remaining:    0.0s\n"
     ]
    },
    {
     "name": "stdout",
     "output_type": "stream",
     "text": [
      "[CV] clf__max_depth=100, clf__n_estimators=50, tfidf__max_df=0.2, tfidf__min_df=2, tfidf__ngram_range=(1, 2) \n",
      "[CV]  clf__max_depth=100, clf__n_estimators=50, tfidf__max_df=0.2, tfidf__min_df=2, tfidf__ngram_range=(1, 2), score=0.836, total=  20.1s\n"
     ]
    },
    {
     "name": "stderr",
     "output_type": "stream",
     "text": [
      "[Parallel(n_jobs=1)]: Done   2 out of   2 | elapsed:   39.4s remaining:    0.0s\n"
     ]
    },
    {
     "name": "stdout",
     "output_type": "stream",
     "text": [
      "[CV] clf__max_depth=100, clf__n_estimators=50, tfidf__max_df=0.2, tfidf__min_df=2, tfidf__ngram_range=(1, 2) \n",
      "[CV]  clf__max_depth=100, clf__n_estimators=50, tfidf__max_df=0.2, tfidf__min_df=2, tfidf__ngram_range=(1, 2), score=0.834, total=  21.1s\n"
     ]
    },
    {
     "name": "stderr",
     "output_type": "stream",
     "text": [
      "[Parallel(n_jobs=1)]: Done   3 out of   3 | elapsed:  1.0min remaining:    0.0s\n"
     ]
    },
    {
     "name": "stdout",
     "output_type": "stream",
     "text": [
      "[CV] clf__max_depth=100, clf__n_estimators=50, tfidf__max_df=0.2, tfidf__min_df=5, tfidf__ngram_range=(1, 2) \n",
      "[CV]  clf__max_depth=100, clf__n_estimators=50, tfidf__max_df=0.2, tfidf__min_df=5, tfidf__ngram_range=(1, 2), score=0.840, total=  15.5s\n"
     ]
    },
    {
     "name": "stderr",
     "output_type": "stream",
     "text": [
      "[Parallel(n_jobs=1)]: Done   4 out of   4 | elapsed:  1.3min remaining:    0.0s\n"
     ]
    },
    {
     "name": "stdout",
     "output_type": "stream",
     "text": [
      "[CV] clf__max_depth=100, clf__n_estimators=50, tfidf__max_df=0.2, tfidf__min_df=5, tfidf__ngram_range=(1, 2) \n",
      "[CV]  clf__max_depth=100, clf__n_estimators=50, tfidf__max_df=0.2, tfidf__min_df=5, tfidf__ngram_range=(1, 2), score=0.838, total=  16.4s\n",
      "[CV] clf__max_depth=100, clf__n_estimators=50, tfidf__max_df=0.2, tfidf__min_df=5, tfidf__ngram_range=(1, 2) \n",
      "[CV]  clf__max_depth=100, clf__n_estimators=50, tfidf__max_df=0.2, tfidf__min_df=5, tfidf__ngram_range=(1, 2), score=0.834, total=  15.9s\n",
      "[CV] clf__max_depth=100, clf__n_estimators=50, tfidf__max_df=0.5, tfidf__min_df=2, tfidf__ngram_range=(1, 2) \n",
      "[CV]  clf__max_depth=100, clf__n_estimators=50, tfidf__max_df=0.5, tfidf__min_df=2, tfidf__ngram_range=(1, 2), score=0.831, total=  21.4s\n",
      "[CV] clf__max_depth=100, clf__n_estimators=50, tfidf__max_df=0.5, tfidf__min_df=2, tfidf__ngram_range=(1, 2) \n",
      "[CV]  clf__max_depth=100, clf__n_estimators=50, tfidf__max_df=0.5, tfidf__min_df=2, tfidf__ngram_range=(1, 2), score=0.836, total=  21.7s\n",
      "[CV] clf__max_depth=100, clf__n_estimators=50, tfidf__max_df=0.5, tfidf__min_df=2, tfidf__ngram_range=(1, 2) \n",
      "[CV]  clf__max_depth=100, clf__n_estimators=50, tfidf__max_df=0.5, tfidf__min_df=2, tfidf__ngram_range=(1, 2), score=0.834, total=  23.8s\n",
      "[CV] clf__max_depth=100, clf__n_estimators=50, tfidf__max_df=0.5, tfidf__min_df=5, tfidf__ngram_range=(1, 2) \n",
      "[CV]  clf__max_depth=100, clf__n_estimators=50, tfidf__max_df=0.5, tfidf__min_df=5, tfidf__ngram_range=(1, 2), score=0.839, total=  16.9s\n",
      "[CV] clf__max_depth=100, clf__n_estimators=50, tfidf__max_df=0.5, tfidf__min_df=5, tfidf__ngram_range=(1, 2) \n",
      "[CV]  clf__max_depth=100, clf__n_estimators=50, tfidf__max_df=0.5, tfidf__min_df=5, tfidf__ngram_range=(1, 2), score=0.834, total=  17.9s\n",
      "[CV] clf__max_depth=100, clf__n_estimators=50, tfidf__max_df=0.5, tfidf__min_df=5, tfidf__ngram_range=(1, 2) \n",
      "[CV]  clf__max_depth=100, clf__n_estimators=50, tfidf__max_df=0.5, tfidf__min_df=5, tfidf__ngram_range=(1, 2), score=0.836, total=  16.6s\n",
      "[CV] clf__max_depth=100, clf__n_estimators=100, tfidf__max_df=0.2, tfidf__min_df=2, tfidf__ngram_range=(1, 2) \n",
      "[CV]  clf__max_depth=100, clf__n_estimators=100, tfidf__max_df=0.2, tfidf__min_df=2, tfidf__ngram_range=(1, 2), score=0.846, total=  35.3s\n",
      "[CV] clf__max_depth=100, clf__n_estimators=100, tfidf__max_df=0.2, tfidf__min_df=2, tfidf__ngram_range=(1, 2) \n",
      "[CV]  clf__max_depth=100, clf__n_estimators=100, tfidf__max_df=0.2, tfidf__min_df=2, tfidf__ngram_range=(1, 2), score=0.848, total=  39.9s\n",
      "[CV] clf__max_depth=100, clf__n_estimators=100, tfidf__max_df=0.2, tfidf__min_df=2, tfidf__ngram_range=(1, 2) \n",
      "[CV]  clf__max_depth=100, clf__n_estimators=100, tfidf__max_df=0.2, tfidf__min_df=2, tfidf__ngram_range=(1, 2), score=0.849, total=  32.1s\n",
      "[CV] clf__max_depth=100, clf__n_estimators=100, tfidf__max_df=0.2, tfidf__min_df=5, tfidf__ngram_range=(1, 2) \n",
      "[CV]  clf__max_depth=100, clf__n_estimators=100, tfidf__max_df=0.2, tfidf__min_df=5, tfidf__ngram_range=(1, 2), score=0.843, total=  24.6s\n",
      "[CV] clf__max_depth=100, clf__n_estimators=100, tfidf__max_df=0.2, tfidf__min_df=5, tfidf__ngram_range=(1, 2) \n",
      "[CV]  clf__max_depth=100, clf__n_estimators=100, tfidf__max_df=0.2, tfidf__min_df=5, tfidf__ngram_range=(1, 2), score=0.844, total=  23.4s\n",
      "[CV] clf__max_depth=100, clf__n_estimators=100, tfidf__max_df=0.2, tfidf__min_df=5, tfidf__ngram_range=(1, 2) \n",
      "[CV]  clf__max_depth=100, clf__n_estimators=100, tfidf__max_df=0.2, tfidf__min_df=5, tfidf__ngram_range=(1, 2), score=0.842, total=  21.6s\n",
      "[CV] clf__max_depth=100, clf__n_estimators=100, tfidf__max_df=0.5, tfidf__min_df=2, tfidf__ngram_range=(1, 2) \n",
      "[CV]  clf__max_depth=100, clf__n_estimators=100, tfidf__max_df=0.5, tfidf__min_df=2, tfidf__ngram_range=(1, 2), score=0.839, total=  33.7s\n",
      "[CV] clf__max_depth=100, clf__n_estimators=100, tfidf__max_df=0.5, tfidf__min_df=2, tfidf__ngram_range=(1, 2) \n",
      "[CV]  clf__max_depth=100, clf__n_estimators=100, tfidf__max_df=0.5, tfidf__min_df=2, tfidf__ngram_range=(1, 2), score=0.851, total=  35.2s\n",
      "[CV] clf__max_depth=100, clf__n_estimators=100, tfidf__max_df=0.5, tfidf__min_df=2, tfidf__ngram_range=(1, 2) \n",
      "[CV]  clf__max_depth=100, clf__n_estimators=100, tfidf__max_df=0.5, tfidf__min_df=2, tfidf__ngram_range=(1, 2), score=0.847, total=  35.3s\n",
      "[CV] clf__max_depth=100, clf__n_estimators=100, tfidf__max_df=0.5, tfidf__min_df=5, tfidf__ngram_range=(1, 2) \n",
      "[CV]  clf__max_depth=100, clf__n_estimators=100, tfidf__max_df=0.5, tfidf__min_df=5, tfidf__ngram_range=(1, 2), score=0.842, total=  25.4s\n",
      "[CV] clf__max_depth=100, clf__n_estimators=100, tfidf__max_df=0.5, tfidf__min_df=5, tfidf__ngram_range=(1, 2) \n",
      "[CV]  clf__max_depth=100, clf__n_estimators=100, tfidf__max_df=0.5, tfidf__min_df=5, tfidf__ngram_range=(1, 2), score=0.848, total=  25.0s\n",
      "[CV] clf__max_depth=100, clf__n_estimators=100, tfidf__max_df=0.5, tfidf__min_df=5, tfidf__ngram_range=(1, 2) \n",
      "[CV]  clf__max_depth=100, clf__n_estimators=100, tfidf__max_df=0.5, tfidf__min_df=5, tfidf__ngram_range=(1, 2), score=0.841, total=  21.2s\n",
      "[CV] clf__max_depth=100, clf__n_estimators=200, tfidf__max_df=0.2, tfidf__min_df=2, tfidf__ngram_range=(1, 2) \n",
      "[CV]  clf__max_depth=100, clf__n_estimators=200, tfidf__max_df=0.2, tfidf__min_df=2, tfidf__ngram_range=(1, 2), score=0.852, total=  51.8s\n",
      "[CV] clf__max_depth=100, clf__n_estimators=200, tfidf__max_df=0.2, tfidf__min_df=2, tfidf__ngram_range=(1, 2) \n",
      "[CV]  clf__max_depth=100, clf__n_estimators=200, tfidf__max_df=0.2, tfidf__min_df=2, tfidf__ngram_range=(1, 2), score=0.849, total=  57.0s\n",
      "[CV] clf__max_depth=100, clf__n_estimators=200, tfidf__max_df=0.2, tfidf__min_df=2, tfidf__ngram_range=(1, 2) \n",
      "[CV]  clf__max_depth=100, clf__n_estimators=200, tfidf__max_df=0.2, tfidf__min_df=2, tfidf__ngram_range=(1, 2), score=0.855, total= 1.0min\n",
      "[CV] clf__max_depth=100, clf__n_estimators=200, tfidf__max_df=0.2, tfidf__min_df=5, tfidf__ngram_range=(1, 2) \n",
      "[CV]  clf__max_depth=100, clf__n_estimators=200, tfidf__max_df=0.2, tfidf__min_df=5, tfidf__ngram_range=(1, 2), score=0.849, total=  38.7s\n",
      "[CV] clf__max_depth=100, clf__n_estimators=200, tfidf__max_df=0.2, tfidf__min_df=5, tfidf__ngram_range=(1, 2) \n",
      "[CV]  clf__max_depth=100, clf__n_estimators=200, tfidf__max_df=0.2, tfidf__min_df=5, tfidf__ngram_range=(1, 2), score=0.847, total=  43.1s\n",
      "[CV] clf__max_depth=100, clf__n_estimators=200, tfidf__max_df=0.2, tfidf__min_df=5, tfidf__ngram_range=(1, 2) \n",
      "[CV]  clf__max_depth=100, clf__n_estimators=200, tfidf__max_df=0.2, tfidf__min_df=5, tfidf__ngram_range=(1, 2), score=0.845, total=  38.0s\n",
      "[CV] clf__max_depth=100, clf__n_estimators=200, tfidf__max_df=0.5, tfidf__min_df=2, tfidf__ngram_range=(1, 2) \n",
      "[CV]  clf__max_depth=100, clf__n_estimators=200, tfidf__max_df=0.5, tfidf__min_df=2, tfidf__ngram_range=(1, 2), score=0.849, total= 1.0min\n",
      "[CV] clf__max_depth=100, clf__n_estimators=200, tfidf__max_df=0.5, tfidf__min_df=2, tfidf__ngram_range=(1, 2) \n",
      "[CV]  clf__max_depth=100, clf__n_estimators=200, tfidf__max_df=0.5, tfidf__min_df=2, tfidf__ngram_range=(1, 2), score=0.859, total= 1.0min\n",
      "[CV] clf__max_depth=100, clf__n_estimators=200, tfidf__max_df=0.5, tfidf__min_df=2, tfidf__ngram_range=(1, 2) \n",
      "[CV]  clf__max_depth=100, clf__n_estimators=200, tfidf__max_df=0.5, tfidf__min_df=2, tfidf__ngram_range=(1, 2), score=0.852, total= 1.0min\n",
      "[CV] clf__max_depth=100, clf__n_estimators=200, tfidf__max_df=0.5, tfidf__min_df=5, tfidf__ngram_range=(1, 2) \n",
      "[CV]  clf__max_depth=100, clf__n_estimators=200, tfidf__max_df=0.5, tfidf__min_df=5, tfidf__ngram_range=(1, 2), score=0.848, total=  40.4s\n",
      "[CV] clf__max_depth=100, clf__n_estimators=200, tfidf__max_df=0.5, tfidf__min_df=5, tfidf__ngram_range=(1, 2) \n",
      "[CV]  clf__max_depth=100, clf__n_estimators=200, tfidf__max_df=0.5, tfidf__min_df=5, tfidf__ngram_range=(1, 2), score=0.857, total=  37.9s\n",
      "[CV] clf__max_depth=100, clf__n_estimators=200, tfidf__max_df=0.5, tfidf__min_df=5, tfidf__ngram_range=(1, 2) \n",
      "[CV]  clf__max_depth=100, clf__n_estimators=200, tfidf__max_df=0.5, tfidf__min_df=5, tfidf__ngram_range=(1, 2), score=0.849, total=  41.5s\n",
      "[CV] clf__max_depth=1000, clf__n_estimators=50, tfidf__max_df=0.2, tfidf__min_df=2, tfidf__ngram_range=(1, 2) \n"
     ]
    },
    {
     "name": "stdout",
     "output_type": "stream",
     "text": [
      "[CV]  clf__max_depth=1000, clf__n_estimators=50, tfidf__max_df=0.2, tfidf__min_df=2, tfidf__ngram_range=(1, 2), score=0.834, total=  22.8s\n",
      "[CV] clf__max_depth=1000, clf__n_estimators=50, tfidf__max_df=0.2, tfidf__min_df=2, tfidf__ngram_range=(1, 2) \n",
      "[CV]  clf__max_depth=1000, clf__n_estimators=50, tfidf__max_df=0.2, tfidf__min_df=2, tfidf__ngram_range=(1, 2), score=0.828, total=  23.0s\n",
      "[CV] clf__max_depth=1000, clf__n_estimators=50, tfidf__max_df=0.2, tfidf__min_df=2, tfidf__ngram_range=(1, 2) \n",
      "[CV]  clf__max_depth=1000, clf__n_estimators=50, tfidf__max_df=0.2, tfidf__min_df=2, tfidf__ngram_range=(1, 2), score=0.828, total=  23.5s\n",
      "[CV] clf__max_depth=1000, clf__n_estimators=50, tfidf__max_df=0.2, tfidf__min_df=5, tfidf__ngram_range=(1, 2) \n",
      "[CV]  clf__max_depth=1000, clf__n_estimators=50, tfidf__max_df=0.2, tfidf__min_df=5, tfidf__ngram_range=(1, 2), score=0.832, total=  16.6s\n",
      "[CV] clf__max_depth=1000, clf__n_estimators=50, tfidf__max_df=0.2, tfidf__min_df=5, tfidf__ngram_range=(1, 2) \n",
      "[CV]  clf__max_depth=1000, clf__n_estimators=50, tfidf__max_df=0.2, tfidf__min_df=5, tfidf__ngram_range=(1, 2), score=0.836, total=  18.0s\n",
      "[CV] clf__max_depth=1000, clf__n_estimators=50, tfidf__max_df=0.2, tfidf__min_df=5, tfidf__ngram_range=(1, 2) \n",
      "[CV]  clf__max_depth=1000, clf__n_estimators=50, tfidf__max_df=0.2, tfidf__min_df=5, tfidf__ngram_range=(1, 2), score=0.828, total=  17.3s\n",
      "[CV] clf__max_depth=1000, clf__n_estimators=50, tfidf__max_df=0.5, tfidf__min_df=2, tfidf__ngram_range=(1, 2) \n",
      "[CV]  clf__max_depth=1000, clf__n_estimators=50, tfidf__max_df=0.5, tfidf__min_df=2, tfidf__ngram_range=(1, 2), score=0.831, total=  23.2s\n",
      "[CV] clf__max_depth=1000, clf__n_estimators=50, tfidf__max_df=0.5, tfidf__min_df=2, tfidf__ngram_range=(1, 2) \n",
      "[CV]  clf__max_depth=1000, clf__n_estimators=50, tfidf__max_df=0.5, tfidf__min_df=2, tfidf__ngram_range=(1, 2), score=0.832, total=  24.3s\n",
      "[CV] clf__max_depth=1000, clf__n_estimators=50, tfidf__max_df=0.5, tfidf__min_df=2, tfidf__ngram_range=(1, 2) \n",
      "[CV]  clf__max_depth=1000, clf__n_estimators=50, tfidf__max_df=0.5, tfidf__min_df=2, tfidf__ngram_range=(1, 2), score=0.834, total=  24.1s\n",
      "[CV] clf__max_depth=1000, clf__n_estimators=50, tfidf__max_df=0.5, tfidf__min_df=5, tfidf__ngram_range=(1, 2) \n",
      "[CV]  clf__max_depth=1000, clf__n_estimators=50, tfidf__max_df=0.5, tfidf__min_df=5, tfidf__ngram_range=(1, 2), score=0.834, total=  19.8s\n",
      "[CV] clf__max_depth=1000, clf__n_estimators=50, tfidf__max_df=0.5, tfidf__min_df=5, tfidf__ngram_range=(1, 2) \n",
      "[CV]  clf__max_depth=1000, clf__n_estimators=50, tfidf__max_df=0.5, tfidf__min_df=5, tfidf__ngram_range=(1, 2), score=0.830, total=  17.4s\n",
      "[CV] clf__max_depth=1000, clf__n_estimators=50, tfidf__max_df=0.5, tfidf__min_df=5, tfidf__ngram_range=(1, 2) \n",
      "[CV]  clf__max_depth=1000, clf__n_estimators=50, tfidf__max_df=0.5, tfidf__min_df=5, tfidf__ngram_range=(1, 2), score=0.836, total=  16.0s\n",
      "[CV] clf__max_depth=1000, clf__n_estimators=100, tfidf__max_df=0.2, tfidf__min_df=2, tfidf__ngram_range=(1, 2) \n",
      "[CV]  clf__max_depth=1000, clf__n_estimators=100, tfidf__max_df=0.2, tfidf__min_df=2, tfidf__ngram_range=(1, 2), score=0.844, total=  37.5s\n",
      "[CV] clf__max_depth=1000, clf__n_estimators=100, tfidf__max_df=0.2, tfidf__min_df=2, tfidf__ngram_range=(1, 2) \n",
      "[CV]  clf__max_depth=1000, clf__n_estimators=100, tfidf__max_df=0.2, tfidf__min_df=2, tfidf__ngram_range=(1, 2), score=0.846, total=  37.5s\n",
      "[CV] clf__max_depth=1000, clf__n_estimators=100, tfidf__max_df=0.2, tfidf__min_df=2, tfidf__ngram_range=(1, 2) \n",
      "[CV]  clf__max_depth=1000, clf__n_estimators=100, tfidf__max_df=0.2, tfidf__min_df=2, tfidf__ngram_range=(1, 2), score=0.847, total=  39.1s\n",
      "[CV] clf__max_depth=1000, clf__n_estimators=100, tfidf__max_df=0.2, tfidf__min_df=5, tfidf__ngram_range=(1, 2) \n",
      "[CV]  clf__max_depth=1000, clf__n_estimators=100, tfidf__max_df=0.2, tfidf__min_df=5, tfidf__ngram_range=(1, 2), score=0.845, total=  26.7s\n",
      "[CV] clf__max_depth=1000, clf__n_estimators=100, tfidf__max_df=0.2, tfidf__min_df=5, tfidf__ngram_range=(1, 2) \n",
      "[CV]  clf__max_depth=1000, clf__n_estimators=100, tfidf__max_df=0.2, tfidf__min_df=5, tfidf__ngram_range=(1, 2), score=0.845, total=  23.8s\n",
      "[CV] clf__max_depth=1000, clf__n_estimators=100, tfidf__max_df=0.2, tfidf__min_df=5, tfidf__ngram_range=(1, 2) \n",
      "[CV]  clf__max_depth=1000, clf__n_estimators=100, tfidf__max_df=0.2, tfidf__min_df=5, tfidf__ngram_range=(1, 2), score=0.844, total=  23.8s\n",
      "[CV] clf__max_depth=1000, clf__n_estimators=100, tfidf__max_df=0.5, tfidf__min_df=2, tfidf__ngram_range=(1, 2) \n",
      "[CV]  clf__max_depth=1000, clf__n_estimators=100, tfidf__max_df=0.5, tfidf__min_df=2, tfidf__ngram_range=(1, 2), score=0.838, total=  38.6s\n",
      "[CV] clf__max_depth=1000, clf__n_estimators=100, tfidf__max_df=0.5, tfidf__min_df=2, tfidf__ngram_range=(1, 2) \n",
      "[CV]  clf__max_depth=1000, clf__n_estimators=100, tfidf__max_df=0.5, tfidf__min_df=2, tfidf__ngram_range=(1, 2), score=0.847, total=  37.3s\n",
      "[CV] clf__max_depth=1000, clf__n_estimators=100, tfidf__max_df=0.5, tfidf__min_df=2, tfidf__ngram_range=(1, 2) \n",
      "[CV]  clf__max_depth=1000, clf__n_estimators=100, tfidf__max_df=0.5, tfidf__min_df=2, tfidf__ngram_range=(1, 2), score=0.843, total=  37.0s\n",
      "[CV] clf__max_depth=1000, clf__n_estimators=100, tfidf__max_df=0.5, tfidf__min_df=5, tfidf__ngram_range=(1, 2) \n",
      "[CV]  clf__max_depth=1000, clf__n_estimators=100, tfidf__max_df=0.5, tfidf__min_df=5, tfidf__ngram_range=(1, 2), score=0.840, total=  23.8s\n",
      "[CV] clf__max_depth=1000, clf__n_estimators=100, tfidf__max_df=0.5, tfidf__min_df=5, tfidf__ngram_range=(1, 2) \n",
      "[CV]  clf__max_depth=1000, clf__n_estimators=100, tfidf__max_df=0.5, tfidf__min_df=5, tfidf__ngram_range=(1, 2), score=0.847, total=  24.1s\n",
      "[CV] clf__max_depth=1000, clf__n_estimators=100, tfidf__max_df=0.5, tfidf__min_df=5, tfidf__ngram_range=(1, 2) \n",
      "[CV]  clf__max_depth=1000, clf__n_estimators=100, tfidf__max_df=0.5, tfidf__min_df=5, tfidf__ngram_range=(1, 2), score=0.841, total=  25.4s\n",
      "[CV] clf__max_depth=1000, clf__n_estimators=200, tfidf__max_df=0.2, tfidf__min_df=2, tfidf__ngram_range=(1, 2) \n",
      "[CV]  clf__max_depth=1000, clf__n_estimators=200, tfidf__max_df=0.2, tfidf__min_df=2, tfidf__ngram_range=(1, 2), score=0.849, total= 1.2min\n",
      "[CV] clf__max_depth=1000, clf__n_estimators=200, tfidf__max_df=0.2, tfidf__min_df=2, tfidf__ngram_range=(1, 2) \n",
      "[CV]  clf__max_depth=1000, clf__n_estimators=200, tfidf__max_df=0.2, tfidf__min_df=2, tfidf__ngram_range=(1, 2), score=0.855, total= 1.2min\n",
      "[CV] clf__max_depth=1000, clf__n_estimators=200, tfidf__max_df=0.2, tfidf__min_df=2, tfidf__ngram_range=(1, 2) \n",
      "[CV]  clf__max_depth=1000, clf__n_estimators=200, tfidf__max_df=0.2, tfidf__min_df=2, tfidf__ngram_range=(1, 2), score=0.852, total= 1.2min\n",
      "[CV] clf__max_depth=1000, clf__n_estimators=200, tfidf__max_df=0.2, tfidf__min_df=5, tfidf__ngram_range=(1, 2) \n",
      "[CV]  clf__max_depth=1000, clf__n_estimators=200, tfidf__max_df=0.2, tfidf__min_df=5, tfidf__ngram_range=(1, 2), score=0.848, total=  46.9s\n",
      "[CV] clf__max_depth=1000, clf__n_estimators=200, tfidf__max_df=0.2, tfidf__min_df=5, tfidf__ngram_range=(1, 2) \n",
      "[CV]  clf__max_depth=1000, clf__n_estimators=200, tfidf__max_df=0.2, tfidf__min_df=5, tfidf__ngram_range=(1, 2), score=0.846, total=  46.0s\n",
      "[CV] clf__max_depth=1000, clf__n_estimators=200, tfidf__max_df=0.2, tfidf__min_df=5, tfidf__ngram_range=(1, 2) \n",
      "[CV]  clf__max_depth=1000, clf__n_estimators=200, tfidf__max_df=0.2, tfidf__min_df=5, tfidf__ngram_range=(1, 2), score=0.847, total=  48.6s\n",
      "[CV] clf__max_depth=1000, clf__n_estimators=200, tfidf__max_df=0.5, tfidf__min_df=2, tfidf__ngram_range=(1, 2) \n",
      "[CV]  clf__max_depth=1000, clf__n_estimators=200, tfidf__max_df=0.5, tfidf__min_df=2, tfidf__ngram_range=(1, 2), score=0.846, total= 1.3min\n",
      "[CV] clf__max_depth=1000, clf__n_estimators=200, tfidf__max_df=0.5, tfidf__min_df=2, tfidf__ngram_range=(1, 2) \n",
      "[CV]  clf__max_depth=1000, clf__n_estimators=200, tfidf__max_df=0.5, tfidf__min_df=2, tfidf__ngram_range=(1, 2), score=0.852, total= 1.4min\n",
      "[CV] clf__max_depth=1000, clf__n_estimators=200, tfidf__max_df=0.5, tfidf__min_df=2, tfidf__ngram_range=(1, 2) \n",
      "[CV]  clf__max_depth=1000, clf__n_estimators=200, tfidf__max_df=0.5, tfidf__min_df=2, tfidf__ngram_range=(1, 2), score=0.853, total= 1.2min\n"
     ]
    },
    {
     "name": "stdout",
     "output_type": "stream",
     "text": [
      "[CV] clf__max_depth=1000, clf__n_estimators=200, tfidf__max_df=0.5, tfidf__min_df=5, tfidf__ngram_range=(1, 2) \n",
      "[CV]  clf__max_depth=1000, clf__n_estimators=200, tfidf__max_df=0.5, tfidf__min_df=5, tfidf__ngram_range=(1, 2), score=0.844, total=  44.6s\n",
      "[CV] clf__max_depth=1000, clf__n_estimators=200, tfidf__max_df=0.5, tfidf__min_df=5, tfidf__ngram_range=(1, 2) \n",
      "[CV]  clf__max_depth=1000, clf__n_estimators=200, tfidf__max_df=0.5, tfidf__min_df=5, tfidf__ngram_range=(1, 2), score=0.852, total=  50.4s\n",
      "[CV] clf__max_depth=1000, clf__n_estimators=200, tfidf__max_df=0.5, tfidf__min_df=5, tfidf__ngram_range=(1, 2) \n",
      "[CV]  clf__max_depth=1000, clf__n_estimators=200, tfidf__max_df=0.5, tfidf__min_df=5, tfidf__ngram_range=(1, 2), score=0.849, total=  50.7s\n"
     ]
    },
    {
     "name": "stderr",
     "output_type": "stream",
     "text": [
      "[Parallel(n_jobs=1)]: Done  72 out of  72 | elapsed: 42.4min finished\n"
     ]
    },
    {
     "name": "stdout",
     "output_type": "stream",
     "text": [
      "Best parameters:  {'clf__max_depth': 100, 'clf__n_estimators': 200, 'tfidf__max_df': 0.5, 'tfidf__min_df': 2, 'tfidf__ngram_range': (1, 2)}\n",
      "Accuracy score:  0.86\n",
      "Precision score:  0.8676549865229111\n",
      "Recall score:  0.8520381154049762\n",
      "F1 score:  0.859775641025641\n",
      "--------------------------\n",
      "Confusion Matrix:  [[3231  491]\n",
      " [ 559 3219]]\n"
     ]
    }
   ],
   "source": [
    "\n",
    "#we have to find the best parameters\n",
    "parameters = {\"tfidf__min_df\": [2, 5],\"tfidf__max_df\":[0.2, 0.5] ,\"tfidf__ngram_range\": [(1, 2)], \"clf__n_estimators\" : [50, 100, 200], \"clf__max_depth\": [100, 1000]}\n",
    "\n",
    "pipeline_rf = Pipeline([('tfidf', TfidfVectorizer()),\n",
    "                     ('clf', RandomForestClassifier())])\n",
    "rfgridsearch = GridSearchCV(pipeline_rf, parameters, cv=3, verbose=5)\n",
    "rfgridsearch.fit(X_train, y_train)\n",
    "\n",
    "y_pred = rfgridsearch.predict(X_test)\n",
    "print('Best parameters: ', rfgridsearch.best_params_)\n",
    "print('Accuracy score: ', format(accuracy_score(y_test, y_pred)))\n",
    "print('Precision score: ', format(precision_score(y_test, y_pred)))\n",
    "print('Recall score: ', format(recall_score(y_test, y_pred)))\n",
    "print('F1 score: ', format(f1_score(y_test, y_pred)))\n",
    "print('--------------------------')\n",
    "print('Confusion Matrix: ',confusion_matrix(y_test, y_pred))"
   ]
  },
  {
   "cell_type": "markdown",
   "metadata": {},
   "source": [
    "## Random Forest with Count Vectorizer"
   ]
  },
  {
   "cell_type": "code",
   "execution_count": 55,
   "metadata": {},
   "outputs": [
    {
     "name": "stdout",
     "output_type": "stream",
     "text": [
      "Fitting 3 folds for each of 24 candidates, totalling 72 fits\n"
     ]
    },
    {
     "name": "stderr",
     "output_type": "stream",
     "text": [
      "[Parallel(n_jobs=1)]: Using backend SequentialBackend with 1 concurrent workers.\n"
     ]
    },
    {
     "name": "stdout",
     "output_type": "stream",
     "text": [
      "[CV] clf__max_depth=100, clf__n_estimators=50, vect__max_df=0.2, vect__min_df=2, vect__ngram_range=(1, 2) \n",
      "[CV]  clf__max_depth=100, clf__n_estimators=50, vect__max_df=0.2, vect__min_df=2, vect__ngram_range=(1, 2), score=0.832, total=  21.1s\n"
     ]
    },
    {
     "name": "stderr",
     "output_type": "stream",
     "text": [
      "[Parallel(n_jobs=1)]: Done   1 out of   1 | elapsed:   21.0s remaining:    0.0s\n"
     ]
    },
    {
     "name": "stdout",
     "output_type": "stream",
     "text": [
      "[CV] clf__max_depth=100, clf__n_estimators=50, vect__max_df=0.2, vect__min_df=2, vect__ngram_range=(1, 2) \n",
      "[CV]  clf__max_depth=100, clf__n_estimators=50, vect__max_df=0.2, vect__min_df=2, vect__ngram_range=(1, 2), score=0.839, total=  23.5s\n"
     ]
    },
    {
     "name": "stderr",
     "output_type": "stream",
     "text": [
      "[Parallel(n_jobs=1)]: Done   2 out of   2 | elapsed:   44.6s remaining:    0.0s\n"
     ]
    },
    {
     "name": "stdout",
     "output_type": "stream",
     "text": [
      "[CV] clf__max_depth=100, clf__n_estimators=50, vect__max_df=0.2, vect__min_df=2, vect__ngram_range=(1, 2) \n",
      "[CV]  clf__max_depth=100, clf__n_estimators=50, vect__max_df=0.2, vect__min_df=2, vect__ngram_range=(1, 2), score=0.837, total=  23.0s\n"
     ]
    },
    {
     "name": "stderr",
     "output_type": "stream",
     "text": [
      "[Parallel(n_jobs=1)]: Done   3 out of   3 | elapsed:  1.1min remaining:    0.0s\n"
     ]
    },
    {
     "name": "stdout",
     "output_type": "stream",
     "text": [
      "[CV] clf__max_depth=100, clf__n_estimators=50, vect__max_df=0.2, vect__min_df=5, vect__ngram_range=(1, 2) \n",
      "[CV]  clf__max_depth=100, clf__n_estimators=50, vect__max_df=0.2, vect__min_df=5, vect__ngram_range=(1, 2), score=0.831, total=  17.1s\n"
     ]
    },
    {
     "name": "stderr",
     "output_type": "stream",
     "text": [
      "[Parallel(n_jobs=1)]: Done   4 out of   4 | elapsed:  1.4min remaining:    0.0s\n"
     ]
    },
    {
     "name": "stdout",
     "output_type": "stream",
     "text": [
      "[CV] clf__max_depth=100, clf__n_estimators=50, vect__max_df=0.2, vect__min_df=5, vect__ngram_range=(1, 2) \n",
      "[CV]  clf__max_depth=100, clf__n_estimators=50, vect__max_df=0.2, vect__min_df=5, vect__ngram_range=(1, 2), score=0.835, total=  16.3s\n",
      "[CV] clf__max_depth=100, clf__n_estimators=50, vect__max_df=0.2, vect__min_df=5, vect__ngram_range=(1, 2) \n",
      "[CV]  clf__max_depth=100, clf__n_estimators=50, vect__max_df=0.2, vect__min_df=5, vect__ngram_range=(1, 2), score=0.837, total=  14.8s\n",
      "[CV] clf__max_depth=100, clf__n_estimators=50, vect__max_df=0.5, vect__min_df=2, vect__ngram_range=(1, 2) \n",
      "[CV]  clf__max_depth=100, clf__n_estimators=50, vect__max_df=0.5, vect__min_df=2, vect__ngram_range=(1, 2), score=0.834, total=  19.7s\n",
      "[CV] clf__max_depth=100, clf__n_estimators=50, vect__max_df=0.5, vect__min_df=2, vect__ngram_range=(1, 2) \n",
      "[CV]  clf__max_depth=100, clf__n_estimators=50, vect__max_df=0.5, vect__min_df=2, vect__ngram_range=(1, 2), score=0.833, total=  20.7s\n",
      "[CV] clf__max_depth=100, clf__n_estimators=50, vect__max_df=0.5, vect__min_df=2, vect__ngram_range=(1, 2) \n",
      "[CV]  clf__max_depth=100, clf__n_estimators=50, vect__max_df=0.5, vect__min_df=2, vect__ngram_range=(1, 2), score=0.838, total=  19.6s\n",
      "[CV] clf__max_depth=100, clf__n_estimators=50, vect__max_df=0.5, vect__min_df=5, vect__ngram_range=(1, 2) \n",
      "[CV]  clf__max_depth=100, clf__n_estimators=50, vect__max_df=0.5, vect__min_df=5, vect__ngram_range=(1, 2), score=0.830, total=  16.5s\n",
      "[CV] clf__max_depth=100, clf__n_estimators=50, vect__max_df=0.5, vect__min_df=5, vect__ngram_range=(1, 2) \n",
      "[CV]  clf__max_depth=100, clf__n_estimators=50, vect__max_df=0.5, vect__min_df=5, vect__ngram_range=(1, 2), score=0.840, total=  15.1s\n",
      "[CV] clf__max_depth=100, clf__n_estimators=50, vect__max_df=0.5, vect__min_df=5, vect__ngram_range=(1, 2) \n",
      "[CV]  clf__max_depth=100, clf__n_estimators=50, vect__max_df=0.5, vect__min_df=5, vect__ngram_range=(1, 2), score=0.833, total=  15.7s\n",
      "[CV] clf__max_depth=100, clf__n_estimators=100, vect__max_df=0.2, vect__min_df=2, vect__ngram_range=(1, 2) \n",
      "[CV]  clf__max_depth=100, clf__n_estimators=100, vect__max_df=0.2, vect__min_df=2, vect__ngram_range=(1, 2), score=0.844, total=  30.3s\n",
      "[CV] clf__max_depth=100, clf__n_estimators=100, vect__max_df=0.2, vect__min_df=2, vect__ngram_range=(1, 2) \n",
      "[CV]  clf__max_depth=100, clf__n_estimators=100, vect__max_df=0.2, vect__min_df=2, vect__ngram_range=(1, 2), score=0.855, total=  30.6s\n",
      "[CV] clf__max_depth=100, clf__n_estimators=100, vect__max_df=0.2, vect__min_df=2, vect__ngram_range=(1, 2) \n",
      "[CV]  clf__max_depth=100, clf__n_estimators=100, vect__max_df=0.2, vect__min_df=2, vect__ngram_range=(1, 2), score=0.845, total=  35.6s\n",
      "[CV] clf__max_depth=100, clf__n_estimators=100, vect__max_df=0.2, vect__min_df=5, vect__ngram_range=(1, 2) \n",
      "[CV]  clf__max_depth=100, clf__n_estimators=100, vect__max_df=0.2, vect__min_df=5, vect__ngram_range=(1, 2), score=0.839, total=  24.0s\n",
      "[CV] clf__max_depth=100, clf__n_estimators=100, vect__max_df=0.2, vect__min_df=5, vect__ngram_range=(1, 2) \n",
      "[CV]  clf__max_depth=100, clf__n_estimators=100, vect__max_df=0.2, vect__min_df=5, vect__ngram_range=(1, 2), score=0.846, total=  25.3s\n",
      "[CV] clf__max_depth=100, clf__n_estimators=100, vect__max_df=0.2, vect__min_df=5, vect__ngram_range=(1, 2) \n",
      "[CV]  clf__max_depth=100, clf__n_estimators=100, vect__max_df=0.2, vect__min_df=5, vect__ngram_range=(1, 2), score=0.843, total=  25.7s\n",
      "[CV] clf__max_depth=100, clf__n_estimators=100, vect__max_df=0.5, vect__min_df=2, vect__ngram_range=(1, 2) \n",
      "[CV]  clf__max_depth=100, clf__n_estimators=100, vect__max_df=0.5, vect__min_df=2, vect__ngram_range=(1, 2), score=0.841, total=  38.4s\n",
      "[CV] clf__max_depth=100, clf__n_estimators=100, vect__max_df=0.5, vect__min_df=2, vect__ngram_range=(1, 2) \n",
      "[CV]  clf__max_depth=100, clf__n_estimators=100, vect__max_df=0.5, vect__min_df=2, vect__ngram_range=(1, 2), score=0.855, total=  36.2s\n",
      "[CV] clf__max_depth=100, clf__n_estimators=100, vect__max_df=0.5, vect__min_df=2, vect__ngram_range=(1, 2) \n",
      "[CV]  clf__max_depth=100, clf__n_estimators=100, vect__max_df=0.5, vect__min_df=2, vect__ngram_range=(1, 2), score=0.847, total=  38.3s\n",
      "[CV] clf__max_depth=100, clf__n_estimators=100, vect__max_df=0.5, vect__min_df=5, vect__ngram_range=(1, 2) \n",
      "[CV]  clf__max_depth=100, clf__n_estimators=100, vect__max_df=0.5, vect__min_df=5, vect__ngram_range=(1, 2), score=0.844, total=  25.5s\n",
      "[CV] clf__max_depth=100, clf__n_estimators=100, vect__max_df=0.5, vect__min_df=5, vect__ngram_range=(1, 2) \n",
      "[CV]  clf__max_depth=100, clf__n_estimators=100, vect__max_df=0.5, vect__min_df=5, vect__ngram_range=(1, 2), score=0.848, total=  26.5s\n",
      "[CV] clf__max_depth=100, clf__n_estimators=100, vect__max_df=0.5, vect__min_df=5, vect__ngram_range=(1, 2) \n",
      "[CV]  clf__max_depth=100, clf__n_estimators=100, vect__max_df=0.5, vect__min_df=5, vect__ngram_range=(1, 2), score=0.845, total=  27.3s\n",
      "[CV] clf__max_depth=100, clf__n_estimators=200, vect__max_df=0.2, vect__min_df=2, vect__ngram_range=(1, 2) \n",
      "[CV]  clf__max_depth=100, clf__n_estimators=200, vect__max_df=0.2, vect__min_df=2, vect__ngram_range=(1, 2), score=0.853, total=  57.1s\n",
      "[CV] clf__max_depth=100, clf__n_estimators=200, vect__max_df=0.2, vect__min_df=2, vect__ngram_range=(1, 2) \n",
      "[CV]  clf__max_depth=100, clf__n_estimators=200, vect__max_df=0.2, vect__min_df=2, vect__ngram_range=(1, 2), score=0.857, total=  55.8s\n",
      "[CV] clf__max_depth=100, clf__n_estimators=200, vect__max_df=0.2, vect__min_df=2, vect__ngram_range=(1, 2) \n",
      "[CV]  clf__max_depth=100, clf__n_estimators=200, vect__max_df=0.2, vect__min_df=2, vect__ngram_range=(1, 2), score=0.856, total=  59.9s\n",
      "[CV] clf__max_depth=100, clf__n_estimators=200, vect__max_df=0.2, vect__min_df=5, vect__ngram_range=(1, 2) \n",
      "[CV]  clf__max_depth=100, clf__n_estimators=200, vect__max_df=0.2, vect__min_df=5, vect__ngram_range=(1, 2), score=0.854, total=  41.6s\n",
      "[CV] clf__max_depth=100, clf__n_estimators=200, vect__max_df=0.2, vect__min_df=5, vect__ngram_range=(1, 2) \n",
      "[CV]  clf__max_depth=100, clf__n_estimators=200, vect__max_df=0.2, vect__min_df=5, vect__ngram_range=(1, 2), score=0.856, total=  39.9s\n",
      "[CV] clf__max_depth=100, clf__n_estimators=200, vect__max_df=0.2, vect__min_df=5, vect__ngram_range=(1, 2) \n",
      "[CV]  clf__max_depth=100, clf__n_estimators=200, vect__max_df=0.2, vect__min_df=5, vect__ngram_range=(1, 2), score=0.849, total=  41.2s\n",
      "[CV] clf__max_depth=100, clf__n_estimators=200, vect__max_df=0.5, vect__min_df=2, vect__ngram_range=(1, 2) \n",
      "[CV]  clf__max_depth=100, clf__n_estimators=200, vect__max_df=0.5, vect__min_df=2, vect__ngram_range=(1, 2), score=0.851, total= 1.1min\n",
      "[CV] clf__max_depth=100, clf__n_estimators=200, vect__max_df=0.5, vect__min_df=2, vect__ngram_range=(1, 2) \n",
      "[CV]  clf__max_depth=100, clf__n_estimators=200, vect__max_df=0.5, vect__min_df=2, vect__ngram_range=(1, 2), score=0.861, total= 1.1min\n",
      "[CV] clf__max_depth=100, clf__n_estimators=200, vect__max_df=0.5, vect__min_df=2, vect__ngram_range=(1, 2) \n",
      "[CV]  clf__max_depth=100, clf__n_estimators=200, vect__max_df=0.5, vect__min_df=2, vect__ngram_range=(1, 2), score=0.856, total= 1.1min\n",
      "[CV] clf__max_depth=100, clf__n_estimators=200, vect__max_df=0.5, vect__min_df=5, vect__ngram_range=(1, 2) \n",
      "[CV]  clf__max_depth=100, clf__n_estimators=200, vect__max_df=0.5, vect__min_df=5, vect__ngram_range=(1, 2), score=0.850, total=  46.5s\n",
      "[CV] clf__max_depth=100, clf__n_estimators=200, vect__max_df=0.5, vect__min_df=5, vect__ngram_range=(1, 2) \n",
      "[CV]  clf__max_depth=100, clf__n_estimators=200, vect__max_df=0.5, vect__min_df=5, vect__ngram_range=(1, 2), score=0.857, total=  42.9s\n",
      "[CV] clf__max_depth=100, clf__n_estimators=200, vect__max_df=0.5, vect__min_df=5, vect__ngram_range=(1, 2) \n",
      "[CV]  clf__max_depth=100, clf__n_estimators=200, vect__max_df=0.5, vect__min_df=5, vect__ngram_range=(1, 2), score=0.851, total=  39.1s\n",
      "[CV] clf__max_depth=1000, clf__n_estimators=50, vect__max_df=0.2, vect__min_df=2, vect__ngram_range=(1, 2) \n",
      "[CV]  clf__max_depth=1000, clf__n_estimators=50, vect__max_df=0.2, vect__min_df=2, vect__ngram_range=(1, 2), score=0.836, total=  22.6s\n",
      "[CV] clf__max_depth=1000, clf__n_estimators=50, vect__max_df=0.2, vect__min_df=2, vect__ngram_range=(1, 2) \n"
     ]
    },
    {
     "name": "stdout",
     "output_type": "stream",
     "text": [
      "[CV]  clf__max_depth=1000, clf__n_estimators=50, vect__max_df=0.2, vect__min_df=2, vect__ngram_range=(1, 2), score=0.835, total=  22.1s\n",
      "[CV] clf__max_depth=1000, clf__n_estimators=50, vect__max_df=0.2, vect__min_df=2, vect__ngram_range=(1, 2) \n",
      "[CV]  clf__max_depth=1000, clf__n_estimators=50, vect__max_df=0.2, vect__min_df=2, vect__ngram_range=(1, 2), score=0.842, total=  22.1s\n",
      "[CV] clf__max_depth=1000, clf__n_estimators=50, vect__max_df=0.2, vect__min_df=5, vect__ngram_range=(1, 2) \n",
      "[CV]  clf__max_depth=1000, clf__n_estimators=50, vect__max_df=0.2, vect__min_df=5, vect__ngram_range=(1, 2), score=0.826, total=  14.6s\n",
      "[CV] clf__max_depth=1000, clf__n_estimators=50, vect__max_df=0.2, vect__min_df=5, vect__ngram_range=(1, 2) \n",
      "[CV]  clf__max_depth=1000, clf__n_estimators=50, vect__max_df=0.2, vect__min_df=5, vect__ngram_range=(1, 2), score=0.840, total=  17.0s\n",
      "[CV] clf__max_depth=1000, clf__n_estimators=50, vect__max_df=0.2, vect__min_df=5, vect__ngram_range=(1, 2) \n",
      "[CV]  clf__max_depth=1000, clf__n_estimators=50, vect__max_df=0.2, vect__min_df=5, vect__ngram_range=(1, 2), score=0.836, total=  19.0s\n",
      "[CV] clf__max_depth=1000, clf__n_estimators=50, vect__max_df=0.5, vect__min_df=2, vect__ngram_range=(1, 2) \n",
      "[CV]  clf__max_depth=1000, clf__n_estimators=50, vect__max_df=0.5, vect__min_df=2, vect__ngram_range=(1, 2), score=0.823, total=  28.0s\n",
      "[CV] clf__max_depth=1000, clf__n_estimators=50, vect__max_df=0.5, vect__min_df=2, vect__ngram_range=(1, 2) \n",
      "[CV]  clf__max_depth=1000, clf__n_estimators=50, vect__max_df=0.5, vect__min_df=2, vect__ngram_range=(1, 2), score=0.843, total=  24.5s\n",
      "[CV] clf__max_depth=1000, clf__n_estimators=50, vect__max_df=0.5, vect__min_df=2, vect__ngram_range=(1, 2) \n",
      "[CV]  clf__max_depth=1000, clf__n_estimators=50, vect__max_df=0.5, vect__min_df=2, vect__ngram_range=(1, 2), score=0.840, total=  26.9s\n",
      "[CV] clf__max_depth=1000, clf__n_estimators=50, vect__max_df=0.5, vect__min_df=5, vect__ngram_range=(1, 2) \n",
      "[CV]  clf__max_depth=1000, clf__n_estimators=50, vect__max_df=0.5, vect__min_df=5, vect__ngram_range=(1, 2), score=0.827, total=  18.5s\n",
      "[CV] clf__max_depth=1000, clf__n_estimators=50, vect__max_df=0.5, vect__min_df=5, vect__ngram_range=(1, 2) \n",
      "[CV]  clf__max_depth=1000, clf__n_estimators=50, vect__max_df=0.5, vect__min_df=5, vect__ngram_range=(1, 2), score=0.840, total=  19.0s\n",
      "[CV] clf__max_depth=1000, clf__n_estimators=50, vect__max_df=0.5, vect__min_df=5, vect__ngram_range=(1, 2) \n",
      "[CV]  clf__max_depth=1000, clf__n_estimators=50, vect__max_df=0.5, vect__min_df=5, vect__ngram_range=(1, 2), score=0.834, total=  18.8s\n",
      "[CV] clf__max_depth=1000, clf__n_estimators=100, vect__max_df=0.2, vect__min_df=2, vect__ngram_range=(1, 2) \n",
      "[CV]  clf__max_depth=1000, clf__n_estimators=100, vect__max_df=0.2, vect__min_df=2, vect__ngram_range=(1, 2), score=0.842, total=  41.9s\n",
      "[CV] clf__max_depth=1000, clf__n_estimators=100, vect__max_df=0.2, vect__min_df=2, vect__ngram_range=(1, 2) \n",
      "[CV]  clf__max_depth=1000, clf__n_estimators=100, vect__max_df=0.2, vect__min_df=2, vect__ngram_range=(1, 2), score=0.856, total=  48.8s\n",
      "[CV] clf__max_depth=1000, clf__n_estimators=100, vect__max_df=0.2, vect__min_df=2, vect__ngram_range=(1, 2) \n",
      "[CV]  clf__max_depth=1000, clf__n_estimators=100, vect__max_df=0.2, vect__min_df=2, vect__ngram_range=(1, 2), score=0.849, total=  42.5s\n",
      "[CV] clf__max_depth=1000, clf__n_estimators=100, vect__max_df=0.2, vect__min_df=5, vect__ngram_range=(1, 2) \n",
      "[CV]  clf__max_depth=1000, clf__n_estimators=100, vect__max_df=0.2, vect__min_df=5, vect__ngram_range=(1, 2), score=0.844, total=  23.7s\n",
      "[CV] clf__max_depth=1000, clf__n_estimators=100, vect__max_df=0.2, vect__min_df=5, vect__ngram_range=(1, 2) \n",
      "[CV]  clf__max_depth=1000, clf__n_estimators=100, vect__max_df=0.2, vect__min_df=5, vect__ngram_range=(1, 2), score=0.849, total=  27.0s\n",
      "[CV] clf__max_depth=1000, clf__n_estimators=100, vect__max_df=0.2, vect__min_df=5, vect__ngram_range=(1, 2) \n",
      "[CV]  clf__max_depth=1000, clf__n_estimators=100, vect__max_df=0.2, vect__min_df=5, vect__ngram_range=(1, 2), score=0.844, total=  29.1s\n",
      "[CV] clf__max_depth=1000, clf__n_estimators=100, vect__max_df=0.5, vect__min_df=2, vect__ngram_range=(1, 2) \n",
      "[CV]  clf__max_depth=1000, clf__n_estimators=100, vect__max_df=0.5, vect__min_df=2, vect__ngram_range=(1, 2), score=0.840, total=  41.6s\n",
      "[CV] clf__max_depth=1000, clf__n_estimators=100, vect__max_df=0.5, vect__min_df=2, vect__ngram_range=(1, 2) \n",
      "[CV]  clf__max_depth=1000, clf__n_estimators=100, vect__max_df=0.5, vect__min_df=2, vect__ngram_range=(1, 2), score=0.860, total=  43.3s\n",
      "[CV] clf__max_depth=1000, clf__n_estimators=100, vect__max_df=0.5, vect__min_df=2, vect__ngram_range=(1, 2) \n",
      "[CV]  clf__max_depth=1000, clf__n_estimators=100, vect__max_df=0.5, vect__min_df=2, vect__ngram_range=(1, 2), score=0.849, total=  41.2s\n",
      "[CV] clf__max_depth=1000, clf__n_estimators=100, vect__max_df=0.5, vect__min_df=5, vect__ngram_range=(1, 2) \n",
      "[CV]  clf__max_depth=1000, clf__n_estimators=100, vect__max_df=0.5, vect__min_df=5, vect__ngram_range=(1, 2), score=0.834, total=  28.3s\n",
      "[CV] clf__max_depth=1000, clf__n_estimators=100, vect__max_df=0.5, vect__min_df=5, vect__ngram_range=(1, 2) \n",
      "[CV]  clf__max_depth=1000, clf__n_estimators=100, vect__max_df=0.5, vect__min_df=5, vect__ngram_range=(1, 2), score=0.850, total=  28.5s\n",
      "[CV] clf__max_depth=1000, clf__n_estimators=100, vect__max_df=0.5, vect__min_df=5, vect__ngram_range=(1, 2) \n",
      "[CV]  clf__max_depth=1000, clf__n_estimators=100, vect__max_df=0.5, vect__min_df=5, vect__ngram_range=(1, 2), score=0.843, total=  26.4s\n",
      "[CV] clf__max_depth=1000, clf__n_estimators=200, vect__max_df=0.2, vect__min_df=2, vect__ngram_range=(1, 2) \n",
      "[CV]  clf__max_depth=1000, clf__n_estimators=200, vect__max_df=0.2, vect__min_df=2, vect__ngram_range=(1, 2), score=0.853, total= 1.2min\n",
      "[CV] clf__max_depth=1000, clf__n_estimators=200, vect__max_df=0.2, vect__min_df=2, vect__ngram_range=(1, 2) \n",
      "[CV]  clf__max_depth=1000, clf__n_estimators=200, vect__max_df=0.2, vect__min_df=2, vect__ngram_range=(1, 2), score=0.859, total= 1.2min\n",
      "[CV] clf__max_depth=1000, clf__n_estimators=200, vect__max_df=0.2, vect__min_df=2, vect__ngram_range=(1, 2) \n",
      "[CV]  clf__max_depth=1000, clf__n_estimators=200, vect__max_df=0.2, vect__min_df=2, vect__ngram_range=(1, 2), score=0.848, total= 1.2min\n",
      "[CV] clf__max_depth=1000, clf__n_estimators=200, vect__max_df=0.2, vect__min_df=5, vect__ngram_range=(1, 2) \n",
      "[CV]  clf__max_depth=1000, clf__n_estimators=200, vect__max_df=0.2, vect__min_df=5, vect__ngram_range=(1, 2), score=0.848, total=  44.0s\n",
      "[CV] clf__max_depth=1000, clf__n_estimators=200, vect__max_df=0.2, vect__min_df=5, vect__ngram_range=(1, 2) \n",
      "[CV]  clf__max_depth=1000, clf__n_estimators=200, vect__max_df=0.2, vect__min_df=5, vect__ngram_range=(1, 2), score=0.854, total=  44.9s\n",
      "[CV] clf__max_depth=1000, clf__n_estimators=200, vect__max_df=0.2, vect__min_df=5, vect__ngram_range=(1, 2) \n",
      "[CV]  clf__max_depth=1000, clf__n_estimators=200, vect__max_df=0.2, vect__min_df=5, vect__ngram_range=(1, 2), score=0.849, total=  46.1s\n",
      "[CV] clf__max_depth=1000, clf__n_estimators=200, vect__max_df=0.5, vect__min_df=2, vect__ngram_range=(1, 2) \n",
      "[CV]  clf__max_depth=1000, clf__n_estimators=200, vect__max_df=0.5, vect__min_df=2, vect__ngram_range=(1, 2), score=0.851, total= 1.4min\n",
      "[CV] clf__max_depth=1000, clf__n_estimators=200, vect__max_df=0.5, vect__min_df=2, vect__ngram_range=(1, 2) \n",
      "[CV]  clf__max_depth=1000, clf__n_estimators=200, vect__max_df=0.5, vect__min_df=2, vect__ngram_range=(1, 2), score=0.860, total= 1.3min\n",
      "[CV] clf__max_depth=1000, clf__n_estimators=200, vect__max_df=0.5, vect__min_df=2, vect__ngram_range=(1, 2) \n",
      "[CV]  clf__max_depth=1000, clf__n_estimators=200, vect__max_df=0.5, vect__min_df=2, vect__ngram_range=(1, 2), score=0.857, total= 1.4min\n",
      "[CV] clf__max_depth=1000, clf__n_estimators=200, vect__max_df=0.5, vect__min_df=5, vect__ngram_range=(1, 2) \n",
      "[CV]  clf__max_depth=1000, clf__n_estimators=200, vect__max_df=0.5, vect__min_df=5, vect__ngram_range=(1, 2), score=0.847, total=  49.3s\n",
      "[CV] clf__max_depth=1000, clf__n_estimators=200, vect__max_df=0.5, vect__min_df=5, vect__ngram_range=(1, 2) \n"
     ]
    },
    {
     "name": "stdout",
     "output_type": "stream",
     "text": [
      "[CV]  clf__max_depth=1000, clf__n_estimators=200, vect__max_df=0.5, vect__min_df=5, vect__ngram_range=(1, 2), score=0.859, total=  51.0s\n",
      "[CV] clf__max_depth=1000, clf__n_estimators=200, vect__max_df=0.5, vect__min_df=5, vect__ngram_range=(1, 2) \n",
      "[CV]  clf__max_depth=1000, clf__n_estimators=200, vect__max_df=0.5, vect__min_df=5, vect__ngram_range=(1, 2), score=0.851, total=  50.4s\n"
     ]
    },
    {
     "name": "stderr",
     "output_type": "stream",
     "text": [
      "[Parallel(n_jobs=1)]: Done  72 out of  72 | elapsed: 44.1min finished\n"
     ]
    },
    {
     "name": "stdout",
     "output_type": "stream",
     "text": [
      "Best parameters:  {'clf__max_depth': 100, 'clf__n_estimators': 200, 'vect__max_df': 0.5, 'vect__min_df': 2, 'vect__ngram_range': (1, 2)}\n",
      "Accuracy score:  0.8625333333333334\n",
      "Precision score:  0.8651954267482053\n",
      "Recall score:  0.8613022763366861\n",
      "F1 score:  0.863244462130256\n",
      "--------------------------\n",
      "Confusion Matrix:  [[3215  507]\n",
      " [ 524 3254]]\n"
     ]
    }
   ],
   "source": [
    "\n",
    "#we have to find the best parameters\n",
    "parameters = {\"vect__min_df\": [2, 5], \"vect__max_df\": [0.2, 0.5], \"vect__ngram_range\": [(1, 2)], \"clf__n_estimators\" : [50, 100, 200], \"clf__max_depth\": [100, 1000]}\n",
    "\n",
    "pipeline_rf = Pipeline([('vect', CountVectorizer()),\n",
    "                     ('clf', RandomForestClassifier())])\n",
    "rfgridsearch = GridSearchCV(pipeline_rf, parameters, cv=3, verbose=5)\n",
    "rfgridsearch.fit(X_train, y_train)\n",
    "\n",
    "y_pred = rfgridsearch.predict(X_test)\n",
    "print('Best parameters: ', rfgridsearch.best_params_)\n",
    "print('Accuracy score: ', format(accuracy_score(y_test, y_pred)))\n",
    "print('Precision score: ', format(precision_score(y_test, y_pred)))\n",
    "print('Recall score: ', format(recall_score(y_test, y_pred)))\n",
    "print('F1 score: ', format(f1_score(y_test, y_pred)))\n",
    "print('--------------------------')\n",
    "print('Confusion Matrix: ',confusion_matrix(y_test, y_pred))"
   ]
  },
  {
   "cell_type": "markdown",
   "metadata": {},
   "source": [
    "In the above we can see that Random Forest with tfidf(0.86) has lesser accuracy than Random Forest with count vectorizer(0.862), thats really a minute difference\n",
    "Only in Random Forest Count Vectorizer acts better that tfidf"
   ]
  },
  {
   "cell_type": "code",
   "execution_count": 56,
   "metadata": {},
   "outputs": [],
   "source": [
    "from matplotlib.pyplot import*\n",
    "import matplotlib.pyplot as plt\n",
    "import seaborn as sns"
   ]
  },
  {
   "cell_type": "code",
   "execution_count": 57,
   "metadata": {},
   "outputs": [
    {
     "data": {
      "text/plain": [
       "<BarContainer object of 8 artists>"
      ]
     },
     "execution_count": 57,
     "metadata": {},
     "output_type": "execute_result"
    },
    {
     "data": {
      "image/png": "[encoded data removed]",
      "text/plain": [
       "<Figure size 1440x720 with 1 Axes>"
      ]
     },
     "metadata": {},
     "output_type": "display_data"
    }
   ],
   "source": [
    "ax = plt.subplots(1, 1, figsize=(20, 10))\n",
    "accuracy_d =  ['0.860','0.862','0.873','0.875','0.879','0.883','0.886','0.893']\n",
    "model_names = ['rf_tfidf','rf_cv','nb_cv','svm_cv','nb_tfidf','lr_cv', 'svm_tfidf','lr_tfidf']\n",
    "matplotlib.pyplot.bar(model_names, accuracy_d, width=0.8, bottom=None,  align='center', data=None)"
   ]
  },
  {
   "cell_type": "markdown",
   "metadata": {},
   "source": [
    "# Final Selected Model\n",
    "### From 8 models, we can see Logistic regression with tfidf has the best accuracy so we consider this as our best model\n",
    "\n",
    "Logistic Regression: C = 10\n",
    "TF-IDF: min_df = 2, ngram_range = (1 ,2)"
   ]
  },
  {
   "cell_type": "code",
   "execution_count": 58,
   "metadata": {},
   "outputs": [
    {
     "name": "stdout",
     "output_type": "stream",
     "text": [
      "Accuracy score:  0.88524\n",
      "Precision score:  0.8892571336189475\n",
      "Recall score:  0.88008\n",
      "F1 score:  0.8846447669977081\n",
      "--------------------------\n",
      "Confusion Matrix:  [[11130  1370]\n",
      " [ 1499 11001]]\n"
     ]
    }
   ],
   "source": [
    "\n",
    "final_model_pipeline = Pipeline([('tfidf', TfidfVectorizer(min_df = 2, max_df = 0.25, ngram_range=(1, 2))),\n",
    "                     ('clf', LogisticRegression(C=10))])\n",
    "final_model_pipeline.fit(x_train_review, y_train_label)\n",
    "\n",
    "y_pred1 = final_model_pipeline.predict(x_test_review)\n",
    "\n",
    "print('Accuracy score: ', format(accuracy_score(y_test_label, y_pred1)))\n",
    "print('Precision score: ', format(precision_score(y_test_label, y_pred1)))\n",
    "print('Recall score: ', format(recall_score(y_test_label, y_pred1)))\n",
    "print('F1 score: ', format(f1_score(y_test_label, y_pred1)))\n",
    "print('--------------------------')\n",
    "print('Confusion Matrix: ',confusion_matrix(y_test_label, y_pred1))\n"
   ]
  },
  {
   "cell_type": "markdown",
   "metadata": {},
   "source": [
    "Final model accuracy of Logistic Regression with testing datasets is 0.88524 accuracy which is displayed with Precision score, recall score, F1 score and representation of confusion matrix"
   ]
  },
  {
   "cell_type": "code",
   "execution_count": 60,
   "metadata": {},
   "outputs": [
    {
     "data": {
      "image/png": "[encoded data removed]",
      "text/plain": [
       "<Figure size 432x360 with 1 Axes>"
      ]
     },
     "metadata": {},
     "output_type": "display_data"
    }
   ],
   "source": [
    "import matplotlib.pyplot as plt\n",
    "\n",
    "plt.scatter(x=y_pred1, y=y_test_label)\n",
    "plt.xlim([-5,5])\n",
    "plt.ylim([-5,5])\n",
    "plt.title('Prediction on Testing datasets using LR')\n",
    "plt.show()"
   ]
  }
 ],
 "metadata": {
  "accelerator": "GPU",
  "colab": {
   "name": "ProjectFinal.ipynb",
   "provenance": [],
   "toc_visible": true
  },
  "kernelspec": {
   "display_name": "Python 3",
   "language": "python",
   "name": "python3"
  },
  "language_info": {
   "codemirror_mode": {
    "name": "ipython",
    "version": 3
   },
   "file_extension": ".py",
   "mimetype": "text/x-python",
   "name": "python",
   "nbconvert_exporter": "python",
   "pygments_lexer": "ipython3",
   "version": "3.7.4"
  }
 },
 "nbformat": 4,
 "nbformat_minor": 1
}
